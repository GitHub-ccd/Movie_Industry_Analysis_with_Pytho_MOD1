{
 "cells": [
  {
   "cell_type": "markdown",
   "metadata": {},
   "source": [
    " <h1 align=\"center\" style=\"font-size:200%; color:blue\">External data sources</h1><br>\n",
    "\n",
    "As the initial data given were of poor quality alternative sources had to be searched. Following 3 sources were the most readily available and of high quality\n",
    "* IMBD free API\n",
    "* IMDBpro data search with paid subscription along with web scraping\n",
    "* TMDB free API"
   ]
  },
  {
   "cell_type": "code",
   "execution_count": 1,
   "metadata": {},
   "outputs": [],
   "source": [
    "import pandas as pd\n",
    "import numpy as np\n",
    "import os\n",
    "import time\n",
    "from csv import writer\n",
    "from bs4 import BeautifulSoup\n",
    "from imdb import IMDb"
   ]
  },
  {
   "cell_type": "markdown",
   "metadata": {},
   "source": [
    "# IMDB API \n",
    "direct from IMDB and registering is not required.  \n",
    "This was working well on testing but due to forgetting to put a delay in the loop I was blocked out of IMDB"
   ]
  },
  {
   "cell_type": "code",
   "execution_count": 2,
   "metadata": {},
   "outputs": [],
   "source": [
    "#movies=pd.read_csv('revenue.csv')\n",
    "#movies['rank'] = movies['rank'].str.replace(',', '')\n",
    "#movies['rank'] = movies['rank'].astype('int64')\n",
    "###print(movies.head(2))\n",
    "###print(movies.info())"
   ]
  },
  {
   "cell_type": "code",
   "execution_count": 3,
   "metadata": {},
   "outputs": [],
   "source": [
    "def append_list_as_row(file_name, list_of_elem):\n",
    "    # Open file in append mode\n",
    "    with open(file_name, 'a+', newline='') as write_obj:\n",
    "        # Create a writer object from csv module\n",
    "        csv_writer = writer(write_obj)\n",
    "        # Add contents of list as last row in the csv file\n",
    "        csv_writer.writerow(list_of_elem) "
   ]
  },
  {
   "cell_type": "code",
   "execution_count": 4,
   "metadata": {},
   "outputs": [],
   "source": [
    "def getIMDB_info(tconst):\n",
    "    # create an instance of the IMDb class\n",
    "    ia = IMDb()\n",
    "    \n",
    "    # get a movie\n",
    "    movie = ia.get_movie(tconst.replace(\"tt\",\"\"))\n",
    "    # Wait for 5 seconds\n",
    "    time.sleep(4)\n",
    "\n",
    "    # return language of the movie\n",
    "    movie_lang=''\n",
    "    for lang in movie['language']:\n",
    "        movie_lang=movie_lang+\",\"+lang\n",
    "\n",
    "    # return country of the movie\n",
    "    movie_country=movie['country']\n",
    "    \n",
    "    # print the genres of the movie\n",
    "    movie_genres = ''\n",
    "    for genre in movie['genres']:\n",
    "        movie_genres=movie_genres+\",\"+genre\n",
    "\n",
    "    # print the runtime of the movie\n",
    "    movie_mins = str(movie['runtime'][0])\n",
    "\n",
    "    # print the averageRating of the movie\n",
    "    movie_rate=str(movie['rating'])\n",
    "\n",
    "    return movie_lang, movie_country, movie_genres, movie_mins, movie_rate"
   ]
  },
  {
   "cell_type": "code",
   "execution_count": 5,
   "metadata": {},
   "outputs": [],
   "source": [
    "#movies2 = movies.loc[0:10]\n",
    "\n",
    "#movies2['language'] = movies2['imdb_id'].map(lambda x: getIMDB_info(x))\n",
    "#print(movies2)\n",
    "\n",
    "#for index, rows in movies2.iterrows():\n",
    "#    lang, country, genres, mins, rate  = getIMDB_info(rows.imdb_id)\n",
    "#    ### str(rows.rank) # there is a serious problem with this\n",
    "#    mylist=[rows.imdb_id, rows.title, rows.year, rows.director, rows.production_co, rows.budget_usd, rows.us_gross, lang, country, genres, mins, rate]\n",
    "#    \n",
    "#    print(mylist)\n",
    "#    append_list_as_row('IMDB_download.csv', mylist)"
   ]
  },
  {
   "cell_type": "markdown",
   "metadata": {},
   "source": [
    "# IMDBpro\n",
    "Credits: Jesse Neuman developed webscraping code\n",
    "An API was not offered. This web-scraping is neededlogin is required. Normal scraping is not easy. \n",
    "\n",
    "1. search result loaded\n",
    "       search results are lazy loaded and scrolling down manually is quite time consuming. This Jesse developed the following  java script on console to automate the scrolling\n",
    "\n",
    "var lastScrollHeight = 0;\n",
    "function autoScroll() {\n",
    "  var sh = document.documentElement.scrollHeight;\n",
    "  if (sh != lastScrollHeight) {\n",
    "    lastScrollHeight = sh;\n",
    "    document.documentElement.scrollTop = sh;\n",
    "  }\n",
    "}\n",
    "var id = window.setInterval(autoScroll, 100);\n",
    "\n",
    "once it's scrolled to the bottom the page is saved locally so that scraping can be done locally avoiding the login issue. \n",
    "\n",
    "## parse the saved html file fom BeautifulSoup's HTML parser"
   ]
  },
  {
   "cell_type": "code",
   "execution_count": 6,
   "metadata": {},
   "outputs": [],
   "source": [
    "def read_html(file_path):\n",
    "    \"\"\"Takes a saved html page and returns the results container that holds all the targeted info\n",
    "\n",
    "    Arguments:\n",
    "        file_path (string): path to find the saved html page\n",
    "\n",
    "    Returns:\n",
    "        result (BeautifulSoup object): or None if result wasn't found\n",
    "    \"\"\"\n",
    "    # strip all the actor elements from the first html\n",
    "    with open(file_path, 'r', encoding='utf8') as f_html:\n",
    "        html = BeautifulSoup(f_html, \"html.parser\")\n",
    "        # pull out only the elements we want\n",
    "        result = html.find('div', id='results').ul.find_all(\n",
    "            'li', recursive=False)\n",
    "        return result if result else None"
   ]
  },
  {
   "cell_type": "code",
   "execution_count": 7,
   "metadata": {},
   "outputs": [],
   "source": [
    "# setup paths for importing raw html\n",
    "#movie_html_a_path = os.path.join('Data', 'IMDbPro_search.html')\n",
    "#print(movie_html_a_path)\n",
    "#movie_html_b_path = os.path.join(\n",
    "#    os.pardir, 'data', 'external', 'movie_money_1m_minus.htm')"
   ]
  },
  {
   "cell_type": "code",
   "execution_count": 8,
   "metadata": {},
   "outputs": [],
   "source": [
    "money_a = read_html('../SavedHTML/IMDbPro_search.html') # this DB is too big for GitHub. Had to take out of repo"
   ]
  },
  {
   "cell_type": "code",
   "execution_count": 9,
   "metadata": {},
   "outputs": [
    {
     "name": "stdout",
     "output_type": "stream",
     "text": [
      "type of container 1: <class 'bs4.element.ResultSet'>\n",
      "size of container 1: 10001\n"
     ]
    }
   ],
   "source": [
    "# sanity check the results\n",
    "print('type of container 1: {}'.format(\n",
    "    type(money_a)))\n",
    "print('size of container 1: {}'.format(\n",
    "    len(money_a)))"
   ]
  },
  {
   "cell_type": "code",
   "execution_count": 10,
   "metadata": {
    "scrolled": false
   },
   "outputs": [],
   "source": [
    "# container parser\n",
    "def money_parser(soup):\n",
    "    \"\"\"Parses through an array of soup objects and takes out the relevant info\n",
    "\n",
    "    Arguments:\n",
    "        soup (bs4.element.ResultSet): Chunk to search through\n",
    "\n",
    "    Returns:\n",
    "        results (List): A list of dictionaries \n",
    "    \"\"\"\n",
    "    results = []\n",
    "    i = 0\n",
    "    for title in soup:\n",
    "        result = {\n",
    "            'imdb_id': title.find('span', class_='display-title').a.get('href')[27:36] if title.find('span', class_='display-title') else None,\n",
    "            'title': title.find('span', class_='display-title').a.get_text() if title.find('span', class_='display-title') else None,\n",
    "            'year': title.find('span', class_='year').get_text()[1:-1] if title.find('span', class_='year') else None,\n",
    "            'director': title.find('span', class_='display-name').a.get_text() if title.find('span', class_='display-name') else None,\n",
    "            'production_co': title.find('span', class_='display-company').a.get_text() if title.find('span', class_='display-company') else None,\n",
    "            'region_code': title.find('span', class_='region_code').get_text().strip() if title.find('span', class_='region_code') else None,\n",
    "            'rank': title.find('span', class_='ranking').get_text().strip() if title.find('span', class_='ranking') else None,\n",
    "            'budget_usd': title.find('span', class_='budget_usd').get_text().strip() if title.find('span', class_='budget_usd') else None,\n",
    "            'us_gross': title.find('span', class_='us_gross').get_text().strip() if title.find('span', class_='us_gross') else None\n",
    "        }\n",
    "\n",
    "        for li in title.find_all(\"li\"):\n",
    "            li_txt = li.get_text().strip()\n",
    "            # 'Country' & 'Countries' difficult to get!!!\n",
    "            #if 'Country' in li_txt:\n",
    "            #    c=li_txt.replace('Country:', '').strip()\n",
    "            #    #print(c)\n",
    "            #    result['Country'] = c\n",
    "            if 'Genre' in li_txt:\n",
    "                g=li_txt.replace('Genre:', '').strip()\n",
    "                g=g.replace(' |', ',')\n",
    "                #print(g)\n",
    "                result['genres'] = g\n",
    "            else:\n",
    "                result['genres'] = None\n",
    "        #if i >3  :  # unit test \n",
    "        #    break\n",
    "        #i += 1\n",
    "        results.append(result)\n",
    "    return results\n",
    "\n",
    "#money_parser(money_a)"
   ]
  },
  {
   "cell_type": "code",
   "execution_count": 11,
   "metadata": {},
   "outputs": [],
   "source": [
    "parsed_money = money_parser(money_a)"
   ]
  },
  {
   "cell_type": "code",
   "execution_count": 12,
   "metadata": {
    "scrolled": true
   },
   "outputs": [
    {
     "data": {
      "text/plain": [
       "{'imdb_id': 'tt0216651',\n",
       " 'title': 'Vampire Hunter D: Bloodlust',\n",
       " 'year': '2000',\n",
       " 'director': 'Yoshiaki Kawajiri',\n",
       " 'production_co': 'BMG Funhouse',\n",
       " 'region_code': '[JP]',\n",
       " 'rank': '12,782',\n",
       " 'budget_usd': '',\n",
       " 'us_gross': '$151K',\n",
       " 'genres': 'Animation, Action, Fantasy'}"
      ]
     },
     "execution_count": 12,
     "metadata": {},
     "output_type": "execute_result"
    }
   ],
   "source": [
    "parsed_money[8800]"
   ]
  },
  {
   "cell_type": "markdown",
   "metadata": {},
   "source": [
    "## inspect parsed data to confirm successful extraction "
   ]
  },
  {
   "cell_type": "code",
   "execution_count": 13,
   "metadata": {
    "scrolled": true
   },
   "outputs": [],
   "source": [
    "# load up new dataset with the parsed info\n",
    "money_test_df = pd.DataFrame.from_dict(parsed_money)\n",
    "# better to clean a little here before saving .csv\n",
    "money_test_df['year'].fillna(value=-1.0,inplace=True)\n",
    "money_test_df['year'] = money_test_df['year'].astype(int)\n",
    "money_test_df['rank'] = money_test_df['rank'].str.replace(',', '')\n",
    "money_test_df['rank'].fillna(value=-1.0,inplace=True)\n",
    "money_test_df['rank'] = money_test_df['rank'].astype(int)"
   ]
  },
  {
   "cell_type": "code",
   "execution_count": 14,
   "metadata": {},
   "outputs": [
    {
     "name": "stdout",
     "output_type": "stream",
     "text": [
      "<class 'pandas.core.frame.DataFrame'>\n",
      "RangeIndex: 10001 entries, 0 to 10000\n",
      "Data columns (total 10 columns):\n",
      "imdb_id          10000 non-null object\n",
      "title            10000 non-null object\n",
      "year             10001 non-null int32\n",
      "director         9999 non-null object\n",
      "production_co    9926 non-null object\n",
      "region_code      9551 non-null object\n",
      "rank             10001 non-null int32\n",
      "budget_usd       10000 non-null object\n",
      "us_gross         10000 non-null object\n",
      "genres           9999 non-null object\n",
      "dtypes: int32(2), object(8)\n",
      "memory usage: 703.3+ KB\n"
     ]
    }
   ],
   "source": [
    "money_test_df.info()"
   ]
  },
  {
   "cell_type": "code",
   "execution_count": 15,
   "metadata": {},
   "outputs": [
    {
     "data": {
      "text/html": [
       "<div>\n",
       "<style scoped>\n",
       "    .dataframe tbody tr th:only-of-type {\n",
       "        vertical-align: middle;\n",
       "    }\n",
       "\n",
       "    .dataframe tbody tr th {\n",
       "        vertical-align: top;\n",
       "    }\n",
       "\n",
       "    .dataframe thead th {\n",
       "        text-align: right;\n",
       "    }\n",
       "</style>\n",
       "<table border=\"1\" class=\"dataframe\">\n",
       "  <thead>\n",
       "    <tr style=\"text-align: right;\">\n",
       "      <th></th>\n",
       "      <th>year</th>\n",
       "      <th>rank</th>\n",
       "    </tr>\n",
       "  </thead>\n",
       "  <tbody>\n",
       "    <tr>\n",
       "      <td>count</td>\n",
       "      <td>10001.000000</td>\n",
       "      <td>10001.000000</td>\n",
       "    </tr>\n",
       "    <tr>\n",
       "      <td>mean</td>\n",
       "      <td>2001.047995</td>\n",
       "      <td>7237.469953</td>\n",
       "    </tr>\n",
       "    <tr>\n",
       "      <td>std</td>\n",
       "      <td>27.299918</td>\n",
       "      <td>4138.127952</td>\n",
       "    </tr>\n",
       "    <tr>\n",
       "      <td>min</td>\n",
       "      <td>-1.000000</td>\n",
       "      <td>-1.000000</td>\n",
       "    </tr>\n",
       "    <tr>\n",
       "      <td>25%</td>\n",
       "      <td>1992.000000</td>\n",
       "      <td>3640.000000</td>\n",
       "    </tr>\n",
       "    <tr>\n",
       "      <td>50%</td>\n",
       "      <td>2007.000000</td>\n",
       "      <td>7140.000000</td>\n",
       "    </tr>\n",
       "    <tr>\n",
       "      <td>75%</td>\n",
       "      <td>2016.000000</td>\n",
       "      <td>10776.000000</td>\n",
       "    </tr>\n",
       "    <tr>\n",
       "      <td>max</td>\n",
       "      <td>2020.000000</td>\n",
       "      <td>14622.000000</td>\n",
       "    </tr>\n",
       "  </tbody>\n",
       "</table>\n",
       "</div>"
      ],
      "text/plain": [
       "               year          rank\n",
       "count  10001.000000  10001.000000\n",
       "mean    2001.047995   7237.469953\n",
       "std       27.299918   4138.127952\n",
       "min       -1.000000     -1.000000\n",
       "25%     1992.000000   3640.000000\n",
       "50%     2007.000000   7140.000000\n",
       "75%     2016.000000  10776.000000\n",
       "max     2020.000000  14622.000000"
      ]
     },
     "execution_count": 15,
     "metadata": {},
     "output_type": "execute_result"
    }
   ],
   "source": [
    "# look at the description\n",
    "money_test_df.describe()"
   ]
  },
  {
   "cell_type": "code",
   "execution_count": 16,
   "metadata": {},
   "outputs": [
    {
     "data": {
      "text/html": [
       "<div>\n",
       "<style scoped>\n",
       "    .dataframe tbody tr th:only-of-type {\n",
       "        vertical-align: middle;\n",
       "    }\n",
       "\n",
       "    .dataframe tbody tr th {\n",
       "        vertical-align: top;\n",
       "    }\n",
       "\n",
       "    .dataframe thead th {\n",
       "        text-align: right;\n",
       "    }\n",
       "</style>\n",
       "<table border=\"1\" class=\"dataframe\">\n",
       "  <thead>\n",
       "    <tr style=\"text-align: right;\">\n",
       "      <th></th>\n",
       "      <th>imdb_id</th>\n",
       "      <th>title</th>\n",
       "      <th>year</th>\n",
       "      <th>director</th>\n",
       "      <th>production_co</th>\n",
       "      <th>region_code</th>\n",
       "      <th>rank</th>\n",
       "      <th>budget_usd</th>\n",
       "      <th>us_gross</th>\n",
       "      <th>genres</th>\n",
       "    </tr>\n",
       "  </thead>\n",
       "  <tbody>\n",
       "    <tr>\n",
       "      <td>686</td>\n",
       "      <td>tt0151804</td>\n",
       "      <td>Office Space</td>\n",
       "      <td>1999</td>\n",
       "      <td>Mike Judge</td>\n",
       "      <td>Twentieth Century Fox</td>\n",
       "      <td>[US]</td>\n",
       "      <td>1178</td>\n",
       "      <td>$10MM</td>\n",
       "      <td>$11MM</td>\n",
       "      <td>Comedy</td>\n",
       "    </tr>\n",
       "    <tr>\n",
       "      <td>7422</td>\n",
       "      <td>tt7533846</td>\n",
       "      <td>Time of happiness</td>\n",
       "      <td>2017</td>\n",
       "      <td>Senol Sönmez</td>\n",
       "      <td>Nulook Production</td>\n",
       "      <td>[TR]</td>\n",
       "      <td>10666</td>\n",
       "      <td></td>\n",
       "      <td></td>\n",
       "      <td>Comedy, Romance</td>\n",
       "    </tr>\n",
       "    <tr>\n",
       "      <td>8796</td>\n",
       "      <td>tt7213936</td>\n",
       "      <td>What Will People Say</td>\n",
       "      <td>2017</td>\n",
       "      <td>Iram Haq</td>\n",
       "      <td>Mer Film</td>\n",
       "      <td>[NO]</td>\n",
       "      <td>12777</td>\n",
       "      <td></td>\n",
       "      <td>$44K</td>\n",
       "      <td>Drama</td>\n",
       "    </tr>\n",
       "  </tbody>\n",
       "</table>\n",
       "</div>"
      ],
      "text/plain": [
       "        imdb_id                 title  year      director  \\\n",
       "686   tt0151804          Office Space  1999    Mike Judge   \n",
       "7422  tt7533846     Time of happiness  2017  Senol Sönmez   \n",
       "8796  tt7213936  What Will People Say  2017      Iram Haq   \n",
       "\n",
       "              production_co region_code   rank budget_usd us_gross  \\\n",
       "686   Twentieth Century Fox        [US]   1178      $10MM    $11MM   \n",
       "7422      Nulook Production        [TR]  10666                       \n",
       "8796               Mer Film        [NO]  12777                $44K   \n",
       "\n",
       "               genres  \n",
       "686            Comedy  \n",
       "7422  Comedy, Romance  \n",
       "8796            Drama  "
      ]
     },
     "execution_count": 16,
     "metadata": {},
     "output_type": "execute_result"
    }
   ],
   "source": [
    "# look at some samples\n",
    "money_test_df.sample(3)"
   ]
  },
  {
   "cell_type": "code",
   "execution_count": 17,
   "metadata": {
    "scrolled": true
   },
   "outputs": [
    {
     "data": {
      "text/plain": [
       "1"
      ]
     },
     "metadata": {},
     "output_type": "display_data"
    },
    {
     "data": {
      "text/plain": [
       "1"
      ]
     },
     "metadata": {},
     "output_type": "display_data"
    },
    {
     "data": {
      "text/plain": [
       "2"
      ]
     },
     "metadata": {},
     "output_type": "display_data"
    }
   ],
   "source": [
    "# test for na values\n",
    "display(money_test_df['us_gross'].isna().sum())\n",
    "display(money_test_df['budget_usd'].isna().sum())\n",
    "display(money_test_df['genres'].isna().sum())"
   ]
  },
  {
   "cell_type": "markdown",
   "metadata": {},
   "source": [
    "Extracted data looks okay. However, unlike Jesse I got 10,000 records. I will however use this data file and repeate the analysis"
   ]
  },
  {
   "cell_type": "code",
   "execution_count": 18,
   "metadata": {},
   "outputs": [],
   "source": [
    "# safe as an interim file. After scrubbing it will be saved in final form.\n",
    "out_path = os.path.join('Data', 'interim_IMDBpro.csv')\n",
    "money_test_df.to_csv(out_path, index=False)"
   ]
  },
  {
   "cell_type": "markdown",
   "metadata": {},
   "source": [
    "## initial data scrubbing "
   ]
  },
  {
   "cell_type": "code",
   "execution_count": 19,
   "metadata": {},
   "outputs": [
    {
     "data": {
      "text/plain": [
       "7109    tt8652584\n",
       "7098    tt0104549\n",
       "9942    tt0094793\n",
       "Name: imdb_id, dtype: object"
      ]
     },
     "execution_count": 19,
     "metadata": {},
     "output_type": "execute_result"
    }
   ],
   "source": [
    "revenue_df = pd.read_csv(out_path)\n",
    "revenue_df['imdb_id'].sample(3)"
   ]
  },
  {
   "cell_type": "code",
   "execution_count": 20,
   "metadata": {},
   "outputs": [
    {
     "data": {
      "text/html": [
       "<div>\n",
       "<style scoped>\n",
       "    .dataframe tbody tr th:only-of-type {\n",
       "        vertical-align: middle;\n",
       "    }\n",
       "\n",
       "    .dataframe tbody tr th {\n",
       "        vertical-align: top;\n",
       "    }\n",
       "\n",
       "    .dataframe thead th {\n",
       "        text-align: right;\n",
       "    }\n",
       "</style>\n",
       "<table border=\"1\" class=\"dataframe\">\n",
       "  <thead>\n",
       "    <tr style=\"text-align: right;\">\n",
       "      <th></th>\n",
       "      <th>imdb_id</th>\n",
       "      <th>title</th>\n",
       "      <th>year</th>\n",
       "      <th>director</th>\n",
       "      <th>production_co</th>\n",
       "      <th>region_code</th>\n",
       "      <th>rank</th>\n",
       "      <th>budget_usd</th>\n",
       "      <th>us_gross</th>\n",
       "      <th>genres</th>\n",
       "    </tr>\n",
       "  </thead>\n",
       "  <tbody>\n",
       "    <tr>\n",
       "      <td>0</td>\n",
       "      <td>tt8228288</td>\n",
       "      <td>The Platform</td>\n",
       "      <td>2019</td>\n",
       "      <td>Galder Gaztelu-Urrutia</td>\n",
       "      <td>Basque Films</td>\n",
       "      <td>[ES]</td>\n",
       "      <td>1</td>\n",
       "      <td>NaN</td>\n",
       "      <td>NaN</td>\n",
       "      <td>Horror, Sci-Fi, Thriller</td>\n",
       "    </tr>\n",
       "    <tr>\n",
       "      <td>1</td>\n",
       "      <td>tt1598778</td>\n",
       "      <td>Contagion</td>\n",
       "      <td>2011</td>\n",
       "      <td>Steven Soderbergh</td>\n",
       "      <td>Warner Bros.</td>\n",
       "      <td>[US]</td>\n",
       "      <td>2</td>\n",
       "      <td>$60MM</td>\n",
       "      <td>$76MM</td>\n",
       "      <td>Action, Drama, Thriller</td>\n",
       "    </tr>\n",
       "    <tr>\n",
       "      <td>2</td>\n",
       "      <td>tt1051906</td>\n",
       "      <td>The Invisible Man</td>\n",
       "      <td>2020</td>\n",
       "      <td>Leigh Whannell</td>\n",
       "      <td>Universal Pictures</td>\n",
       "      <td>[US]</td>\n",
       "      <td>4</td>\n",
       "      <td>$7MM</td>\n",
       "      <td>$65MM</td>\n",
       "      <td>Horror, Mystery, Sci-Fi</td>\n",
       "    </tr>\n",
       "    <tr>\n",
       "      <td>3</td>\n",
       "      <td>tt8244784</td>\n",
       "      <td>The Hunt</td>\n",
       "      <td>2020</td>\n",
       "      <td>Craig Zobel</td>\n",
       "      <td>Blumhouse Productions</td>\n",
       "      <td>[US]</td>\n",
       "      <td>7</td>\n",
       "      <td>$14MM</td>\n",
       "      <td>$5.8MM</td>\n",
       "      <td>Action, Horror, Thriller</td>\n",
       "    </tr>\n",
       "    <tr>\n",
       "      <td>4</td>\n",
       "      <td>tt1634106</td>\n",
       "      <td>Bloodshot</td>\n",
       "      <td>2020</td>\n",
       "      <td>Dave Wilson</td>\n",
       "      <td>Sony Pictures Entertainment (SPE)</td>\n",
       "      <td>[US]</td>\n",
       "      <td>9</td>\n",
       "      <td>$45MM</td>\n",
       "      <td>$10MM</td>\n",
       "      <td>Action, Drama, Sci-Fi</td>\n",
       "    </tr>\n",
       "  </tbody>\n",
       "</table>\n",
       "</div>"
      ],
      "text/plain": [
       "     imdb_id              title  year                director  \\\n",
       "0  tt8228288       The Platform  2019  Galder Gaztelu-Urrutia   \n",
       "1  tt1598778          Contagion  2011       Steven Soderbergh   \n",
       "2  tt1051906  The Invisible Man  2020          Leigh Whannell   \n",
       "3  tt8244784           The Hunt  2020             Craig Zobel   \n",
       "4  tt1634106          Bloodshot  2020             Dave Wilson   \n",
       "\n",
       "                       production_co region_code  rank budget_usd us_gross  \\\n",
       "0                       Basque Films        [ES]     1        NaN      NaN   \n",
       "1                       Warner Bros.        [US]     2      $60MM    $76MM   \n",
       "2                 Universal Pictures        [US]     4       $7MM    $65MM   \n",
       "3              Blumhouse Productions        [US]     7      $14MM   $5.8MM   \n",
       "4  Sony Pictures Entertainment (SPE)        [US]     9      $45MM    $10MM   \n",
       "\n",
       "                     genres  \n",
       "0  Horror, Sci-Fi, Thriller  \n",
       "1   Action, Drama, Thriller  \n",
       "2   Horror, Mystery, Sci-Fi  \n",
       "3  Action, Horror, Thriller  \n",
       "4     Action, Drama, Sci-Fi  "
      ]
     },
     "execution_count": 20,
     "metadata": {},
     "output_type": "execute_result"
    }
   ],
   "source": [
    "revenue_df.head()"
   ]
  },
  {
   "cell_type": "code",
   "execution_count": 21,
   "metadata": {},
   "outputs": [
    {
     "data": {
      "text/html": [
       "<div>\n",
       "<style scoped>\n",
       "    .dataframe tbody tr th:only-of-type {\n",
       "        vertical-align: middle;\n",
       "    }\n",
       "\n",
       "    .dataframe tbody tr th {\n",
       "        vertical-align: top;\n",
       "    }\n",
       "\n",
       "    .dataframe thead th {\n",
       "        text-align: right;\n",
       "    }\n",
       "</style>\n",
       "<table border=\"1\" class=\"dataframe\">\n",
       "  <thead>\n",
       "    <tr style=\"text-align: right;\">\n",
       "      <th></th>\n",
       "      <th>imdb_id</th>\n",
       "      <th>title</th>\n",
       "      <th>year</th>\n",
       "      <th>director</th>\n",
       "      <th>production_co</th>\n",
       "      <th>region_code</th>\n",
       "      <th>rank</th>\n",
       "      <th>budget_usd</th>\n",
       "      <th>us_gross</th>\n",
       "      <th>genres</th>\n",
       "    </tr>\n",
       "  </thead>\n",
       "  <tbody>\n",
       "    <tr>\n",
       "      <td>2618</td>\n",
       "      <td>tt0091605</td>\n",
       "      <td>The Name of the Rose</td>\n",
       "      <td>1986</td>\n",
       "      <td>Jean-Jacques Annaud</td>\n",
       "      <td>Constantin Film</td>\n",
       "      <td>[DE]</td>\n",
       "      <td>3817</td>\n",
       "      <td>ITL 30B</td>\n",
       "      <td>$7.2MM</td>\n",
       "      <td>Crime, Drama, Mystery</td>\n",
       "    </tr>\n",
       "  </tbody>\n",
       "</table>\n",
       "</div>"
      ],
      "text/plain": [
       "        imdb_id                 title  year             director  \\\n",
       "2618  tt0091605  The Name of the Rose  1986  Jean-Jacques Annaud   \n",
       "\n",
       "        production_co region_code  rank budget_usd us_gross  \\\n",
       "2618  Constantin Film        [DE]  3817    ITL 30B   $7.2MM   \n",
       "\n",
       "                     genres  \n",
       "2618  Crime, Drama, Mystery  "
      ]
     },
     "execution_count": 21,
     "metadata": {},
     "output_type": "execute_result"
    }
   ],
   "source": [
    "revenue_df.loc[revenue_df['imdb_id'] == 'tt0091605']"
   ]
  },
  {
   "cell_type": "markdown",
   "metadata": {},
   "source": [
    "## what processing is needed for scrapped dataset ? :\n",
    "\n",
    "1. Convert 'us_gross', and 'budget_usd' values into floats. That means stripping the non-number characters out as well as changing 'MM' to ',000,000'.\n",
    "2. Convert year column to int, so the years don't have the trailing .0."
   ]
  },
  {
   "cell_type": "code",
   "execution_count": 22,
   "metadata": {},
   "outputs": [],
   "source": [
    "# Created 3/22/2020 with current exhange values. Values not adjusted for the date the movie was created.\n",
    "def get_conversion_rate(value):\n",
    "    \"\"\"Get exchange rate for given currency code\n",
    "    \n",
    "    Arguments:\n",
    "        value (string): String with currency code or symbol in it\n",
    "\n",
    "    Returns:\n",
    "        rate (float): Conversion rate to usd\n",
    "    \"\"\"\n",
    "    if '£' in value:\n",
    "        return 0.854\n",
    "    elif '€' in value:\n",
    "        return 0.9334\n",
    "    elif 'AUD' in value:\n",
    "        return 1.7229\n",
    "    elif 'CAD' in value:\n",
    "        return 1.435\n",
    "    elif 'FRF' in value:\n",
    "        return 6.55957 * 0.9334\n",
    "    elif 'INR' in value:\n",
    "        return 75.394\n",
    "    elif 'THB' in value:\n",
    "        return 32.68\n",
    "    elif 'EM' in value:\n",
    "        return 1 # cant find info on EM\n",
    "    elif 'JPY' in value:\n",
    "        return 110.75\n",
    "    elif 'SKW' in value:\n",
    "        return 1254.45\n",
    "    elif 'HUF' in value:\n",
    "        return 327.94\n",
    "    elif 'NGN' in value:\n",
    "        return 364\n",
    "    elif 'CNY' in value:\n",
    "        return 7.0950\n",
    "    elif 'ESP' in value:\n",
    "        return 155.42826\n",
    "    elif 'RUR' in value:\n",
    "        return 79.87\n",
    "    elif 'HKD' in value:\n",
    "        return 7.7570\n",
    "    elif 'ISK' in value:\n",
    "        return 140.490\n",
    "    elif 'PHP' in value:\n",
    "        return 51.19\n",
    "    elif 'DKK' in value:\n",
    "        return 6.9716\n",
    "    elif 'CZK' in value:\n",
    "        return 25.5620\n",
    "    elif 'SKK' in value:\n",
    "        return 10.3753\n",
    "    elif 'NOK' in value:\n",
    "        return 11.7890\n",
    "    elif 'MXN' in value:\n",
    "        return 24.4215\n",
    "    elif 'JMD' in value:\n",
    "        return 135.07\n",
    "    elif 'PLN' in value:\n",
    "        return 4.23\n",
    "    elif 'KRW' in value:\n",
    "        return 1228.97\n",
    "    elif 'ITL' in value:\n",
    "        return 1804.64\n",
    "    else:\n",
    "        return 1"
   ]
  },
  {
   "cell_type": "code",
   "execution_count": 23,
   "metadata": {},
   "outputs": [],
   "source": [
    "def strip_currency_code(value):\n",
    "    \"\"\"Strips currency code from front of currency string\n",
    "\n",
    "    Arguments: \n",
    "        value (string): currency amount prefaced with currency code\n",
    "    \n",
    "    Returns:\n",
    "        value (string): value without the currency code\n",
    "    \"\"\"\n",
    "    if value[:1] in '$£€':\n",
    "        return value[1:]\n",
    "    else:\n",
    "        return value[3:]"
   ]
  },
  {
   "cell_type": "code",
   "execution_count": 24,
   "metadata": {},
   "outputs": [],
   "source": [
    "def convert_money(value):\n",
    "    \"\"\"Takes currency string and parses it into correct amount in USD\n",
    "    \n",
    "    Arguments:\n",
    "        value (string): currency in form: CAD 345.3B \n",
    "\n",
    "    Returns:\n",
    "        value (int): currency converted to USD and in standard numeric form\n",
    "    \"\"\"\n",
    "    # type check:\n",
    "    if type(value) != str:\n",
    "        return\n",
    "    \n",
    "    # check currency sign and get coefficient\n",
    "    coef = get_conversion_rate(value)\n",
    "    value = strip_currency_code(value)\n",
    "    if 'K' in value:\n",
    "        value = (float(value.strip('K')) * 1000) / coef\n",
    "    elif 'MM' in value:\n",
    "        value = (float(value.strip('MM')) * 1000000) / coef\n",
    "    elif 'B' in value:\n",
    "        value = (float(value.strip('B')) * 1000000000) / coef\n",
    "    else:\n",
    "        value = float(value.strip()) / coef\n",
    "    return value"
   ]
  },
  {
   "cell_type": "code",
   "execution_count": 25,
   "metadata": {},
   "outputs": [],
   "source": [
    "revenue_df['us_gross'] = revenue_df['us_gross'].apply(convert_money)"
   ]
  },
  {
   "cell_type": "code",
   "execution_count": 26,
   "metadata": {},
   "outputs": [
    {
     "data": {
      "text/plain": [
       "0               NaN\n",
       "1        76000000.0\n",
       "2        65000000.0\n",
       "3         5800000.0\n",
       "4        10000000.0\n",
       "            ...    \n",
       "9996            NaN\n",
       "9997            NaN\n",
       "9998      1000000.0\n",
       "9999      4500000.0\n",
       "10000           NaN\n",
       "Name: us_gross, Length: 10001, dtype: float64"
      ]
     },
     "execution_count": 26,
     "metadata": {},
     "output_type": "execute_result"
    }
   ],
   "source": [
    "revenue_df['us_gross']"
   ]
  },
  {
   "cell_type": "code",
   "execution_count": 27,
   "metadata": {},
   "outputs": [],
   "source": [
    "revenue_df['budget_usd'] = revenue_df['budget_usd'].apply(convert_money)"
   ]
  },
  {
   "cell_type": "code",
   "execution_count": 28,
   "metadata": {},
   "outputs": [
    {
     "data": {
      "text/plain": [
       "3493"
      ]
     },
     "execution_count": 28,
     "metadata": {},
     "output_type": "execute_result"
    }
   ],
   "source": [
    "revenue_df['budget_usd'].isna().sum()"
   ]
  },
  {
   "cell_type": "code",
   "execution_count": 29,
   "metadata": {},
   "outputs": [
    {
     "data": {
      "text/html": [
       "<div>\n",
       "<style scoped>\n",
       "    .dataframe tbody tr th:only-of-type {\n",
       "        vertical-align: middle;\n",
       "    }\n",
       "\n",
       "    .dataframe tbody tr th {\n",
       "        vertical-align: top;\n",
       "    }\n",
       "\n",
       "    .dataframe thead th {\n",
       "        text-align: right;\n",
       "    }\n",
       "</style>\n",
       "<table border=\"1\" class=\"dataframe\">\n",
       "  <thead>\n",
       "    <tr style=\"text-align: right;\">\n",
       "      <th></th>\n",
       "      <th>imdb_id</th>\n",
       "      <th>title</th>\n",
       "      <th>year</th>\n",
       "      <th>director</th>\n",
       "      <th>region_code</th>\n",
       "      <th>rank</th>\n",
       "      <th>budget_usd</th>\n",
       "      <th>us_gross</th>\n",
       "      <th>genres</th>\n",
       "    </tr>\n",
       "  </thead>\n",
       "  <tbody>\n",
       "    <tr>\n",
       "      <td>1019</td>\n",
       "      <td>tt6292852</td>\n",
       "      <td>I Am Mother</td>\n",
       "      <td>2019</td>\n",
       "      <td>Grant Sputore</td>\n",
       "      <td>[AU]</td>\n",
       "      <td>1661</td>\n",
       "      <td>-1.0</td>\n",
       "      <td>-1.0</td>\n",
       "      <td>Drama, Mystery, Sci-Fi</td>\n",
       "    </tr>\n",
       "    <tr>\n",
       "      <td>5371</td>\n",
       "      <td>tt2404181</td>\n",
       "      <td>Belle</td>\n",
       "      <td>2013</td>\n",
       "      <td>Amma Asante</td>\n",
       "      <td>[GB]</td>\n",
       "      <td>7658</td>\n",
       "      <td>11000000.0</td>\n",
       "      <td>11000000.0</td>\n",
       "      <td>Biography, Drama, Romance</td>\n",
       "    </tr>\n",
       "    <tr>\n",
       "      <td>2606</td>\n",
       "      <td>tt8406738</td>\n",
       "      <td>Advantages of Travelling by Train</td>\n",
       "      <td>2019</td>\n",
       "      <td>Aritz Moreno</td>\n",
       "      <td>[ES]</td>\n",
       "      <td>3794</td>\n",
       "      <td>-1.0</td>\n",
       "      <td>-1.0</td>\n",
       "      <td>Thriller</td>\n",
       "    </tr>\n",
       "  </tbody>\n",
       "</table>\n",
       "</div>"
      ],
      "text/plain": [
       "        imdb_id                              title  year       director  \\\n",
       "1019  tt6292852                        I Am Mother  2019  Grant Sputore   \n",
       "5371  tt2404181                              Belle  2013    Amma Asante   \n",
       "2606  tt8406738  Advantages of Travelling by Train  2019   Aritz Moreno   \n",
       "\n",
       "     region_code  rank  budget_usd    us_gross                     genres  \n",
       "1019        [AU]  1661        -1.0        -1.0     Drama, Mystery, Sci-Fi  \n",
       "5371        [GB]  7658  11000000.0  11000000.0  Biography, Drama, Romance  \n",
       "2606        [ES]  3794        -1.0        -1.0                   Thriller  "
      ]
     },
     "metadata": {},
     "output_type": "display_data"
    },
    {
     "name": "stdout",
     "output_type": "stream",
     "text": [
      "<class 'pandas.core.frame.DataFrame'>\n",
      "RangeIndex: 10001 entries, 0 to 10000\n",
      "Data columns (total 9 columns):\n",
      "imdb_id        10000 non-null object\n",
      "title          10000 non-null object\n",
      "year           10001 non-null int64\n",
      "director       9999 non-null object\n",
      "region_code    9551 non-null object\n",
      "rank           10001 non-null int64\n",
      "budget_usd     10001 non-null float64\n",
      "us_gross       10001 non-null float64\n",
      "genres         9999 non-null object\n",
      "dtypes: float64(2), int64(2), object(5)\n",
      "memory usage: 703.3+ KB\n"
     ]
    },
    {
     "data": {
      "text/plain": [
       "None"
      ]
     },
     "metadata": {},
     "output_type": "display_data"
    },
    {
     "data": {
      "text/plain": [
       "0"
      ]
     },
     "metadata": {},
     "output_type": "display_data"
    }
   ],
   "source": [
    "# first, change the missing values from budget to -1, so we dont drop 1910 rows.\n",
    "revenue_df['budget_usd'].fillna(value=-1.0,inplace=True)\n",
    "revenue_df['us_gross'].fillna(value=-1.0,inplace=True)\n",
    "\n",
    "# also, fill in the production_co missing values with an 'Unknown'\n",
    "##revenue_df['production_co'] = revenue_df['production_co'].fillna(value='Unknown', inplace=True)\n",
    "revenue_df.drop(['production_co'], axis = 1, inplace=True) # not using and many null. So dropping \n",
    "\n",
    "display(revenue_df.sample(3))\n",
    "display(revenue_df.info())\n",
    "display(revenue_df['budget_usd'].isna().sum())"
   ]
  },
  {
   "cell_type": "code",
   "execution_count": 30,
   "metadata": {},
   "outputs": [],
   "source": [
    "revenue_save_path = os.path.join( 'Data', 'revenue.csv')\n",
    "revenue_df.to_csv(revenue_save_path, index=False)"
   ]
  },
  {
   "cell_type": "markdown",
   "metadata": {},
   "source": [
    "# The Movie DataBase (TMDB) API\n",
    "\n",
    "TMBD is another web API that maybe useful in finding the movie information. \n",
    "\n",
    "## 3rd party python framework \"tmdbsimple\"\n",
    "https://github.com/celiao/tmdbsimple.git\n",
    "This framework is most intriguing. However, it cannot retrieve movie information via IMDB_id, which is most unique and widely used ID to designate movie information. Following are examples how movie information can be retrieve for this method.  "
   ]
  },
  {
   "cell_type": "code",
   "execution_count": 41,
   "metadata": {},
   "outputs": [],
   "source": [
    "import tmdbsimple as tmdb\n",
    "key=str(open('../TMDB_key.txt', 'r').readline()).strip()\n",
    "tmdb.API_KEY = key"
   ]
  },
  {
   "cell_type": "code",
   "execution_count": 45,
   "metadata": {},
   "outputs": [
    {
     "name": "stdout",
     "output_type": "stream",
     "text": [
      "The Matrix\n",
      "63000000\n"
     ]
    }
   ],
   "source": [
    "# example of how to retrieve movie information if TMDB ID is provided \n",
    "movie = tmdb.Movies(603)\n",
    "response = movie.info()\n",
    "print(movie.title)\n",
    "print(movie.budget)"
   ]
  },
  {
   "cell_type": "code",
   "execution_count": 48,
   "metadata": {},
   "outputs": [
    {
     "name": "stdout",
     "output_type": "stream",
     "text": [
      "The Bourne Ultimatum 2503 45.018\n",
      "The Bourne Identity 2501 18.371\n",
      "The Bourne Supremacy 2502 17.437\n",
      "The Bourne Legacy 49040 14.853\n",
      "Jason Bourne 324668 17.403\n",
      "Untitled Jeremy Renner/Bourne Sequel 393640 1.96\n"
     ]
    }
   ],
   "source": [
    "search = tmdb.Search()\n",
    "response = search.movie(query='The Bourne')\n",
    "for s in search.results:\n",
    "    print(s['title'], s['id'], s['popularity'])"
   ]
  },
  {
   "cell_type": "markdown",
   "metadata": {},
   "source": [
    "## Direct HTTP request from TMDB. \n",
    "This method works well\n"
   ]
  },
  {
   "cell_type": "code",
   "execution_count": 62,
   "metadata": {},
   "outputs": [],
   "source": [
    "import http.client\n",
    "import json\n",
    "#conn = http.client.HTTPSConnection(\"www.python.org\")\n",
    "#conn.request(\"GET\", \"/\")\n",
    "#r1 = conn.getresponse()\n",
    "#print(r1.status, r1.reason)\n",
    "#data1 = r1.read()\n",
    "#print(data1)"
   ]
  },
  {
   "cell_type": "code",
   "execution_count": 68,
   "metadata": {},
   "outputs": [
    {
     "name": "stdout",
     "output_type": "stream",
     "text": [
      "200 OK\n",
      "The Legend of Hercules\n",
      "en\n",
      "2014-01-10\n",
      "4.6\n"
     ]
    }
   ],
   "source": [
    "# TMDB web API queries\n",
    "conn = http.client.HTTPSConnection(\"api.themoviedb.org\")\n",
    "imdb_id='tt1043726'\n",
    "query='/3/find/'+imdb_id+'?api_key='+key+'&language=en-US&external_source=imdb_id'\n",
    "conn.request(\"GET\", query)\n",
    "r1 = conn.getresponse()\n",
    "print(r1.status, r1.reason)\n",
    "data1 = r1.read()\n",
    "x=json.loads(data1)\n",
    "print(x['movie_results'][0]['title'])\n",
    "print(x['movie_results'][0]['original_language'])\n",
    "print(x['movie_results'][0]['release_date'])\n",
    "print(x['movie_results'][0]['vote_average'])"
   ]
  },
  {
   "cell_type": "code",
   "execution_count": null,
   "metadata": {},
   "outputs": [],
   "source": []
  }
 ],
 "metadata": {
  "kernelspec": {
   "display_name": "Python [conda env:learn-env] *",
   "language": "python",
   "name": "conda-env-learn-env-py"
  },
  "language_info": {
   "codemirror_mode": {
    "name": "ipython",
    "version": 3
   },
   "file_extension": ".py",
   "mimetype": "text/x-python",
   "name": "python",
   "nbconvert_exporter": "python",
   "pygments_lexer": "ipython3",
   "version": "3.6.9"
  },
  "toc": {
   "base_numbering": 1,
   "nav_menu": {},
   "number_sections": true,
   "sideBar": true,
   "skip_h1_title": false,
   "title_cell": "Table of Contents",
   "title_sidebar": "Contents",
   "toc_cell": false,
   "toc_position": {},
   "toc_section_display": true,
   "toc_window_display": false
  }
 },
 "nbformat": 4,
 "nbformat_minor": 2
}
