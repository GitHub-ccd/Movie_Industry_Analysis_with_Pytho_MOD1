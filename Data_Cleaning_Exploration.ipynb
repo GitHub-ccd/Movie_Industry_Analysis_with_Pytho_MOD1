{
 "cells": [
  {
   "cell_type": "markdown",
   "metadata": {},
   "source": [
    "# <h1 align=\"center\" style=\"font-size:200%; color:blue\">Microsoft’s entrance to Movie business</h1><br>\n",
    "<h1 align=\"center\" style=\"font-size:200%; color:blue\">Data loading and cleaning and exploration</h1> <br>\n",
    "\n",
    "<p style=\"color:black\"> First I shall explore and clean the data files provided for the project. Following table contains the 11 files categorized by the data sources. </p> <br>\n",
    "\n",
    "|      __IMDB__                |    __Box Office Mojo__   |   __Rotten Tomatoes__  | __TheMovieDB.org__  |\n",
    "|------------------------------|--------------------------|------------------------|---------------------|\n",
    "| 1. imdb.name.basics.csv      | 7. bom.movie_gross.csv   | 8. rt.movie_info.tsv   | 10. tmdb.movies.csv |\n",
    "| 2. imdb.title.akas.csv       |                          | 9. rt.reviews.tsv      |                     |\n",
    "| 3. imdb.title.basics.csv     |                          |                        |                     |\n",
    "| 4. imdb.title.crew.csv       |                          |                        |                     |\n",
    "| 5. imdb.title.principals.csv |                          |                        |                     |\n",
    "| 6. imdb.title.ratings.csv    |                          |                        |                     |\n",
    "|------------------------------|--------------------------|------------------------|---------------------|\n",
    "|11. tn.movie_budgets.csv      |                          |                        |                     |\n",
    "\n",
    "<p style=\"font-size:100%; color:green\"> Methodology:  <b>R</b>OSEMED</p>\n",
    "<!--><p style=\"color:black\"> <b>R</b>OSEMED method </p> <-->"
   ]
  },
  {
   "cell_type": "code",
   "execution_count": 1,
   "metadata": {},
   "outputs": [],
   "source": [
    "#importing libraries\n",
    "import pandas as pd \n",
    "import numpy as np"
   ]
  },
  {
   "cell_type": "markdown",
   "metadata": {},
   "source": [
    "# Data loading and cleaning"
   ]
  },
  {
   "cell_type": "markdown",
   "metadata": {},
   "source": [
    "## cleaning the-numbers.com data file"
   ]
  },
  {
   "cell_type": "code",
   "execution_count": 2,
   "metadata": {},
   "outputs": [
    {
     "data": {
      "text/html": [
       "<div>\n",
       "<style scoped>\n",
       "    .dataframe tbody tr th:only-of-type {\n",
       "        vertical-align: middle;\n",
       "    }\n",
       "\n",
       "    .dataframe tbody tr th {\n",
       "        vertical-align: top;\n",
       "    }\n",
       "\n",
       "    .dataframe thead th {\n",
       "        text-align: right;\n",
       "    }\n",
       "</style>\n",
       "<table border=\"1\" class=\"dataframe\">\n",
       "  <thead>\n",
       "    <tr style=\"text-align: right;\">\n",
       "      <th></th>\n",
       "      <th>id</th>\n",
       "      <th>release_date</th>\n",
       "      <th>movie</th>\n",
       "      <th>production_budget</th>\n",
       "      <th>domestic_gross</th>\n",
       "      <th>worldwide_gross</th>\n",
       "    </tr>\n",
       "  </thead>\n",
       "  <tbody>\n",
       "    <tr>\n",
       "      <td>0</td>\n",
       "      <td>1</td>\n",
       "      <td>Dec 18, 2009</td>\n",
       "      <td>Avatar</td>\n",
       "      <td>$425,000,000</td>\n",
       "      <td>$760,507,625</td>\n",
       "      <td>$2,776,345,279</td>\n",
       "    </tr>\n",
       "    <tr>\n",
       "      <td>1</td>\n",
       "      <td>2</td>\n",
       "      <td>May 20, 2011</td>\n",
       "      <td>Pirates of the Caribbean: On Stranger Tides</td>\n",
       "      <td>$410,600,000</td>\n",
       "      <td>$241,063,875</td>\n",
       "      <td>$1,045,663,875</td>\n",
       "    </tr>\n",
       "    <tr>\n",
       "      <td>2</td>\n",
       "      <td>3</td>\n",
       "      <td>Jun 7, 2019</td>\n",
       "      <td>Dark Phoenix</td>\n",
       "      <td>$350,000,000</td>\n",
       "      <td>$42,762,350</td>\n",
       "      <td>$149,762,350</td>\n",
       "    </tr>\n",
       "    <tr>\n",
       "      <td>3</td>\n",
       "      <td>4</td>\n",
       "      <td>May 1, 2015</td>\n",
       "      <td>Avengers: Age of Ultron</td>\n",
       "      <td>$330,600,000</td>\n",
       "      <td>$459,005,868</td>\n",
       "      <td>$1,403,013,963</td>\n",
       "    </tr>\n",
       "  </tbody>\n",
       "</table>\n",
       "</div>"
      ],
      "text/plain": [
       "   id  release_date                                        movie  \\\n",
       "0   1  Dec 18, 2009                                       Avatar   \n",
       "1   2  May 20, 2011  Pirates of the Caribbean: On Stranger Tides   \n",
       "2   3   Jun 7, 2019                                 Dark Phoenix   \n",
       "3   4   May 1, 2015                      Avengers: Age of Ultron   \n",
       "\n",
       "  production_budget domestic_gross worldwide_gross  \n",
       "0      $425,000,000   $760,507,625  $2,776,345,279  \n",
       "1      $410,600,000   $241,063,875  $1,045,663,875  \n",
       "2      $350,000,000    $42,762,350    $149,762,350  \n",
       "3      $330,600,000   $459,005,868  $1,403,013,963  "
      ]
     },
     "metadata": {},
     "output_type": "display_data"
    },
    {
     "data": {
      "text/plain": [
       "5782"
      ]
     },
     "metadata": {},
     "output_type": "display_data"
    }
   ],
   "source": [
    "# original source: https://www.the-numbers.com/movie/budgets\n",
    "tn_budgets = pd.read_csv('Data/tn.movie_budgets.csv')\n",
    "display(tn_budgets.head(4), len(tn_budgets))"
   ]
  },
  {
   "cell_type": "code",
   "execution_count": 3,
   "metadata": {
    "scrolled": true
   },
   "outputs": [],
   "source": [
    "# id column useless \n",
    "tn_budgets = tn_budgets.drop('id', axis = 1)\n",
    "# format date\n",
    "tn_budgets['release_date'] = pd.to_datetime(tn_budgets['release_date'])\n",
    "# clean movie column\n",
    "tn_budgets.movie = tn_budgets.movie.str.strip() \n",
    "# clean movie domestic_gross, production_budget and worldwide_gross\n",
    "tn_budgets['domestic_gross'] = tn_budgets['domestic_gross'].str.replace('$', '')\n",
    "tn_budgets['domestic_gross'] = tn_budgets['domestic_gross'].str.replace(',', '')\n",
    "tn_budgets['domestic_gross'] = tn_budgets['domestic_gross'].astype(float)\n",
    "tn_budgets['production_budget'] = tn_budgets['production_budget'].str.replace('$', '')\n",
    "tn_budgets['production_budget'] = tn_budgets['production_budget'].str.replace(',', '')\n",
    "tn_budgets['production_budget'] = tn_budgets['production_budget'].astype(float)\n",
    "tn_budgets['worldwide_gross'] = tn_budgets['worldwide_gross'].str.replace('$', '')\n",
    "tn_budgets['worldwide_gross'] = tn_budgets['worldwide_gross'].str.replace(',', '')\n",
    "tn_budgets['worldwide_gross'] = tn_budgets['worldwide_gross'].astype(float)\n",
    "# tn_budgets.isna().sum()  # checked it's clean"
   ]
  },
  {
   "cell_type": "markdown",
   "metadata": {},
   "source": [
    "## cleaning Box Office Mojo data file"
   ]
  },
  {
   "cell_type": "code",
   "execution_count": 4,
   "metadata": {},
   "outputs": [
    {
     "data": {
      "text/html": [
       "<div>\n",
       "<style scoped>\n",
       "    .dataframe tbody tr th:only-of-type {\n",
       "        vertical-align: middle;\n",
       "    }\n",
       "\n",
       "    .dataframe tbody tr th {\n",
       "        vertical-align: top;\n",
       "    }\n",
       "\n",
       "    .dataframe thead th {\n",
       "        text-align: right;\n",
       "    }\n",
       "</style>\n",
       "<table border=\"1\" class=\"dataframe\">\n",
       "  <thead>\n",
       "    <tr style=\"text-align: right;\">\n",
       "      <th></th>\n",
       "      <th>title</th>\n",
       "      <th>studio</th>\n",
       "      <th>domestic_gross</th>\n",
       "      <th>foreign_gross</th>\n",
       "      <th>year</th>\n",
       "    </tr>\n",
       "  </thead>\n",
       "  <tbody>\n",
       "    <tr>\n",
       "      <td>0</td>\n",
       "      <td>Toy Story 3</td>\n",
       "      <td>BV</td>\n",
       "      <td>415000000.0</td>\n",
       "      <td>652000000</td>\n",
       "      <td>2010</td>\n",
       "    </tr>\n",
       "    <tr>\n",
       "      <td>1</td>\n",
       "      <td>Alice in Wonderland (2010)</td>\n",
       "      <td>BV</td>\n",
       "      <td>334200000.0</td>\n",
       "      <td>691300000</td>\n",
       "      <td>2010</td>\n",
       "    </tr>\n",
       "  </tbody>\n",
       "</table>\n",
       "</div>"
      ],
      "text/plain": [
       "                        title studio  domestic_gross foreign_gross  year\n",
       "0                 Toy Story 3     BV     415000000.0     652000000  2010\n",
       "1  Alice in Wonderland (2010)     BV     334200000.0     691300000  2010"
      ]
     },
     "metadata": {},
     "output_type": "display_data"
    },
    {
     "data": {
      "text/plain": [
       "3387"
      ]
     },
     "metadata": {},
     "output_type": "display_data"
    }
   ],
   "source": [
    "# Box Office Mojo dataset\n",
    "bom = pd.read_csv('Data/bom.movie_gross.csv')\n",
    "display(bom.head(2),len(bom))"
   ]
  },
  {
   "cell_type": "code",
   "execution_count": 5,
   "metadata": {},
   "outputs": [],
   "source": [
    "#bom.info()   # 3387 entries\n",
    "# The Null values in domestic_gross and foreign_gross are tragged \"-1.0 float64\"\n",
    "# and stidion with 'unknown'\n",
    "bom['studio'].fillna(value='unknow',inplace=True)\n",
    "bom['domestic_gross'] = pd.to_numeric(bom['domestic_gross'],errors='coerce')\n",
    "bom['domestic_gross'].fillna(value=-1.0,inplace=True)\n",
    "bom['foreign_gross'] = pd.to_numeric(bom['foreign_gross'],errors='coerce')\n",
    "bom['foreign_gross'].fillna(value=str(-1.0),inplace=True)\n",
    "bom = bom[bom.foreign_gross != -1.0]\n",
    "#bom.isna().sum() # it's clean now"
   ]
  },
  {
   "cell_type": "markdown",
   "metadata": {},
   "source": [
    "## cleaning Rotten Tomatoes data files"
   ]
  },
  {
   "cell_type": "code",
   "execution_count": 6,
   "metadata": {},
   "outputs": [
    {
     "data": {
      "text/html": [
       "<div>\n",
       "<style scoped>\n",
       "    .dataframe tbody tr th:only-of-type {\n",
       "        vertical-align: middle;\n",
       "    }\n",
       "\n",
       "    .dataframe tbody tr th {\n",
       "        vertical-align: top;\n",
       "    }\n",
       "\n",
       "    .dataframe thead th {\n",
       "        text-align: right;\n",
       "    }\n",
       "</style>\n",
       "<table border=\"1\" class=\"dataframe\">\n",
       "  <thead>\n",
       "    <tr style=\"text-align: right;\">\n",
       "      <th></th>\n",
       "      <th>id</th>\n",
       "      <th>synopsis</th>\n",
       "      <th>rating</th>\n",
       "      <th>genre</th>\n",
       "      <th>director</th>\n",
       "      <th>writer</th>\n",
       "      <th>theater_date</th>\n",
       "      <th>dvd_date</th>\n",
       "      <th>currency</th>\n",
       "      <th>box_office</th>\n",
       "      <th>runtime</th>\n",
       "      <th>studio</th>\n",
       "    </tr>\n",
       "  </thead>\n",
       "  <tbody>\n",
       "    <tr>\n",
       "      <td>0</td>\n",
       "      <td>1</td>\n",
       "      <td>This gritty, fast-paced, and innovative police...</td>\n",
       "      <td>R</td>\n",
       "      <td>Action and Adventure|Classics|Drama</td>\n",
       "      <td>William Friedkin</td>\n",
       "      <td>Ernest Tidyman</td>\n",
       "      <td>Oct 9, 1971</td>\n",
       "      <td>Sep 25, 2001</td>\n",
       "      <td>NaN</td>\n",
       "      <td>NaN</td>\n",
       "      <td>104 minutes</td>\n",
       "      <td>NaN</td>\n",
       "    </tr>\n",
       "    <tr>\n",
       "      <td>1</td>\n",
       "      <td>3</td>\n",
       "      <td>New York City, not-too-distant-future: Eric Pa...</td>\n",
       "      <td>R</td>\n",
       "      <td>Drama|Science Fiction and Fantasy</td>\n",
       "      <td>David Cronenberg</td>\n",
       "      <td>David Cronenberg|Don DeLillo</td>\n",
       "      <td>Aug 17, 2012</td>\n",
       "      <td>Jan 1, 2013</td>\n",
       "      <td>$</td>\n",
       "      <td>600,000</td>\n",
       "      <td>108 minutes</td>\n",
       "      <td>Entertainment One</td>\n",
       "    </tr>\n",
       "  </tbody>\n",
       "</table>\n",
       "</div>"
      ],
      "text/plain": [
       "   id                                           synopsis rating  \\\n",
       "0   1  This gritty, fast-paced, and innovative police...      R   \n",
       "1   3  New York City, not-too-distant-future: Eric Pa...      R   \n",
       "\n",
       "                                 genre          director  \\\n",
       "0  Action and Adventure|Classics|Drama  William Friedkin   \n",
       "1    Drama|Science Fiction and Fantasy  David Cronenberg   \n",
       "\n",
       "                         writer  theater_date      dvd_date currency  \\\n",
       "0                Ernest Tidyman   Oct 9, 1971  Sep 25, 2001      NaN   \n",
       "1  David Cronenberg|Don DeLillo  Aug 17, 2012   Jan 1, 2013        $   \n",
       "\n",
       "  box_office      runtime             studio  \n",
       "0        NaN  104 minutes                NaN  \n",
       "1    600,000  108 minutes  Entertainment One  "
      ]
     },
     "metadata": {},
     "output_type": "display_data"
    },
    {
     "data": {
      "text/plain": [
       "1560"
      ]
     },
     "metadata": {},
     "output_type": "display_data"
    }
   ],
   "source": [
    "# Rotten Tomatoes\n",
    "rt = pd.read_csv('Data/rt.movie_info.tsv', sep='\\t')\n",
    "display(rt.head(2),len(rt))"
   ]
  },
  {
   "cell_type": "code",
   "execution_count": 7,
   "metadata": {
    "scrolled": false
   },
   "outputs": [
    {
     "data": {
      "text/plain": [
       "Series([], Name: theater_date, dtype: object)"
      ]
     },
     "execution_count": 7,
     "metadata": {},
     "output_type": "execute_result"
    }
   ],
   "source": [
    "# we'll drop ['synopsis', 'genre', 'box_office']\n",
    "rt.drop(columns=['synopsis', 'genre', 'box_office', \n",
    "                'director', 'writer', 'dvd_date', 'currency', 'box_office', 'studio'], inplace=True) # has much more \n",
    "# comprihencive data in IMDB\n",
    "rt['rating'] = pd.to_numeric(rt['rating'],errors='coerce')\n",
    "rt['rating'].fillna(value=-1.0,inplace=True)\n",
    "rt = rt[rt.rating != -1.0]\n",
    "rt['runtime']=rt.runtime.map(lambda x: x.strip().replace(\"minutes\",\"\"), na_action='ignore')\n",
    "rt['runtime'] = pd.to_numeric(rt['runtime'],errors='coerce')\n",
    "rt['runtime'].fillna(value=-1.0,inplace=True)\n",
    "rt['theater_date'].fillna(value='unknown',inplace=True)\n",
    "#rt.isna().sum() # It's clean now"
   ]
  },
  {
   "cell_type": "code",
   "execution_count": 8,
   "metadata": {},
   "outputs": [
    {
     "data": {
      "text/html": [
       "<div>\n",
       "<style scoped>\n",
       "    .dataframe tbody tr th:only-of-type {\n",
       "        vertical-align: middle;\n",
       "    }\n",
       "\n",
       "    .dataframe tbody tr th {\n",
       "        vertical-align: top;\n",
       "    }\n",
       "\n",
       "    .dataframe thead th {\n",
       "        text-align: right;\n",
       "    }\n",
       "</style>\n",
       "<table border=\"1\" class=\"dataframe\">\n",
       "  <thead>\n",
       "    <tr style=\"text-align: right;\">\n",
       "      <th></th>\n",
       "      <th>id</th>\n",
       "      <th>review</th>\n",
       "      <th>rating</th>\n",
       "      <th>fresh</th>\n",
       "      <th>critic</th>\n",
       "      <th>top_critic</th>\n",
       "      <th>publisher</th>\n",
       "      <th>date</th>\n",
       "    </tr>\n",
       "  </thead>\n",
       "  <tbody>\n",
       "    <tr>\n",
       "      <td>0</td>\n",
       "      <td>3</td>\n",
       "      <td>A distinctly gallows take on contemporary fina...</td>\n",
       "      <td>3/5</td>\n",
       "      <td>fresh</td>\n",
       "      <td>PJ Nabarro</td>\n",
       "      <td>0</td>\n",
       "      <td>Patrick Nabarro</td>\n",
       "      <td>November 10, 2018</td>\n",
       "    </tr>\n",
       "    <tr>\n",
       "      <td>1</td>\n",
       "      <td>3</td>\n",
       "      <td>It's an allegory in search of a meaning that n...</td>\n",
       "      <td>NaN</td>\n",
       "      <td>rotten</td>\n",
       "      <td>Annalee Newitz</td>\n",
       "      <td>0</td>\n",
       "      <td>io9.com</td>\n",
       "      <td>May 23, 2018</td>\n",
       "    </tr>\n",
       "  </tbody>\n",
       "</table>\n",
       "</div>"
      ],
      "text/plain": [
       "   id                                             review rating   fresh  \\\n",
       "0   3  A distinctly gallows take on contemporary fina...    3/5   fresh   \n",
       "1   3  It's an allegory in search of a meaning that n...    NaN  rotten   \n",
       "\n",
       "           critic  top_critic        publisher               date  \n",
       "0      PJ Nabarro           0  Patrick Nabarro  November 10, 2018  \n",
       "1  Annalee Newitz           0          io9.com       May 23, 2018  "
      ]
     },
     "metadata": {},
     "output_type": "display_data"
    },
    {
     "data": {
      "text/plain": [
       "54432"
      ]
     },
     "metadata": {},
     "output_type": "display_data"
    }
   ],
   "source": [
    "# review's file maybe useful for reviews and ratings. \n",
    "# encoding worked!!! with correct delimiter\n",
    "rt_reviews = pd.read_csv('Data/rt.reviews.tsv', delimiter='\\t', encoding='latin-1')\n",
    "display(rt_reviews.head(2), len(rt_reviews))"
   ]
  },
  {
   "cell_type": "code",
   "execution_count": 9,
   "metadata": {
    "scrolled": true
   },
   "outputs": [],
   "source": [
    "#print(rt_reviews.isna().sum())\n",
    "#display(\"length -->\", len(rt_reviews))\n",
    "#rt_reviews.dropna() # this doesn't work at all. \n",
    "#print(rt_reviews.isna().sum())\n",
    "#display(\"length -->\", len(rt_reviews))\n",
    "# too many Nulls. No point using this DataSet"
   ]
  },
  {
   "cell_type": "markdown",
   "metadata": {},
   "source": [
    "## cleaning IMDB data files"
   ]
  },
  {
   "cell_type": "code",
   "execution_count": 10,
   "metadata": {},
   "outputs": [
    {
     "data": {
      "text/html": [
       "<div>\n",
       "<style scoped>\n",
       "    .dataframe tbody tr th:only-of-type {\n",
       "        vertical-align: middle;\n",
       "    }\n",
       "\n",
       "    .dataframe tbody tr th {\n",
       "        vertical-align: top;\n",
       "    }\n",
       "\n",
       "    .dataframe thead th {\n",
       "        text-align: right;\n",
       "    }\n",
       "</style>\n",
       "<table border=\"1\" class=\"dataframe\">\n",
       "  <thead>\n",
       "    <tr style=\"text-align: right;\">\n",
       "      <th></th>\n",
       "      <th>nconst</th>\n",
       "      <th>primary_name</th>\n",
       "      <th>birth_year</th>\n",
       "      <th>death_year</th>\n",
       "      <th>primary_profession</th>\n",
       "      <th>known_for_titles</th>\n",
       "    </tr>\n",
       "  </thead>\n",
       "  <tbody>\n",
       "    <tr>\n",
       "      <td>0</td>\n",
       "      <td>nm0061671</td>\n",
       "      <td>Mary Ellen Bauder</td>\n",
       "      <td>NaN</td>\n",
       "      <td>NaN</td>\n",
       "      <td>miscellaneous,production_manager,producer</td>\n",
       "      <td>tt0837562,tt2398241,tt0844471,tt0118553</td>\n",
       "    </tr>\n",
       "    <tr>\n",
       "      <td>1</td>\n",
       "      <td>nm0061865</td>\n",
       "      <td>Joseph Bauer</td>\n",
       "      <td>NaN</td>\n",
       "      <td>NaN</td>\n",
       "      <td>composer,music_department,sound_department</td>\n",
       "      <td>tt0896534,tt6791238,tt0287072,tt1682940</td>\n",
       "    </tr>\n",
       "    <tr>\n",
       "      <td>2</td>\n",
       "      <td>nm0062070</td>\n",
       "      <td>Bruce Baum</td>\n",
       "      <td>NaN</td>\n",
       "      <td>NaN</td>\n",
       "      <td>miscellaneous,actor,writer</td>\n",
       "      <td>tt1470654,tt0363631,tt0104030,tt0102898</td>\n",
       "    </tr>\n",
       "  </tbody>\n",
       "</table>\n",
       "</div>"
      ],
      "text/plain": [
       "      nconst       primary_name  birth_year  death_year  \\\n",
       "0  nm0061671  Mary Ellen Bauder         NaN         NaN   \n",
       "1  nm0061865       Joseph Bauer         NaN         NaN   \n",
       "2  nm0062070         Bruce Baum         NaN         NaN   \n",
       "\n",
       "                           primary_profession  \\\n",
       "0   miscellaneous,production_manager,producer   \n",
       "1  composer,music_department,sound_department   \n",
       "2                  miscellaneous,actor,writer   \n",
       "\n",
       "                          known_for_titles  \n",
       "0  tt0837562,tt2398241,tt0844471,tt0118553  \n",
       "1  tt0896534,tt6791238,tt0287072,tt1682940  \n",
       "2  tt1470654,tt0363631,tt0104030,tt0102898  "
      ]
     },
     "metadata": {},
     "output_type": "display_data"
    },
    {
     "data": {
      "text/plain": [
       "606648"
      ]
     },
     "metadata": {},
     "output_type": "display_data"
    }
   ],
   "source": [
    "# IMDB informantion about movie personel \n",
    "name = pd.read_csv('Data/imdb.name.basics.csv')\n",
    "display(name.head(3), len(name))"
   ]
  },
  {
   "cell_type": "code",
   "execution_count": 11,
   "metadata": {
    "scrolled": true
   },
   "outputs": [],
   "source": [
    "#print(name.isna().sum()) # birth_year(523912), death_year(599865) Null so dropping both,\n",
    "#primary_profession(51340), known_for_titles(30204) will keep because maybe importat to \n",
    "# always can scrape for it later \n",
    "name = name.drop(['birth_year', 'death_year'], axis = 1)"
   ]
  },
  {
   "cell_type": "code",
   "execution_count": 12,
   "metadata": {},
   "outputs": [
    {
     "data": {
      "text/html": [
       "<div>\n",
       "<style scoped>\n",
       "    .dataframe tbody tr th:only-of-type {\n",
       "        vertical-align: middle;\n",
       "    }\n",
       "\n",
       "    .dataframe tbody tr th {\n",
       "        vertical-align: top;\n",
       "    }\n",
       "\n",
       "    .dataframe thead th {\n",
       "        text-align: right;\n",
       "    }\n",
       "</style>\n",
       "<table border=\"1\" class=\"dataframe\">\n",
       "  <thead>\n",
       "    <tr style=\"text-align: right;\">\n",
       "      <th></th>\n",
       "      <th>imdb_id</th>\n",
       "      <th>ordering</th>\n",
       "      <th>title</th>\n",
       "      <th>region</th>\n",
       "      <th>language</th>\n",
       "      <th>types</th>\n",
       "      <th>attributes</th>\n",
       "      <th>is_original_title</th>\n",
       "    </tr>\n",
       "  </thead>\n",
       "  <tbody>\n",
       "    <tr>\n",
       "      <td>0</td>\n",
       "      <td>tt0369610</td>\n",
       "      <td>10</td>\n",
       "      <td>Джурасик свят</td>\n",
       "      <td>BG</td>\n",
       "      <td>bg</td>\n",
       "      <td>NaN</td>\n",
       "      <td>NaN</td>\n",
       "      <td>0.0</td>\n",
       "    </tr>\n",
       "    <tr>\n",
       "      <td>1</td>\n",
       "      <td>tt0369610</td>\n",
       "      <td>11</td>\n",
       "      <td>Jurashikku warudo</td>\n",
       "      <td>JP</td>\n",
       "      <td>NaN</td>\n",
       "      <td>imdbDisplay</td>\n",
       "      <td>NaN</td>\n",
       "      <td>0.0</td>\n",
       "    </tr>\n",
       "    <tr>\n",
       "      <td>2</td>\n",
       "      <td>tt0369610</td>\n",
       "      <td>12</td>\n",
       "      <td>Jurassic World: O Mundo dos Dinossauros</td>\n",
       "      <td>BR</td>\n",
       "      <td>NaN</td>\n",
       "      <td>imdbDisplay</td>\n",
       "      <td>NaN</td>\n",
       "      <td>0.0</td>\n",
       "    </tr>\n",
       "  </tbody>\n",
       "</table>\n",
       "</div>"
      ],
      "text/plain": [
       "     imdb_id  ordering                                    title region  \\\n",
       "0  tt0369610        10                            Джурасик свят     BG   \n",
       "1  tt0369610        11                        Jurashikku warudo     JP   \n",
       "2  tt0369610        12  Jurassic World: O Mundo dos Dinossauros     BR   \n",
       "\n",
       "  language        types attributes  is_original_title  \n",
       "0       bg          NaN        NaN                0.0  \n",
       "1      NaN  imdbDisplay        NaN                0.0  \n",
       "2      NaN  imdbDisplay        NaN                0.0  "
      ]
     },
     "metadata": {},
     "output_type": "display_data"
    },
    {
     "data": {
      "text/plain": [
       "331703"
      ]
     },
     "metadata": {},
     "output_type": "display_data"
    }
   ],
   "source": [
    "# IMDB informantion about titles \n",
    "takas = pd.read_csv('Data/imdb.title.akas.csv')\n",
    "takas.rename(columns = {'title_id':'imdb_id'}, inplace = True)\n",
    "display(takas.head(3), len(takas))"
   ]
  },
  {
   "cell_type": "code",
   "execution_count": 13,
   "metadata": {
    "scrolled": false
   },
   "outputs": [
    {
     "data": {
      "text/html": [
       "<div>\n",
       "<style scoped>\n",
       "    .dataframe tbody tr th:only-of-type {\n",
       "        vertical-align: middle;\n",
       "    }\n",
       "\n",
       "    .dataframe tbody tr th {\n",
       "        vertical-align: top;\n",
       "    }\n",
       "\n",
       "    .dataframe thead th {\n",
       "        text-align: right;\n",
       "    }\n",
       "</style>\n",
       "<table border=\"1\" class=\"dataframe\">\n",
       "  <thead>\n",
       "    <tr style=\"text-align: right;\">\n",
       "      <th></th>\n",
       "      <th>imdb_id</th>\n",
       "      <th>ordering</th>\n",
       "      <th>title</th>\n",
       "      <th>region</th>\n",
       "      <th>language</th>\n",
       "      <th>types</th>\n",
       "      <th>attributes</th>\n",
       "      <th>is_original_title</th>\n",
       "    </tr>\n",
       "  </thead>\n",
       "  <tbody>\n",
       "    <tr>\n",
       "      <td>269923</td>\n",
       "      <td>tt7403456</td>\n",
       "      <td>1</td>\n",
       "      <td>Sharks and the City: New York</td>\n",
       "      <td>US</td>\n",
       "      <td>NaN</td>\n",
       "      <td>NaN</td>\n",
       "      <td>NaN</td>\n",
       "      <td>0.0</td>\n",
       "    </tr>\n",
       "  </tbody>\n",
       "</table>\n",
       "</div>"
      ],
      "text/plain": [
       "          imdb_id  ordering                          title region language  \\\n",
       "269923  tt7403456         1  Sharks and the City: New York     US      NaN   \n",
       "\n",
       "       types attributes  is_original_title  \n",
       "269923   NaN        NaN                0.0  "
      ]
     },
     "metadata": {},
     "output_type": "display_data"
    },
    {
     "data": {
      "text/plain": [
       "\"checked with several random imdb_id's but all had totally convoluted data. the titles for the \\nsame imdb_id is completely different in most cases. This imdb.title.akas.csv data file is \\nunsalvageable. file should not be used for further analysis.\""
      ]
     },
     "execution_count": 13,
     "metadata": {},
     "output_type": "execute_result"
    }
   ],
   "source": [
    "# checking data reducdencies\n",
    "rand_id=np.random.randint(0,len(takas))\n",
    "title=takas.loc[rand_id,'imdb_id']\n",
    "display(takas.loc[(takas.imdb_id == title)])\n",
    "'''checked with several random imdb_id's but all had totally convoluted data. the titles for the \n",
    "same imdb_id is completely different in most cases. This imdb.title.akas.csv data file is \n",
    "unsalvageable. file should not be used for further analysis.'''"
   ]
  },
  {
   "cell_type": "code",
   "execution_count": 14,
   "metadata": {
    "scrolled": true
   },
   "outputs": [
    {
     "data": {
      "text/html": [
       "<div>\n",
       "<style scoped>\n",
       "    .dataframe tbody tr th:only-of-type {\n",
       "        vertical-align: middle;\n",
       "    }\n",
       "\n",
       "    .dataframe tbody tr th {\n",
       "        vertical-align: top;\n",
       "    }\n",
       "\n",
       "    .dataframe thead th {\n",
       "        text-align: right;\n",
       "    }\n",
       "</style>\n",
       "<table border=\"1\" class=\"dataframe\">\n",
       "  <thead>\n",
       "    <tr style=\"text-align: right;\">\n",
       "      <th></th>\n",
       "      <th>imdb_id</th>\n",
       "      <th>primary_title</th>\n",
       "      <th>original_title</th>\n",
       "      <th>year</th>\n",
       "      <th>runtime_minutes</th>\n",
       "      <th>genres</th>\n",
       "    </tr>\n",
       "  </thead>\n",
       "  <tbody>\n",
       "    <tr>\n",
       "      <td>0</td>\n",
       "      <td>tt0063540</td>\n",
       "      <td>Sunghursh</td>\n",
       "      <td>Sunghursh</td>\n",
       "      <td>2013</td>\n",
       "      <td>175.0</td>\n",
       "      <td>Action,Crime,Drama</td>\n",
       "    </tr>\n",
       "    <tr>\n",
       "      <td>1</td>\n",
       "      <td>tt0066787</td>\n",
       "      <td>One Day Before the Rainy Season</td>\n",
       "      <td>Ashad Ka Ek Din</td>\n",
       "      <td>2019</td>\n",
       "      <td>114.0</td>\n",
       "      <td>Biography,Drama</td>\n",
       "    </tr>\n",
       "  </tbody>\n",
       "</table>\n",
       "</div>"
      ],
      "text/plain": [
       "     imdb_id                    primary_title   original_title  year  \\\n",
       "0  tt0063540                        Sunghursh        Sunghursh  2013   \n",
       "1  tt0066787  One Day Before the Rainy Season  Ashad Ka Ek Din  2019   \n",
       "\n",
       "   runtime_minutes              genres  \n",
       "0            175.0  Action,Crime,Drama  \n",
       "1            114.0     Biography,Drama  "
      ]
     },
     "metadata": {},
     "output_type": "display_data"
    },
    {
     "data": {
      "text/plain": [
       "146144"
      ]
     },
     "metadata": {},
     "output_type": "display_data"
    }
   ],
   "source": [
    "# IMDB datafile of title information could be important \n",
    "tbasics = pd.read_csv('Data/imdb.title.basics.csv')\n",
    "tbasics.rename(columns = {'tconst':'imdb_id'}, inplace = True)\n",
    "tbasics.rename(columns = {'start_year':'year'}, inplace = True)\n",
    "display(tbasics.head(2),len(tbasics))"
   ]
  },
  {
   "cell_type": "code",
   "execution_count": 15,
   "metadata": {
    "scrolled": true
   },
   "outputs": [
    {
     "data": {
      "text/html": [
       "<div>\n",
       "<style scoped>\n",
       "    .dataframe tbody tr th:only-of-type {\n",
       "        vertical-align: middle;\n",
       "    }\n",
       "\n",
       "    .dataframe tbody tr th {\n",
       "        vertical-align: top;\n",
       "    }\n",
       "\n",
       "    .dataframe thead th {\n",
       "        text-align: right;\n",
       "    }\n",
       "</style>\n",
       "<table border=\"1\" class=\"dataframe\">\n",
       "  <thead>\n",
       "    <tr style=\"text-align: right;\">\n",
       "      <th></th>\n",
       "      <th>imdb_id</th>\n",
       "      <th>primary_title</th>\n",
       "      <th>original_title</th>\n",
       "      <th>year</th>\n",
       "      <th>runtime_minutes</th>\n",
       "      <th>genres</th>\n",
       "    </tr>\n",
       "  </thead>\n",
       "  <tbody>\n",
       "    <tr>\n",
       "      <td>44991</td>\n",
       "      <td>tt2667914</td>\n",
       "      <td>Pepe el andaluz</td>\n",
       "      <td>Pepe el andaluz</td>\n",
       "      <td>2013</td>\n",
       "      <td>84.0</td>\n",
       "      <td>Documentary,Drama,Family</td>\n",
       "    </tr>\n",
       "  </tbody>\n",
       "</table>\n",
       "</div>"
      ],
      "text/plain": [
       "         imdb_id    primary_title   original_title  year  runtime_minutes  \\\n",
       "44991  tt2667914  Pepe el andaluz  Pepe el andaluz  2013             84.0   \n",
       "\n",
       "                         genres  \n",
       "44991  Documentary,Drama,Family  "
      ]
     },
     "execution_count": 15,
     "metadata": {},
     "output_type": "execute_result"
    }
   ],
   "source": [
    "# check if the imdb_id is consistant here\n",
    "rand_id=np.random.randint(0,len(tbasics))   # this is a really good way to randamly sample the file \n",
    "title=tbasics.loc[rand_id,'imdb_id']\n",
    "tbasics.loc[(tbasics.imdb_id == title) ]\n",
    "# checked many imdb_id's and data is good and consistant. need some cleaning "
   ]
  },
  {
   "cell_type": "code",
   "execution_count": 16,
   "metadata": {
    "scrolled": true
   },
   "outputs": [],
   "source": [
    "# clean runtime_minutes(31739), genres(5408). I wouldn't drop any null lines \n",
    "# as primary title is all non-null\n",
    "# no cleaning needed\n",
    "tbasics['primary_title']=tbasics.primary_title.map(lambda x: x.strip(), na_action='ignore')\n",
    "tbasics['original_title']=tbasics.original_title.map(lambda x: x.strip(), na_action='ignore')\n",
    "tbasics['original_title'].fillna(value='unknown',inplace=True)\n",
    "tbasics['year'] = pd.to_numeric(tbasics['year'],errors='coerce')\n",
    "tbasics['year'].fillna(value=3001 ,inplace=True)\n",
    "tbasics['runtime_minutes'] = pd.to_numeric(tbasics['runtime_minutes'],errors='coerce')\n",
    "tbasics['runtime_minutes'].fillna(value=-1.0 ,inplace=True)\n",
    "tbasics['genres']=tbasics.genres.map(lambda x: x.strip(), na_action='ignore')\n",
    "tbasics['genres'].fillna(value='unknown',inplace=True)\n",
    "#tbasics.isna().sum() # it's clean\n",
    "# save the cleaned file \n",
    "#tbasics.to_csv('Data/imdb.title.basics_clean.csv', index=False)"
   ]
  },
  {
   "cell_type": "code",
   "execution_count": 17,
   "metadata": {
    "scrolled": true
   },
   "outputs": [
    {
     "data": {
      "text/html": [
       "<div>\n",
       "<style scoped>\n",
       "    .dataframe tbody tr th:only-of-type {\n",
       "        vertical-align: middle;\n",
       "    }\n",
       "\n",
       "    .dataframe tbody tr th {\n",
       "        vertical-align: top;\n",
       "    }\n",
       "\n",
       "    .dataframe thead th {\n",
       "        text-align: right;\n",
       "    }\n",
       "</style>\n",
       "<table border=\"1\" class=\"dataframe\">\n",
       "  <thead>\n",
       "    <tr style=\"text-align: right;\">\n",
       "      <th></th>\n",
       "      <th>imdb_id</th>\n",
       "      <th>directors</th>\n",
       "      <th>writers</th>\n",
       "    </tr>\n",
       "  </thead>\n",
       "  <tbody>\n",
       "    <tr>\n",
       "      <td>0</td>\n",
       "      <td>tt0285252</td>\n",
       "      <td>nm0899854</td>\n",
       "      <td>nm0899854</td>\n",
       "    </tr>\n",
       "    <tr>\n",
       "      <td>1</td>\n",
       "      <td>tt0438973</td>\n",
       "      <td>NaN</td>\n",
       "      <td>nm0175726,nm1802864</td>\n",
       "    </tr>\n",
       "  </tbody>\n",
       "</table>\n",
       "</div>"
      ],
      "text/plain": [
       "     imdb_id  directors              writers\n",
       "0  tt0285252  nm0899854            nm0899854\n",
       "1  tt0438973        NaN  nm0175726,nm1802864"
      ]
     },
     "metadata": {},
     "output_type": "display_data"
    },
    {
     "data": {
      "text/plain": [
       "146144"
      ]
     },
     "metadata": {},
     "output_type": "display_data"
    }
   ],
   "source": [
    "# IMDB all crew information per title needs imdb.name.basics.csv file \n",
    "crew = pd.read_csv('Data/imdb.title.crew.csv')\n",
    "crew.rename(columns = {'tconst':'imdb_id'}, inplace = True)\n",
    "display(crew.head(2),len(crew))"
   ]
  },
  {
   "cell_type": "code",
   "execution_count": 18,
   "metadata": {},
   "outputs": [
    {
     "data": {
      "text/html": [
       "<div>\n",
       "<style scoped>\n",
       "    .dataframe tbody tr th:only-of-type {\n",
       "        vertical-align: middle;\n",
       "    }\n",
       "\n",
       "    .dataframe tbody tr th {\n",
       "        vertical-align: top;\n",
       "    }\n",
       "\n",
       "    .dataframe thead th {\n",
       "        text-align: right;\n",
       "    }\n",
       "</style>\n",
       "<table border=\"1\" class=\"dataframe\">\n",
       "  <thead>\n",
       "    <tr style=\"text-align: right;\">\n",
       "      <th></th>\n",
       "      <th>imdb_id</th>\n",
       "      <th>directors</th>\n",
       "      <th>writers</th>\n",
       "    </tr>\n",
       "  </thead>\n",
       "  <tbody>\n",
       "    <tr>\n",
       "      <td>112352</td>\n",
       "      <td>tt3373262</td>\n",
       "      <td>nm3809488</td>\n",
       "      <td>nm3027289,nm3905570,nm3809488</td>\n",
       "    </tr>\n",
       "  </tbody>\n",
       "</table>\n",
       "</div>"
      ],
      "text/plain": [
       "          imdb_id  directors                        writers\n",
       "112352  tt3373262  nm3809488  nm3027289,nm3905570,nm3809488"
      ]
     },
     "execution_count": 18,
     "metadata": {},
     "output_type": "execute_result"
    }
   ],
   "source": [
    "# check if the imdb_id is consistant here\n",
    "rand_id=np.random.randint(0,len(crew))   \n",
    "title=crew.loc[rand_id,'imdb_id']\n",
    "crew.loc[(crew.imdb_id == title) ]"
   ]
  },
  {
   "cell_type": "code",
   "execution_count": 19,
   "metadata": {
    "scrolled": true
   },
   "outputs": [],
   "source": [
    "#print(\"before\\n\", crew.isna().sum())\n",
    "crew['directors']=crew.directors.map(lambda x: x.strip(), na_action='ignore')\n",
    "crew['writers']=crew.writers.map(lambda x: x.strip(), na_action='ignore')\n",
    "crew['writers'].fillna(value='unknown',inplace=True)\n",
    "crew = crew[crew.writers != 'unknown']\n",
    "crew['directors'].fillna(value='unknown',inplace=True)\n",
    "crew = crew[crew.directors != 'unknown']\n",
    "#print(\"after\\n\", crew.isna().sum())\n",
    "# save the cleaned file \n",
    "#tbasics.to_csv('Data/imdb.title.crew_clean.csv', index=False)"
   ]
  },
  {
   "cell_type": "code",
   "execution_count": 20,
   "metadata": {
    "scrolled": true
   },
   "outputs": [
    {
     "data": {
      "text/html": [
       "<div>\n",
       "<style scoped>\n",
       "    .dataframe tbody tr th:only-of-type {\n",
       "        vertical-align: middle;\n",
       "    }\n",
       "\n",
       "    .dataframe tbody tr th {\n",
       "        vertical-align: top;\n",
       "    }\n",
       "\n",
       "    .dataframe thead th {\n",
       "        text-align: right;\n",
       "    }\n",
       "</style>\n",
       "<table border=\"1\" class=\"dataframe\">\n",
       "  <thead>\n",
       "    <tr style=\"text-align: right;\">\n",
       "      <th></th>\n",
       "      <th>imdb_id</th>\n",
       "      <th>averagerating</th>\n",
       "      <th>numvotes</th>\n",
       "    </tr>\n",
       "  </thead>\n",
       "  <tbody>\n",
       "    <tr>\n",
       "      <td>0</td>\n",
       "      <td>tt10356526</td>\n",
       "      <td>8.3</td>\n",
       "      <td>31</td>\n",
       "    </tr>\n",
       "    <tr>\n",
       "      <td>1</td>\n",
       "      <td>tt10384606</td>\n",
       "      <td>8.9</td>\n",
       "      <td>559</td>\n",
       "    </tr>\n",
       "  </tbody>\n",
       "</table>\n",
       "</div>"
      ],
      "text/plain": [
       "      imdb_id  averagerating  numvotes\n",
       "0  tt10356526            8.3        31\n",
       "1  tt10384606            8.9       559"
      ]
     },
     "metadata": {},
     "output_type": "display_data"
    },
    {
     "data": {
      "text/plain": [
       "73856"
      ]
     },
     "metadata": {},
     "output_type": "display_data"
    }
   ],
   "source": [
    "# IMDB ratings \n",
    "ratings = pd.read_csv('Data/imdb.title.ratings.csv')\n",
    "ratings.rename(columns = {'tconst':'imdb_id'}, inplace = True)\n",
    "display(ratings.head(2), len(ratings))"
   ]
  },
  {
   "cell_type": "code",
   "execution_count": 21,
   "metadata": {},
   "outputs": [
    {
     "data": {
      "text/html": [
       "<div>\n",
       "<style scoped>\n",
       "    .dataframe tbody tr th:only-of-type {\n",
       "        vertical-align: middle;\n",
       "    }\n",
       "\n",
       "    .dataframe tbody tr th {\n",
       "        vertical-align: top;\n",
       "    }\n",
       "\n",
       "    .dataframe thead th {\n",
       "        text-align: right;\n",
       "    }\n",
       "</style>\n",
       "<table border=\"1\" class=\"dataframe\">\n",
       "  <thead>\n",
       "    <tr style=\"text-align: right;\">\n",
       "      <th></th>\n",
       "      <th>imdb_id</th>\n",
       "      <th>averagerating</th>\n",
       "      <th>numvotes</th>\n",
       "    </tr>\n",
       "  </thead>\n",
       "  <tbody>\n",
       "    <tr>\n",
       "      <td>65252</td>\n",
       "      <td>tt2117979</td>\n",
       "      <td>3.9</td>\n",
       "      <td>117</td>\n",
       "    </tr>\n",
       "  </tbody>\n",
       "</table>\n",
       "</div>"
      ],
      "text/plain": [
       "         imdb_id  averagerating  numvotes\n",
       "65252  tt2117979            3.9       117"
      ]
     },
     "execution_count": 21,
     "metadata": {},
     "output_type": "execute_result"
    }
   ],
   "source": [
    "# check if the imdb_id is consistant here\n",
    "rand_id=np.random.randint(0,len(ratings))   \n",
    "title=ratings.loc[rand_id,'imdb_id']\n",
    "ratings.loc[(ratings.imdb_id == title) ]"
   ]
  },
  {
   "cell_type": "code",
   "execution_count": 22,
   "metadata": {
    "scrolled": true
   },
   "outputs": [],
   "source": [
    "#print(\"before:\\n\", ratings.isna().sum())\n",
    "ratings['averagerating'] = pd.to_numeric(ratings['averagerating'],errors='coerce')\n",
    "ratings['numvotes'] = pd.to_numeric(ratings['numvotes'],errors='coerce')\n",
    "#print(\"after:\\n\", ratings.isna().sum()) # looks pretty clean\n",
    "ratings.to_csv('Data/imdb.title.ratings_clean.csv', index=False)"
   ]
  },
  {
   "cell_type": "code",
   "execution_count": 23,
   "metadata": {
    "scrolled": false
   },
   "outputs": [
    {
     "data": {
      "text/html": [
       "<div>\n",
       "<style scoped>\n",
       "    .dataframe tbody tr th:only-of-type {\n",
       "        vertical-align: middle;\n",
       "    }\n",
       "\n",
       "    .dataframe tbody tr th {\n",
       "        vertical-align: top;\n",
       "    }\n",
       "\n",
       "    .dataframe thead th {\n",
       "        text-align: right;\n",
       "    }\n",
       "</style>\n",
       "<table border=\"1\" class=\"dataframe\">\n",
       "  <thead>\n",
       "    <tr style=\"text-align: right;\">\n",
       "      <th></th>\n",
       "      <th>imdb_id</th>\n",
       "      <th>ordering</th>\n",
       "      <th>nconst</th>\n",
       "      <th>category</th>\n",
       "      <th>job</th>\n",
       "      <th>characters</th>\n",
       "    </tr>\n",
       "  </thead>\n",
       "  <tbody>\n",
       "    <tr>\n",
       "      <td>0</td>\n",
       "      <td>tt0111414</td>\n",
       "      <td>1</td>\n",
       "      <td>nm0246005</td>\n",
       "      <td>actor</td>\n",
       "      <td>NaN</td>\n",
       "      <td>[\"The Man\"]</td>\n",
       "    </tr>\n",
       "    <tr>\n",
       "      <td>1</td>\n",
       "      <td>tt0111414</td>\n",
       "      <td>2</td>\n",
       "      <td>nm0398271</td>\n",
       "      <td>director</td>\n",
       "      <td>NaN</td>\n",
       "      <td>NaN</td>\n",
       "    </tr>\n",
       "  </tbody>\n",
       "</table>\n",
       "</div>"
      ],
      "text/plain": [
       "     imdb_id  ordering     nconst  category  job   characters\n",
       "0  tt0111414         1  nm0246005     actor  NaN  [\"The Man\"]\n",
       "1  tt0111414         2  nm0398271  director  NaN          NaN"
      ]
     },
     "metadata": {},
     "output_type": "display_data"
    },
    {
     "data": {
      "text/plain": [
       "1028186"
      ]
     },
     "metadata": {},
     "output_type": "display_data"
    }
   ],
   "source": [
    "# this data maybe redundent \n",
    "principals = pd.read_csv('Data/imdb.title.principals.csv')\n",
    "principals.rename(columns = {'tconst':'imdb_id'}, inplace = True)\n",
    "display(principals.head(2),len(principals))"
   ]
  },
  {
   "cell_type": "code",
   "execution_count": 24,
   "metadata": {
    "scrolled": true
   },
   "outputs": [],
   "source": [
    "#print(\"before:\\n\", principals.isna().sum())\n",
    "principals.dropna(inplace=True) # null after cleaning. data is useless \n",
    "#print(\"after:\\n\", principals.isna().sum()) # looks pretty clean\n",
    "#display(principals.head(2),len(principals))"
   ]
  },
  {
   "cell_type": "markdown",
   "metadata": {},
   "source": [
    "## TheMovieDB data file"
   ]
  },
  {
   "cell_type": "code",
   "execution_count": 25,
   "metadata": {
    "scrolled": false
   },
   "outputs": [
    {
     "data": {
      "text/html": [
       "<div>\n",
       "<style scoped>\n",
       "    .dataframe tbody tr th:only-of-type {\n",
       "        vertical-align: middle;\n",
       "    }\n",
       "\n",
       "    .dataframe tbody tr th {\n",
       "        vertical-align: top;\n",
       "    }\n",
       "\n",
       "    .dataframe thead th {\n",
       "        text-align: right;\n",
       "    }\n",
       "</style>\n",
       "<table border=\"1\" class=\"dataframe\">\n",
       "  <thead>\n",
       "    <tr style=\"text-align: right;\">\n",
       "      <th></th>\n",
       "      <th>id</th>\n",
       "      <th>original_language</th>\n",
       "      <th>original_title</th>\n",
       "      <th>release_date</th>\n",
       "      <th>title</th>\n",
       "      <th>vote_average</th>\n",
       "      <th>vote_count</th>\n",
       "    </tr>\n",
       "  </thead>\n",
       "  <tbody>\n",
       "    <tr>\n",
       "      <td>0</td>\n",
       "      <td>12444</td>\n",
       "      <td>en</td>\n",
       "      <td>Harry Potter and the Deathly Hallows: Part 1</td>\n",
       "      <td>2010-11-19</td>\n",
       "      <td>Harry Potter and the Deathly Hallows: Part 1</td>\n",
       "      <td>7.7</td>\n",
       "      <td>10788</td>\n",
       "    </tr>\n",
       "    <tr>\n",
       "      <td>1</td>\n",
       "      <td>10191</td>\n",
       "      <td>en</td>\n",
       "      <td>How to Train Your Dragon</td>\n",
       "      <td>2010-03-26</td>\n",
       "      <td>How to Train Your Dragon</td>\n",
       "      <td>7.7</td>\n",
       "      <td>7610</td>\n",
       "    </tr>\n",
       "    <tr>\n",
       "      <td>2</td>\n",
       "      <td>10138</td>\n",
       "      <td>en</td>\n",
       "      <td>Iron Man 2</td>\n",
       "      <td>2010-05-07</td>\n",
       "      <td>Iron Man 2</td>\n",
       "      <td>6.8</td>\n",
       "      <td>12368</td>\n",
       "    </tr>\n",
       "  </tbody>\n",
       "</table>\n",
       "</div>"
      ],
      "text/plain": [
       "      id original_language                                original_title  \\\n",
       "0  12444                en  Harry Potter and the Deathly Hallows: Part 1   \n",
       "1  10191                en                      How to Train Your Dragon   \n",
       "2  10138                en                                    Iron Man 2   \n",
       "\n",
       "  release_date                                         title  vote_average  \\\n",
       "0   2010-11-19  Harry Potter and the Deathly Hallows: Part 1           7.7   \n",
       "1   2010-03-26                      How to Train Your Dragon           7.7   \n",
       "2   2010-05-07                                    Iron Man 2           6.8   \n",
       "\n",
       "   vote_count  \n",
       "0       10788  \n",
       "1        7610  \n",
       "2       12368  "
      ]
     },
     "metadata": {},
     "output_type": "display_data"
    },
    {
     "data": {
      "text/plain": [
       "26517"
      ]
     },
     "metadata": {},
     "output_type": "display_data"
    }
   ],
   "source": [
    "# TheMovieDB.org\n",
    "tmdb = pd.read_csv('Data/tmdb.movies.csv')\n",
    "\n",
    "# we'll drop ['Unnamed: 0', 'genre_ids', 'popularity']\n",
    "tmdb.drop(columns=['Unnamed: 0', 'genre_ids', 'popularity'], inplace=True) \n",
    "display(tmdb.head(3), len(tmdb))"
   ]
  },
  {
   "cell_type": "code",
   "execution_count": 26,
   "metadata": {},
   "outputs": [],
   "source": [
    "# comprihencive data in TMDB\n",
    "tmdb['original_language']=tmdb.original_language.map(lambda x: x.strip() , na_action='ignore')\n",
    "tmdb['original_title']=tmdb.original_title.map(lambda x: x.strip() , na_action='ignore')\n",
    "tmdb['release_date']=tmdb.release_date.map(lambda x: x.strip() , na_action='ignore')\n",
    "tmdb['title']=tmdb.title.map(lambda x: x.strip() , na_action='ignore')\n",
    "\n",
    "#print(\"before:\\n\", tmdb.isna().sum())\n",
    "tmdb.dropna(inplace=True) # null after cleaning. data is useless \n",
    "#print(\"after:\\n\", tmdb.isna().sum()) # looks pretty clean now"
   ]
  },
  {
   "cell_type": "markdown",
   "metadata": {},
   "source": [
    "# Alternative data from IMDBpro\n",
    "credit: Jesse Newman for web scraping"
   ]
  },
  {
   "cell_type": "code",
   "execution_count": 27,
   "metadata": {
    "scrolled": false
   },
   "outputs": [],
   "source": [
    "region=pd.read_csv('Data/region.csv')\n",
    "revenue=pd.read_csv('Data/revenue.csv')\n",
    "genres=pd.read_csv('Data/genres.csv')\n",
    "date=pd.read_csv('Data/date.csv')\n",
    "# credit: Jesse Newman for web scraping"
   ]
  },
  {
   "cell_type": "code",
   "execution_count": 28,
   "metadata": {},
   "outputs": [],
   "source": [
    "#display(region.head(2))\n",
    "#display(revenue.head(2))\n",
    "#display(genres.head(2))\n",
    "#display(date.head(2))"
   ]
  },
  {
   "cell_type": "code",
   "execution_count": 29,
   "metadata": {},
   "outputs": [
    {
     "data": {
      "text/html": [
       "<div>\n",
       "<style scoped>\n",
       "    .dataframe tbody tr th:only-of-type {\n",
       "        vertical-align: middle;\n",
       "    }\n",
       "\n",
       "    .dataframe tbody tr th {\n",
       "        vertical-align: top;\n",
       "    }\n",
       "\n",
       "    .dataframe thead th {\n",
       "        text-align: right;\n",
       "    }\n",
       "</style>\n",
       "<table border=\"1\" class=\"dataframe\">\n",
       "  <thead>\n",
       "    <tr style=\"text-align: right;\">\n",
       "      <th></th>\n",
       "      <th>imdb_id</th>\n",
       "      <th>title</th>\n",
       "      <th>year</th>\n",
       "      <th>director</th>\n",
       "      <th>production_co</th>\n",
       "      <th>region_code</th>\n",
       "      <th>rank</th>\n",
       "      <th>budget_usd</th>\n",
       "      <th>us_gross</th>\n",
       "    </tr>\n",
       "  </thead>\n",
       "  <tbody>\n",
       "    <tr>\n",
       "      <td>7850</td>\n",
       "      <td>NaN</td>\n",
       "      <td>NaN</td>\n",
       "      <td>NaN</td>\n",
       "      <td>NaN</td>\n",
       "      <td>NaN</td>\n",
       "      <td>NaN</td>\n",
       "      <td>NaN</td>\n",
       "      <td>NaN</td>\n",
       "      <td>NaN</td>\n",
       "    </tr>\n",
       "  </tbody>\n",
       "</table>\n",
       "</div>"
      ],
      "text/plain": [
       "     imdb_id title year director production_co region_code rank budget_usd  \\\n",
       "7850     NaN   NaN  NaN      NaN           NaN         NaN  NaN        NaN   \n",
       "\n",
       "     us_gross  \n",
       "7850      NaN  "
      ]
     },
     "metadata": {},
     "output_type": "display_data"
    },
    {
     "data": {
      "text/plain": [
       "0"
      ]
     },
     "metadata": {},
     "output_type": "display_data"
    },
    {
     "data": {
      "text/plain": [
       "0"
      ]
     },
     "metadata": {},
     "output_type": "display_data"
    },
    {
     "data": {
      "text/plain": [
       "0"
      ]
     },
     "metadata": {},
     "output_type": "display_data"
    }
   ],
   "source": [
    "display(region.loc[region.imdb_id.isnull()==True])\n",
    "display(revenue.imdb_id.isnull().sum())\n",
    "display(genres.imdb_id.isnull().sum())\n",
    "display(date.imdb_id.isnull().sum())"
   ]
  },
  {
   "cell_type": "code",
   "execution_count": 30,
   "metadata": {},
   "outputs": [],
   "source": [
    "region = region.drop(7850)"
   ]
  },
  {
   "cell_type": "code",
   "execution_count": 31,
   "metadata": {},
   "outputs": [
    {
     "data": {
      "text/html": [
       "<div>\n",
       "<style scoped>\n",
       "    .dataframe tbody tr th:only-of-type {\n",
       "        vertical-align: middle;\n",
       "    }\n",
       "\n",
       "    .dataframe tbody tr th {\n",
       "        vertical-align: top;\n",
       "    }\n",
       "\n",
       "    .dataframe thead th {\n",
       "        text-align: right;\n",
       "    }\n",
       "</style>\n",
       "<table border=\"1\" class=\"dataframe\">\n",
       "  <thead>\n",
       "    <tr style=\"text-align: right;\">\n",
       "      <th></th>\n",
       "      <th>imdb_id</th>\n",
       "      <th>title</th>\n",
       "      <th>year</th>\n",
       "      <th>region_code</th>\n",
       "    </tr>\n",
       "  </thead>\n",
       "  <tbody>\n",
       "    <tr>\n",
       "      <td>0</td>\n",
       "      <td>tt2488496</td>\n",
       "      <td>Star Wars: Episode VII - The Force Awakens</td>\n",
       "      <td>2015</td>\n",
       "      <td>[US]</td>\n",
       "    </tr>\n",
       "    <tr>\n",
       "      <td>1</td>\n",
       "      <td>tt4154796</td>\n",
       "      <td>Avengers: Endgame</td>\n",
       "      <td>2019</td>\n",
       "      <td>[US]</td>\n",
       "    </tr>\n",
       "  </tbody>\n",
       "</table>\n",
       "</div>"
      ],
      "text/plain": [
       "     imdb_id                                       title  year region_code\n",
       "0  tt2488496  Star Wars: Episode VII - The Force Awakens  2015        [US]\n",
       "1  tt4154796                           Avengers: Endgame  2019        [US]"
      ]
     },
     "metadata": {},
     "output_type": "display_data"
    }
   ],
   "source": [
    "# removing redundant cols \n",
    "region.drop(['director', 'production_co', 'rank', 'budget_usd', 'us_gross'], axis = 1, inplace=True)\n",
    "#region = region.imdb_id.duplicated(keep='first')\n",
    "display(region.head(2))\n",
    "\n",
    "revenue.drop('rank', axis = 1, inplace=True)"
   ]
  },
  {
   "cell_type": "code",
   "execution_count": 32,
   "metadata": {},
   "outputs": [
    {
     "data": {
      "text/html": [
       "<div>\n",
       "<style scoped>\n",
       "    .dataframe tbody tr th:only-of-type {\n",
       "        vertical-align: middle;\n",
       "    }\n",
       "\n",
       "    .dataframe tbody tr th {\n",
       "        vertical-align: top;\n",
       "    }\n",
       "\n",
       "    .dataframe thead th {\n",
       "        text-align: right;\n",
       "    }\n",
       "</style>\n",
       "<table border=\"1\" class=\"dataframe\">\n",
       "  <thead>\n",
       "    <tr style=\"text-align: right;\">\n",
       "      <th></th>\n",
       "      <th>imdb_id</th>\n",
       "      <th>title</th>\n",
       "      <th>year</th>\n",
       "      <th>region_code</th>\n",
       "    </tr>\n",
       "  </thead>\n",
       "  <tbody>\n",
       "    <tr>\n",
       "      <td>0</td>\n",
       "      <td>tt2488496</td>\n",
       "      <td>Star Wars: Episode VII - The Force Awakens</td>\n",
       "      <td>2015</td>\n",
       "      <td>US</td>\n",
       "    </tr>\n",
       "    <tr>\n",
       "      <td>1</td>\n",
       "      <td>tt4154796</td>\n",
       "      <td>Avengers: Endgame</td>\n",
       "      <td>2019</td>\n",
       "      <td>US</td>\n",
       "    </tr>\n",
       "  </tbody>\n",
       "</table>\n",
       "</div>"
      ],
      "text/plain": [
       "     imdb_id                                       title  year region_code\n",
       "0  tt2488496  Star Wars: Episode VII - The Force Awakens  2015          US\n",
       "1  tt4154796                           Avengers: Endgame  2019          US"
      ]
     },
     "metadata": {},
     "output_type": "display_data"
    }
   ],
   "source": [
    "# clean region_code\n",
    "region['region_code'] = region['region_code'].str.replace('\\[', '')\n",
    "region['region_code'] = region['region_code'].str.replace('\\]', '')\n",
    "display(region.head(2))"
   ]
  },
  {
   "cell_type": "code",
   "execution_count": 33,
   "metadata": {},
   "outputs": [
    {
     "data": {
      "text/html": [
       "<div>\n",
       "<style scoped>\n",
       "    .dataframe tbody tr th:only-of-type {\n",
       "        vertical-align: middle;\n",
       "    }\n",
       "\n",
       "    .dataframe tbody tr th {\n",
       "        vertical-align: top;\n",
       "    }\n",
       "\n",
       "    .dataframe thead th {\n",
       "        text-align: right;\n",
       "    }\n",
       "</style>\n",
       "<table border=\"1\" class=\"dataframe\">\n",
       "  <thead>\n",
       "    <tr style=\"text-align: right;\">\n",
       "      <th></th>\n",
       "      <th>imdb_id</th>\n",
       "      <th>title</th>\n",
       "      <th>year</th>\n",
       "      <th>region_code</th>\n",
       "    </tr>\n",
       "  </thead>\n",
       "  <tbody>\n",
       "    <tr>\n",
       "      <td>320</td>\n",
       "      <td>tt0142342</td>\n",
       "      <td>Big Daddy</td>\n",
       "      <td>1999</td>\n",
       "      <td>NaN</td>\n",
       "    </tr>\n",
       "    <tr>\n",
       "      <td>432</td>\n",
       "      <td>tt0119217</td>\n",
       "      <td>Good Will Hunting</td>\n",
       "      <td>1997</td>\n",
       "      <td>NaN</td>\n",
       "    </tr>\n",
       "    <tr>\n",
       "      <td>441</td>\n",
       "      <td>tt0120685</td>\n",
       "      <td>Godzilla</td>\n",
       "      <td>1998</td>\n",
       "      <td>NaN</td>\n",
       "    </tr>\n",
       "    <tr>\n",
       "      <td>446</td>\n",
       "      <td>tt0100758</td>\n",
       "      <td>Teenage Mutant Ninja Turtles</td>\n",
       "      <td>1990</td>\n",
       "      <td>NaN</td>\n",
       "    </tr>\n",
       "    <tr>\n",
       "      <td>491</td>\n",
       "      <td>tt0190332</td>\n",
       "      <td>Crouching Tiger, Hidden Dragon</td>\n",
       "      <td>2000</td>\n",
       "      <td>NaN</td>\n",
       "    </tr>\n",
       "    <tr>\n",
       "      <td>...</td>\n",
       "      <td>...</td>\n",
       "      <td>...</td>\n",
       "      <td>...</td>\n",
       "      <td>...</td>\n",
       "    </tr>\n",
       "    <tr>\n",
       "      <td>14677</td>\n",
       "      <td>tt0094671</td>\n",
       "      <td>Apprentice to Murder</td>\n",
       "      <td>1988</td>\n",
       "      <td>NaN</td>\n",
       "    </tr>\n",
       "    <tr>\n",
       "      <td>14680</td>\n",
       "      <td>tt0099053</td>\n",
       "      <td>Archangel</td>\n",
       "      <td>1990</td>\n",
       "      <td>NaN</td>\n",
       "    </tr>\n",
       "    <tr>\n",
       "      <td>14681</td>\n",
       "      <td>tt0129758</td>\n",
       "      <td>Arguing the World</td>\n",
       "      <td>1997</td>\n",
       "      <td>NaN</td>\n",
       "    </tr>\n",
       "    <tr>\n",
       "      <td>14682</td>\n",
       "      <td>tt6097926</td>\n",
       "      <td>Arrangiarsi: Pizza... &amp; the Art of Living</td>\n",
       "      <td>2017</td>\n",
       "      <td>NaN</td>\n",
       "    </tr>\n",
       "    <tr>\n",
       "      <td>14699</td>\n",
       "      <td>tt0109191</td>\n",
       "      <td>Babyfever</td>\n",
       "      <td>1994</td>\n",
       "      <td>NaN</td>\n",
       "    </tr>\n",
       "  </tbody>\n",
       "</table>\n",
       "<p>1253 rows × 4 columns</p>\n",
       "</div>"
      ],
      "text/plain": [
       "         imdb_id                                      title  year region_code\n",
       "320    tt0142342                                  Big Daddy  1999         NaN\n",
       "432    tt0119217                          Good Will Hunting  1997         NaN\n",
       "441    tt0120685                                   Godzilla  1998         NaN\n",
       "446    tt0100758               Teenage Mutant Ninja Turtles  1990         NaN\n",
       "491    tt0190332             Crouching Tiger, Hidden Dragon  2000         NaN\n",
       "...          ...                                        ...   ...         ...\n",
       "14677  tt0094671                       Apprentice to Murder  1988         NaN\n",
       "14680  tt0099053                                  Archangel  1990         NaN\n",
       "14681  tt0129758                          Arguing the World  1997         NaN\n",
       "14682  tt6097926  Arrangiarsi: Pizza... & the Art of Living  2017         NaN\n",
       "14699  tt0109191                                  Babyfever  1994         NaN\n",
       "\n",
       "[1253 rows x 4 columns]"
      ]
     },
     "execution_count": 33,
     "metadata": {},
     "output_type": "execute_result"
    }
   ],
   "source": [
    "region.loc[region.region_code.isnull() == True]"
   ]
  },
  {
   "cell_type": "code",
   "execution_count": 34,
   "metadata": {},
   "outputs": [],
   "source": [
    "region.region_code.fillna(value = 'unknown', inplace = True) # some of the movies are obviously made in US. Thus I labelled it \n",
    "# as 'unknown' so that they maybe included in the analysis once other method can be used to verify their origin"
   ]
  },
  {
   "cell_type": "code",
   "execution_count": 35,
   "metadata": {},
   "outputs": [],
   "source": [
    "# clean revenue year column \n",
    "cnt = 0\n",
    "for index in range(len(revenue)):\n",
    "    try:\n",
    "        clean_year=revenue.iloc[index]['year']\n",
    "        int(clean_year)\n",
    "    except ValueError:\n",
    "        #print(index, revenue.iloc[index]['year'])\n",
    "        # clean it.\n",
    "        #clean_year=clean_year.split(\"-\",1)\n",
    "        revenue.at[index, 'year'] = str(clean_year[0:4])\n",
    "        #revenue.iloc[index]['year'] = str(clean_year[0:4])\n",
    "        #print(\"new year =\",clean_year[0:4])\n",
    "    cnt+=1\n",
    "\n",
    "revenue['year'] = revenue['year'].astype('int64')\n",
    "revenue['us_gross'] = revenue['us_gross'].astype('float64')"
   ]
  },
  {
   "cell_type": "code",
   "execution_count": 36,
   "metadata": {},
   "outputs": [],
   "source": [
    "#display(region.info())\n",
    "#display(revenue.info())\n",
    "#display(genres.info())\n",
    "#display(date.info())"
   ]
  },
  {
   "cell_type": "markdown",
   "metadata": {},
   "source": [
    "## is region important ? \n",
    "Since Microsoft is a US based company it may be predent to select US based movies. Let's inspect the data more closely."
   ]
  },
  {
   "cell_type": "code",
   "execution_count": 37,
   "metadata": {},
   "outputs": [
    {
     "data": {
      "text/html": [
       "<div>\n",
       "<style scoped>\n",
       "    .dataframe tbody tr th:only-of-type {\n",
       "        vertical-align: middle;\n",
       "    }\n",
       "\n",
       "    .dataframe tbody tr th {\n",
       "        vertical-align: top;\n",
       "    }\n",
       "\n",
       "    .dataframe thead th {\n",
       "        text-align: right;\n",
       "    }\n",
       "</style>\n",
       "<table border=\"1\" class=\"dataframe\">\n",
       "  <thead>\n",
       "    <tr style=\"text-align: right;\">\n",
       "      <th></th>\n",
       "      <th>imdb_id</th>\n",
       "      <th>title</th>\n",
       "      <th>year</th>\n",
       "      <th>region_code</th>\n",
       "    </tr>\n",
       "  </thead>\n",
       "  <tbody>\n",
       "    <tr>\n",
       "      <td>35</td>\n",
       "      <td>tt2283362</td>\n",
       "      <td>Jumanji: Welcome to the Jungle</td>\n",
       "      <td>2017</td>\n",
       "      <td>PH</td>\n",
       "    </tr>\n",
       "    <tr>\n",
       "      <td>109</td>\n",
       "      <td>tt3470600</td>\n",
       "      <td>Sing</td>\n",
       "      <td>2016</td>\n",
       "      <td>JP</td>\n",
       "    </tr>\n",
       "    <tr>\n",
       "      <td>149</td>\n",
       "      <td>tt3183660</td>\n",
       "      <td>Fantastic Beasts and Where to Find Them</td>\n",
       "      <td>2016</td>\n",
       "      <td>GB</td>\n",
       "    </tr>\n",
       "    <tr>\n",
       "      <td>181</td>\n",
       "      <td>tt1727824</td>\n",
       "      <td>Bohemian Rhapsody</td>\n",
       "      <td>2018</td>\n",
       "      <td>GB</td>\n",
       "    </tr>\n",
       "    <tr>\n",
       "      <td>216</td>\n",
       "      <td>tt2379713</td>\n",
       "      <td>Spectre</td>\n",
       "      <td>2015</td>\n",
       "      <td>GB</td>\n",
       "    </tr>\n",
       "    <tr>\n",
       "      <td>232</td>\n",
       "      <td>tt5013056</td>\n",
       "      <td>Dunkirk</td>\n",
       "      <td>2017</td>\n",
       "      <td>GB</td>\n",
       "    </tr>\n",
       "    <tr>\n",
       "      <td>280</td>\n",
       "      <td>tt0090555</td>\n",
       "      <td>Crocodile Dundee</td>\n",
       "      <td>1986</td>\n",
       "      <td>AU</td>\n",
       "    </tr>\n",
       "    <tr>\n",
       "      <td>320</td>\n",
       "      <td>tt0142342</td>\n",
       "      <td>Big Daddy</td>\n",
       "      <td>1999</td>\n",
       "      <td>unknown</td>\n",
       "    </tr>\n",
       "    <tr>\n",
       "      <td>331</td>\n",
       "      <td>tt0246460</td>\n",
       "      <td>Die Another Day</td>\n",
       "      <td>2002</td>\n",
       "      <td>GB</td>\n",
       "    </tr>\n",
       "    <tr>\n",
       "      <td>335</td>\n",
       "      <td>tt4123430</td>\n",
       "      <td>Fantastic Beasts: The Crimes of Grindelwald</td>\n",
       "      <td>2018</td>\n",
       "      <td>GB</td>\n",
       "    </tr>\n",
       "  </tbody>\n",
       "</table>\n",
       "</div>"
      ],
      "text/plain": [
       "       imdb_id                                        title  year region_code\n",
       "35   tt2283362               Jumanji: Welcome to the Jungle  2017          PH\n",
       "109  tt3470600                                         Sing  2016          JP\n",
       "149  tt3183660      Fantastic Beasts and Where to Find Them  2016          GB\n",
       "181  tt1727824                            Bohemian Rhapsody  2018          GB\n",
       "216  tt2379713                                      Spectre  2015          GB\n",
       "232  tt5013056                                      Dunkirk  2017          GB\n",
       "280  tt0090555                             Crocodile Dundee  1986          AU\n",
       "320  tt0142342                                    Big Daddy  1999     unknown\n",
       "331  tt0246460                              Die Another Day  2002          GB\n",
       "335  tt4123430  Fantastic Beasts: The Crimes of Grindelwald  2018          GB"
      ]
     },
     "execution_count": 37,
     "metadata": {},
     "output_type": "execute_result"
    }
   ],
   "source": [
    "region.loc[region.region_code != 'US'].head(10)"
   ]
  },
  {
   "cell_type": "markdown",
   "metadata": {},
   "source": [
    "The 1^st random example <b>\"Jumanji: Welcome to the Jungle\"</b>  designated as PH in this data is clearly wrong. It's a US based movie and became quite popular critically as well as commercially. Also <b>\"spectre\"</b>, the 007 series moview is a hugely popular movie. It seems from the first glasnce it may be mileading to filter out movies that are not designated as US.\n",
    "\n",
    "## Movie budget and gross revenue "
   ]
  },
  {
   "cell_type": "code",
   "execution_count": 38,
   "metadata": {},
   "outputs": [
    {
     "data": {
      "text/html": [
       "<div>\n",
       "<style scoped>\n",
       "    .dataframe tbody tr th:only-of-type {\n",
       "        vertical-align: middle;\n",
       "    }\n",
       "\n",
       "    .dataframe tbody tr th {\n",
       "        vertical-align: top;\n",
       "    }\n",
       "\n",
       "    .dataframe thead th {\n",
       "        text-align: right;\n",
       "    }\n",
       "</style>\n",
       "<table border=\"1\" class=\"dataframe\">\n",
       "  <thead>\n",
       "    <tr style=\"text-align: right;\">\n",
       "      <th></th>\n",
       "      <th>imdb_id</th>\n",
       "      <th>title</th>\n",
       "      <th>year</th>\n",
       "      <th>director</th>\n",
       "      <th>production_co</th>\n",
       "      <th>budget_usd</th>\n",
       "      <th>us_gross</th>\n",
       "    </tr>\n",
       "  </thead>\n",
       "  <tbody>\n",
       "    <tr>\n",
       "      <td>304</td>\n",
       "      <td>tt0486946</td>\n",
       "      <td>Wild Hogs</td>\n",
       "      <td>2007</td>\n",
       "      <td>Walt Becker</td>\n",
       "      <td>Touchstone Pictures</td>\n",
       "      <td>-1.0</td>\n",
       "      <td>168000000.0</td>\n",
       "    </tr>\n",
       "    <tr>\n",
       "      <td>559</td>\n",
       "      <td>tt0082846</td>\n",
       "      <td>On Golden Pond</td>\n",
       "      <td>1981</td>\n",
       "      <td>Mark Rydell</td>\n",
       "      <td>IPC Films</td>\n",
       "      <td>-1.0</td>\n",
       "      <td>119000000.0</td>\n",
       "    </tr>\n",
       "    <tr>\n",
       "      <td>595</td>\n",
       "      <td>tt0091326</td>\n",
       "      <td>The Karate Kid Part II</td>\n",
       "      <td>1986</td>\n",
       "      <td>John G. Avildsen</td>\n",
       "      <td>Columbia Pictures</td>\n",
       "      <td>-1.0</td>\n",
       "      <td>115000000.0</td>\n",
       "    </tr>\n",
       "    <tr>\n",
       "      <td>712</td>\n",
       "      <td>tt0034492</td>\n",
       "      <td>Bambi</td>\n",
       "      <td>1942</td>\n",
       "      <td>James Algar</td>\n",
       "      <td>Walt Disney Animation Studios</td>\n",
       "      <td>-1.0</td>\n",
       "      <td>102000000.0</td>\n",
       "    </tr>\n",
       "    <tr>\n",
       "      <td>726</td>\n",
       "      <td>tt0081562</td>\n",
       "      <td>Stir Crazy</td>\n",
       "      <td>1980</td>\n",
       "      <td>Sidney Poitier</td>\n",
       "      <td>Columbia Pictures</td>\n",
       "      <td>-1.0</td>\n",
       "      <td>101000000.0</td>\n",
       "    </tr>\n",
       "    <tr>\n",
       "      <td>...</td>\n",
       "      <td>...</td>\n",
       "      <td>...</td>\n",
       "      <td>...</td>\n",
       "      <td>...</td>\n",
       "      <td>...</td>\n",
       "      <td>...</td>\n",
       "      <td>...</td>\n",
       "    </tr>\n",
       "    <tr>\n",
       "      <td>14421</td>\n",
       "      <td>tt7615722</td>\n",
       "      <td>The Legend of Hallowaiian</td>\n",
       "      <td>2018</td>\n",
       "      <td>Sean Patrick O'Reilly</td>\n",
       "      <td>Arcana Studio</td>\n",
       "      <td>-1.0</td>\n",
       "      <td>451.0</td>\n",
       "    </tr>\n",
       "    <tr>\n",
       "      <td>14423</td>\n",
       "      <td>tt1757742</td>\n",
       "      <td>Apartment 143</td>\n",
       "      <td>2011</td>\n",
       "      <td>Carles Torrens</td>\n",
       "      <td>Nostromo Pictures</td>\n",
       "      <td>-1.0</td>\n",
       "      <td>383.0</td>\n",
       "    </tr>\n",
       "    <tr>\n",
       "      <td>14425</td>\n",
       "      <td>tt0462302</td>\n",
       "      <td>Intervention</td>\n",
       "      <td>2007</td>\n",
       "      <td>Mary McGuckian</td>\n",
       "      <td>Scion Films</td>\n",
       "      <td>-1.0</td>\n",
       "      <td>279.0</td>\n",
       "    </tr>\n",
       "    <tr>\n",
       "      <td>14427</td>\n",
       "      <td>tt4796122</td>\n",
       "      <td>Satanic</td>\n",
       "      <td>2016</td>\n",
       "      <td>Jeffrey G. Hunt</td>\n",
       "      <td>Magnet Releasing</td>\n",
       "      <td>-1.0</td>\n",
       "      <td>252.0</td>\n",
       "    </tr>\n",
       "    <tr>\n",
       "      <td>14429</td>\n",
       "      <td>tt1157631</td>\n",
       "      <td>Dog Eat Dog</td>\n",
       "      <td>2008</td>\n",
       "      <td>Carlos Moreno</td>\n",
       "      <td>64 A Films</td>\n",
       "      <td>-1.0</td>\n",
       "      <td>80.0</td>\n",
       "    </tr>\n",
       "  </tbody>\n",
       "</table>\n",
       "<p>6534 rows × 7 columns</p>\n",
       "</div>"
      ],
      "text/plain": [
       "         imdb_id                      title  year               director  \\\n",
       "304    tt0486946                  Wild Hogs  2007            Walt Becker   \n",
       "559    tt0082846             On Golden Pond  1981            Mark Rydell   \n",
       "595    tt0091326     The Karate Kid Part II  1986       John G. Avildsen   \n",
       "712    tt0034492                      Bambi  1942            James Algar   \n",
       "726    tt0081562                 Stir Crazy  1980         Sidney Poitier   \n",
       "...          ...                        ...   ...                    ...   \n",
       "14421  tt7615722  The Legend of Hallowaiian  2018  Sean Patrick O'Reilly   \n",
       "14423  tt1757742              Apartment 143  2011         Carles Torrens   \n",
       "14425  tt0462302               Intervention  2007         Mary McGuckian   \n",
       "14427  tt4796122                    Satanic  2016        Jeffrey G. Hunt   \n",
       "14429  tt1157631                Dog Eat Dog  2008          Carlos Moreno   \n",
       "\n",
       "                       production_co  budget_usd     us_gross  \n",
       "304              Touchstone Pictures        -1.0  168000000.0  \n",
       "559                        IPC Films        -1.0  119000000.0  \n",
       "595                Columbia Pictures        -1.0  115000000.0  \n",
       "712    Walt Disney Animation Studios        -1.0  102000000.0  \n",
       "726                Columbia Pictures        -1.0  101000000.0  \n",
       "...                              ...         ...          ...  \n",
       "14421                  Arcana Studio        -1.0        451.0  \n",
       "14423              Nostromo Pictures        -1.0        383.0  \n",
       "14425                    Scion Films        -1.0        279.0  \n",
       "14427               Magnet Releasing        -1.0        252.0  \n",
       "14429                     64 A Films        -1.0         80.0  \n",
       "\n",
       "[6534 rows x 7 columns]"
      ]
     },
     "metadata": {},
     "output_type": "display_data"
    },
    {
     "data": {
      "text/plain": [
       "count    1.443100e+04\n",
       "mean     4.908767e+08\n",
       "std      1.154901e+10\n",
       "min     -1.000000e+00\n",
       "25%     -1.000000e+00\n",
       "50%      1.000000e+06\n",
       "75%      1.800000e+07\n",
       "max      8.198500e+11\n",
       "Name: budget_usd, dtype: float64"
      ]
     },
     "metadata": {},
     "output_type": "display_data"
    },
    {
     "data": {
      "text/plain": [
       "0"
      ]
     },
     "metadata": {},
     "output_type": "display_data"
    },
    {
     "data": {
      "text/plain": [
       "count    1.443100e+04\n",
       "mean     2.052120e+07\n",
       "std      4.948649e+07\n",
       "min      3.000000e+01\n",
       "25%      1.010000e+05\n",
       "50%      1.500000e+06\n",
       "75%      1.900000e+07\n",
       "max      9.370000e+08\n",
       "Name: us_gross, dtype: float64"
      ]
     },
     "metadata": {},
     "output_type": "display_data"
    }
   ],
   "source": [
    "# budget_usd   us_gross\n",
    "#display(revenue.loc[revenue.budget_usd == -1]['budget_usd'].count())\n",
    "display(revenue.loc[revenue.budget_usd == -1])\n",
    "display(revenue.budget_usd.describe())\n",
    "display(revenue.loc[revenue.us_gross < 0]['us_gross'].count())\n",
    "display(revenue.us_gross.describe())"
   ]
  },
  {
   "cell_type": "markdown",
   "metadata": {},
   "source": [
    "To understand the profitability of the movie both gross revenue and budget is needed. In this dataset with 14,431 entries, 6,534 entries do not have budget information. However, movies like <b>Wild Hogs</b> (\\$ 168 million) and <b>Bambi</b> (\\$ 102 million) clearly had boxoffice success. Thus, eliminating those data at this stage might not be predent. "
   ]
  },
  {
   "cell_type": "markdown",
   "metadata": {},
   "source": [
    "## Join region, genre, date, runtime and rating to  revenue DataFrame"
   ]
  },
  {
   "cell_type": "code",
   "execution_count": 39,
   "metadata": {},
   "outputs": [],
   "source": [
    "# joining region to the revenue table \n",
    "region.drop(['title', 'year'], axis = 1, inplace=True)\n",
    "region.sort_values(by=['imdb_id'], inplace=False)\n",
    "revenue.sort_values(by=['imdb_id'], inplace=False)\n",
    "\n",
    "# join gave a weird bug. joined table didn't have the correct number of records\n",
    "# so following code joining the tables brute force correctly\n",
    "j=0\n",
    "Row_list =[] \n",
    "mylist = []\n",
    "for i in range(len(revenue)):\n",
    "    #i=j\n",
    "    while  revenue.iloc[i]['imdb_id'] != region.iloc[j]['imdb_id']:\n",
    "        j+=1\n",
    "    if revenue.iloc[i]['imdb_id'] == region.iloc[j]['imdb_id']:\n",
    "        imdbid=region.iloc[j]['imdb_id']\n",
    "        code=region.iloc[j]['region_code']\n",
    "        mylist=[imdbid, code]\n",
    "        Row_list.append(mylist) \n",
    "\n",
    "df = pd.DataFrame(Row_list, columns= region.columns)\n",
    "\n",
    "# now the join should exactly teild 14,431 records \n",
    "df.set_index('imdb_id', inplace=True)\n",
    "revenue.set_index('imdb_id', inplace=True)\n",
    "revenue = revenue.join(df, how='right', lsuffix='1', rsuffix='1',  sort=True)\n",
    "df.reset_index('imdb_id', inplace=True)\n",
    "revenue.reset_index('imdb_id', inplace=True)"
   ]
  },
  {
   "cell_type": "code",
   "execution_count": 40,
   "metadata": {},
   "outputs": [],
   "source": [
    "# joining genres to the revenue table \n",
    "genres.drop(['title', 'year'], axis = 1, inplace=True)\n",
    "genres.sort_values(by=['imdb_id'], inplace=False)\n",
    "revenue.sort_values(by=['imdb_id'], inplace=False)\n",
    "genres.set_index('imdb_id', inplace=True)\n",
    "revenue.set_index('imdb_id', inplace=True)\n",
    "revenue = revenue.join(genres, how='left', lsuffix='1', rsuffix='1',  sort=True)\n",
    "genres.reset_index('imdb_id', inplace=True)\n",
    "revenue.reset_index('imdb_id', inplace=True)\n",
    "#display(revenue.head(3))"
   ]
  },
  {
   "cell_type": "code",
   "execution_count": 41,
   "metadata": {},
   "outputs": [],
   "source": [
    "# joining date to the revenue table \n",
    "date.drop(['title'], axis = 1, inplace=True)\n",
    "date.sort_values(by=['imdb_id'], inplace=False)\n",
    "revenue.sort_values(by=['imdb_id'], inplace=False)\n",
    "date.set_index('imdb_id', inplace=True)\n",
    "revenue.set_index('imdb_id', inplace=True)\n",
    "revenue = revenue.join(date, how='left', lsuffix='1', rsuffix='1',  sort=True)\n",
    "date.reset_index('imdb_id', inplace=True)\n",
    "revenue.reset_index('imdb_id', inplace=True)\n",
    "# clean date\n",
    "revenue['date'] = revenue['date'].astype('datetime64[ns]')\n",
    "#display(revenue.head(3))"
   ]
  },
  {
   "cell_type": "code",
   "execution_count": 42,
   "metadata": {},
   "outputs": [],
   "source": [
    "# joining runtime to the revenue table \n",
    "tbasics.drop(['primary_title', 'original_title', 'year', 'genres'], axis = 1, inplace=True)\n",
    "tbasics.sort_values(by=['imdb_id'], inplace=False)\n",
    "revenue.sort_values(by=['imdb_id'], inplace=False)\n",
    "tbasics.set_index('imdb_id', inplace=True)\n",
    "revenue.set_index('imdb_id', inplace=True)\n",
    "revenue = revenue.join(tbasics, how='left', lsuffix='1', rsuffix='1',  sort=True)\n",
    "tbasics.reset_index('imdb_id', inplace=True)\n",
    "revenue.reset_index('imdb_id', inplace=True)\n",
    "#display(revenue.head(3))"
   ]
  },
  {
   "cell_type": "code",
   "execution_count": 43,
   "metadata": {},
   "outputs": [],
   "source": [
    "# joining ratings to the revenue table \n",
    "ratings.drop(['numvotes'], axis = 1, inplace=True)\n",
    "ratings.sort_values(by=['imdb_id'], inplace=False)\n",
    "revenue.sort_values(by=['imdb_id'], inplace=False)\n",
    "ratings.set_index('imdb_id', inplace=True)\n",
    "revenue.set_index('imdb_id', inplace=True)\n",
    "revenue = revenue.join(ratings, how='left', lsuffix='1', rsuffix='1',  sort=True)\n",
    "ratings.reset_index('imdb_id', inplace=True)\n",
    "revenue.reset_index('imdb_id', inplace=True)\n",
    "#display(revenue.head(3))"
   ]
  },
  {
   "cell_type": "code",
   "execution_count": 44,
   "metadata": {},
   "outputs": [
    {
     "data": {
      "text/html": [
       "<div>\n",
       "<style scoped>\n",
       "    .dataframe tbody tr th:only-of-type {\n",
       "        vertical-align: middle;\n",
       "    }\n",
       "\n",
       "    .dataframe tbody tr th {\n",
       "        vertical-align: top;\n",
       "    }\n",
       "\n",
       "    .dataframe thead th {\n",
       "        text-align: right;\n",
       "    }\n",
       "</style>\n",
       "<table border=\"1\" class=\"dataframe\">\n",
       "  <thead>\n",
       "    <tr style=\"text-align: right;\">\n",
       "      <th></th>\n",
       "      <th>imdb_id</th>\n",
       "      <th>title</th>\n",
       "      <th>year</th>\n",
       "      <th>director</th>\n",
       "      <th>production_co</th>\n",
       "      <th>budget_usd</th>\n",
       "      <th>us_gross</th>\n",
       "      <th>region_code</th>\n",
       "      <th>genres</th>\n",
       "      <th>date</th>\n",
       "      <th>runtime_minutes</th>\n",
       "      <th>averagerating</th>\n",
       "    </tr>\n",
       "  </thead>\n",
       "  <tbody>\n",
       "    <tr>\n",
       "      <td>0</td>\n",
       "      <td>tt0012190</td>\n",
       "      <td>The Four Horsemen of the Apocalypse</td>\n",
       "      <td>1921</td>\n",
       "      <td>Rex Ingram</td>\n",
       "      <td>Metro Pictures Corporation</td>\n",
       "      <td>800000.0</td>\n",
       "      <td>9200000.0</td>\n",
       "      <td>US</td>\n",
       "      <td>Drama,Romance,War</td>\n",
       "      <td>1921-03-06</td>\n",
       "      <td>NaN</td>\n",
       "      <td>NaN</td>\n",
       "    </tr>\n",
       "    <tr>\n",
       "      <td>1</td>\n",
       "      <td>tt0012494</td>\n",
       "      <td>Destiny</td>\n",
       "      <td>1921</td>\n",
       "      <td>Fritz Lang</td>\n",
       "      <td>Decla-Bioscop AG</td>\n",
       "      <td>-1.0</td>\n",
       "      <td>12000.0</td>\n",
       "      <td>DE</td>\n",
       "      <td>Drama,Fantasy,Thriller</td>\n",
       "      <td>1921-10-06</td>\n",
       "      <td>NaN</td>\n",
       "      <td>NaN</td>\n",
       "    </tr>\n",
       "  </tbody>\n",
       "</table>\n",
       "</div>"
      ],
      "text/plain": [
       "     imdb_id                                title  year    director  \\\n",
       "0  tt0012190  The Four Horsemen of the Apocalypse  1921  Rex Ingram   \n",
       "1  tt0012494                              Destiny  1921  Fritz Lang   \n",
       "\n",
       "                production_co  budget_usd   us_gross region_code  \\\n",
       "0  Metro Pictures Corporation    800000.0  9200000.0          US   \n",
       "1            Decla-Bioscop AG        -1.0    12000.0          DE   \n",
       "\n",
       "                   genres       date  runtime_minutes  averagerating  \n",
       "0       Drama,Romance,War 1921-03-06              NaN            NaN  \n",
       "1  Drama,Fantasy,Thriller 1921-10-06              NaN            NaN  "
      ]
     },
     "metadata": {},
     "output_type": "display_data"
    },
    {
     "data": {
      "text/plain": [
       "14428"
      ]
     },
     "metadata": {},
     "output_type": "display_data"
    }
   ],
   "source": [
    "# above 3 raws lack both budget and genre information. This dropping\n",
    "revenue=revenue[revenue.genres != '\\\\N']\n",
    "display(revenue.head(2), len(revenue))"
   ]
  },
  {
   "cell_type": "code",
   "execution_count": 45,
   "metadata": {},
   "outputs": [],
   "source": [
    "revenue.to_csv('Data/movie_main.csv', index=False)"
   ]
  },
  {
   "cell_type": "code",
   "execution_count": 46,
   "metadata": {},
   "outputs": [
    {
     "data": {
      "text/html": [
       "<div>\n",
       "<style scoped>\n",
       "    .dataframe tbody tr th:only-of-type {\n",
       "        vertical-align: middle;\n",
       "    }\n",
       "\n",
       "    .dataframe tbody tr th {\n",
       "        vertical-align: top;\n",
       "    }\n",
       "\n",
       "    .dataframe thead th {\n",
       "        text-align: right;\n",
       "    }\n",
       "</style>\n",
       "<table border=\"1\" class=\"dataframe\">\n",
       "  <thead>\n",
       "    <tr style=\"text-align: right;\">\n",
       "      <th></th>\n",
       "      <th>imdb_id</th>\n",
       "      <th>title</th>\n",
       "      <th>year</th>\n",
       "      <th>director</th>\n",
       "      <th>production_co</th>\n",
       "      <th>budget_usd</th>\n",
       "      <th>us_gross</th>\n",
       "      <th>region_code</th>\n",
       "      <th>genres</th>\n",
       "      <th>date</th>\n",
       "      <th>runtime_minutes</th>\n",
       "      <th>averagerating</th>\n",
       "    </tr>\n",
       "  </thead>\n",
       "  <tbody>\n",
       "    <tr>\n",
       "      <td>0</td>\n",
       "      <td>tt0012190</td>\n",
       "      <td>The Four Horsemen of the Apocalypse</td>\n",
       "      <td>1921</td>\n",
       "      <td>Rex Ingram</td>\n",
       "      <td>Metro Pictures Corporation</td>\n",
       "      <td>800000.0</td>\n",
       "      <td>9200000.0</td>\n",
       "      <td>US</td>\n",
       "      <td>Drama,Romance,War</td>\n",
       "      <td>1921-03-06</td>\n",
       "      <td>NaN</td>\n",
       "      <td>NaN</td>\n",
       "    </tr>\n",
       "    <tr>\n",
       "      <td>1</td>\n",
       "      <td>tt0012494</td>\n",
       "      <td>Destiny</td>\n",
       "      <td>1921</td>\n",
       "      <td>Fritz Lang</td>\n",
       "      <td>Decla-Bioscop AG</td>\n",
       "      <td>-1.0</td>\n",
       "      <td>12000.0</td>\n",
       "      <td>DE</td>\n",
       "      <td>Drama,Fantasy,Thriller</td>\n",
       "      <td>1921-10-06</td>\n",
       "      <td>NaN</td>\n",
       "      <td>NaN</td>\n",
       "    </tr>\n",
       "    <tr>\n",
       "      <td>2</td>\n",
       "      <td>tt0015648</td>\n",
       "      <td>Battleship Potemkin</td>\n",
       "      <td>1925</td>\n",
       "      <td>Sergei M. Eisenstein</td>\n",
       "      <td>Goskino</td>\n",
       "      <td>-1.0</td>\n",
       "      <td>51000.0</td>\n",
       "      <td>SUHH</td>\n",
       "      <td>Drama,History,Thriller</td>\n",
       "      <td>1925-12-24</td>\n",
       "      <td>NaN</td>\n",
       "      <td>NaN</td>\n",
       "    </tr>\n",
       "    <tr>\n",
       "      <td>3</td>\n",
       "      <td>tt0017136</td>\n",
       "      <td>Metropolis</td>\n",
       "      <td>1927</td>\n",
       "      <td>Fritz Lang</td>\n",
       "      <td>Universum Film (UFA)</td>\n",
       "      <td>0.0</td>\n",
       "      <td>1200000.0</td>\n",
       "      <td>DE</td>\n",
       "      <td>Drama,Sci-Fi</td>\n",
       "      <td>1927-01-10</td>\n",
       "      <td>NaN</td>\n",
       "      <td>NaN</td>\n",
       "    </tr>\n",
       "    <tr>\n",
       "      <td>4</td>\n",
       "      <td>tt0018737</td>\n",
       "      <td>Pandora's Box</td>\n",
       "      <td>1929</td>\n",
       "      <td>Georg Wilhelm Pabst</td>\n",
       "      <td>Nero-Film AG</td>\n",
       "      <td>-1.0</td>\n",
       "      <td>53000.0</td>\n",
       "      <td>DE</td>\n",
       "      <td>Crime,Drama,Romance</td>\n",
       "      <td>1929-01-30</td>\n",
       "      <td>NaN</td>\n",
       "      <td>NaN</td>\n",
       "    </tr>\n",
       "    <tr>\n",
       "      <td>5</td>\n",
       "      <td>tt0019254</td>\n",
       "      <td>The Passion of Joan of Arc</td>\n",
       "      <td>1928</td>\n",
       "      <td>Carl Theodor Dreyer</td>\n",
       "      <td>Société générale des films</td>\n",
       "      <td>-1.0</td>\n",
       "      <td>22000.0</td>\n",
       "      <td>FR</td>\n",
       "      <td>Biography,Drama,History</td>\n",
       "      <td>1928-04-21</td>\n",
       "      <td>NaN</td>\n",
       "      <td>NaN</td>\n",
       "    </tr>\n",
       "    <tr>\n",
       "      <td>6</td>\n",
       "      <td>tt0021577</td>\n",
       "      <td>L'Age d'Or</td>\n",
       "      <td>1930</td>\n",
       "      <td>Luis Buñuel</td>\n",
       "      <td>Vicomte de Noailles</td>\n",
       "      <td>-1.0</td>\n",
       "      <td>33000.0</td>\n",
       "      <td>FR</td>\n",
       "      <td>Comedy,Drama</td>\n",
       "      <td>1930-10-28</td>\n",
       "      <td>NaN</td>\n",
       "      <td>NaN</td>\n",
       "    </tr>\n",
       "    <tr>\n",
       "      <td>7</td>\n",
       "      <td>tt0021749</td>\n",
       "      <td>City Lights</td>\n",
       "      <td>1931</td>\n",
       "      <td>Charles Chaplin</td>\n",
       "      <td>Charles Chaplin Productions</td>\n",
       "      <td>1500000.0</td>\n",
       "      <td>19000.0</td>\n",
       "      <td>US</td>\n",
       "      <td>Comedy,Drama,Romance</td>\n",
       "      <td>1931-02-01</td>\n",
       "      <td>NaN</td>\n",
       "      <td>NaN</td>\n",
       "    </tr>\n",
       "    <tr>\n",
       "      <td>8</td>\n",
       "      <td>tt0022100</td>\n",
       "      <td>M</td>\n",
       "      <td>1931</td>\n",
       "      <td>Fritz Lang</td>\n",
       "      <td>Nero-Film AG</td>\n",
       "      <td>-1.0</td>\n",
       "      <td>36000.0</td>\n",
       "      <td>DE</td>\n",
       "      <td>Crime,Mystery,Thriller</td>\n",
       "      <td>1931-05-11</td>\n",
       "      <td>NaN</td>\n",
       "      <td>NaN</td>\n",
       "    </tr>\n",
       "    <tr>\n",
       "      <td>9</td>\n",
       "      <td>tt0022877</td>\n",
       "      <td>Fanny</td>\n",
       "      <td>1932</td>\n",
       "      <td>Marc Allégret</td>\n",
       "      <td>Les Films Marcel Pagnol</td>\n",
       "      <td>-1.0</td>\n",
       "      <td>8000.0</td>\n",
       "      <td>FR</td>\n",
       "      <td>Comedy,Drama</td>\n",
       "      <td>1932-11-02</td>\n",
       "      <td>NaN</td>\n",
       "      <td>NaN</td>\n",
       "    </tr>\n",
       "  </tbody>\n",
       "</table>\n",
       "</div>"
      ],
      "text/plain": [
       "     imdb_id                                title  year              director  \\\n",
       "0  tt0012190  The Four Horsemen of the Apocalypse  1921            Rex Ingram   \n",
       "1  tt0012494                              Destiny  1921            Fritz Lang   \n",
       "2  tt0015648                  Battleship Potemkin  1925  Sergei M. Eisenstein   \n",
       "3  tt0017136                           Metropolis  1927            Fritz Lang   \n",
       "4  tt0018737                        Pandora's Box  1929   Georg Wilhelm Pabst   \n",
       "5  tt0019254           The Passion of Joan of Arc  1928   Carl Theodor Dreyer   \n",
       "6  tt0021577                           L'Age d'Or  1930           Luis Buñuel   \n",
       "7  tt0021749                          City Lights  1931       Charles Chaplin   \n",
       "8  tt0022100                                    M  1931            Fritz Lang   \n",
       "9  tt0022877                                Fanny  1932         Marc Allégret   \n",
       "\n",
       "                 production_co  budget_usd   us_gross region_code  \\\n",
       "0   Metro Pictures Corporation    800000.0  9200000.0          US   \n",
       "1             Decla-Bioscop AG        -1.0    12000.0          DE   \n",
       "2                      Goskino        -1.0    51000.0        SUHH   \n",
       "3         Universum Film (UFA)         0.0  1200000.0          DE   \n",
       "4                 Nero-Film AG        -1.0    53000.0          DE   \n",
       "5   Société générale des films        -1.0    22000.0          FR   \n",
       "6          Vicomte de Noailles        -1.0    33000.0          FR   \n",
       "7  Charles Chaplin Productions   1500000.0    19000.0          US   \n",
       "8                 Nero-Film AG        -1.0    36000.0          DE   \n",
       "9      Les Films Marcel Pagnol        -1.0     8000.0          FR   \n",
       "\n",
       "                    genres       date  runtime_minutes  averagerating  \n",
       "0        Drama,Romance,War 1921-03-06              NaN            NaN  \n",
       "1   Drama,Fantasy,Thriller 1921-10-06              NaN            NaN  \n",
       "2   Drama,History,Thriller 1925-12-24              NaN            NaN  \n",
       "3             Drama,Sci-Fi 1927-01-10              NaN            NaN  \n",
       "4      Crime,Drama,Romance 1929-01-30              NaN            NaN  \n",
       "5  Biography,Drama,History 1928-04-21              NaN            NaN  \n",
       "6             Comedy,Drama 1930-10-28              NaN            NaN  \n",
       "7     Comedy,Drama,Romance 1931-02-01              NaN            NaN  \n",
       "8   Crime,Mystery,Thriller 1931-05-11              NaN            NaN  \n",
       "9             Comedy,Drama 1932-11-02              NaN            NaN  "
      ]
     },
     "execution_count": 46,
     "metadata": {},
     "output_type": "execute_result"
    }
   ],
   "source": [
    "revenue.head(10)"
   ]
  },
  {
   "cell_type": "code",
   "execution_count": null,
   "metadata": {},
   "outputs": [],
   "source": []
  }
 ],
 "metadata": {
  "kernelspec": {
   "display_name": "Python [conda env:learn-env] *",
   "language": "python",
   "name": "conda-env-learn-env-py"
  },
  "language_info": {
   "codemirror_mode": {
    "name": "ipython",
    "version": 3
   },
   "file_extension": ".py",
   "mimetype": "text/x-python",
   "name": "python",
   "nbconvert_exporter": "python",
   "pygments_lexer": "ipython3",
   "version": "3.6.9"
  },
  "toc": {
   "base_numbering": 1,
   "nav_menu": {},
   "number_sections": true,
   "sideBar": true,
   "skip_h1_title": true,
   "title_cell": "Table of Contents",
   "title_sidebar": "Contents",
   "toc_cell": false,
   "toc_position": {},
   "toc_section_display": true,
   "toc_window_display": false
  }
 },
 "nbformat": 4,
 "nbformat_minor": 2
}
