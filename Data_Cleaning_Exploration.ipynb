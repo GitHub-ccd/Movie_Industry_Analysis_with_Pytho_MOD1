{
 "cells": [
  {
   "cell_type": "markdown",
   "metadata": {},
   "source": [
    "# <h1 align=\"center\" style=\"font-size:200%; color:blue\">Microsoft’s entrance to Movie business</h1><br>\n",
    "<h1 align=\"center\" style=\"font-size:200%; color:blue\">Data loading and cleaning and exploration</h1> <br>\n",
    "\n",
    "<p style=\"color:black\"> First I shall explore and clean the data files provided for the project. Following table contains the 11 files categorized by the data sources. </p> <br>\n",
    "\n",
    "|      __IMDB__                |    __Box Office Mojo__   |   __Rotten Tomatoes__  | __TheMovieDB.org__  |\n",
    "|------------------------------|--------------------------|------------------------|---------------------|\n",
    "| 1. imdb.name.basics.csv      | 7. bom.movie_gross.csv   | 8. rt.movie_info.tsv   | 10. tmdb.movies.csv |\n",
    "| 2. imdb.title.akas.csv       |                          | 9. rt.reviews.tsv      |                     |\n",
    "| 3. imdb.title.basics.csv     |                          |                        |                     |\n",
    "| 4. imdb.title.crew.csv       |                          |                        |                     |\n",
    "| 5. imdb.title.principals.csv |                          |                        |                     |\n",
    "| 6. imdb.title.ratings.csv    |                          |                        |                     |\n",
    "|------------------------------|--------------------------|------------------------|---------------------|\n",
    "|11. tn.movie_budgets.csv      |                          |                        |                     |\n",
    "\n",
    "<p style=\"font-size:100%; color:green\"> Methodology:  <b>R</b>OSEMED</p>\n",
    "<!--><p style=\"color:black\"> <b>R</b>OSEMED method </p> <-->"
   ]
  },
  {
   "cell_type": "code",
   "execution_count": 1,
   "metadata": {},
   "outputs": [],
   "source": [
    "# importing libraries\n",
    "import pandas as pd\n",
    "import numpy as np"
   ]
  },
  {
   "cell_type": "markdown",
   "metadata": {},
   "source": [
    "# Data loading and cleaning"
   ]
  },
  {
   "cell_type": "markdown",
   "metadata": {},
   "source": [
    "## cleaning the-numbers.com data file"
   ]
  },
  {
   "cell_type": "code",
   "execution_count": 2,
   "metadata": {},
   "outputs": [
    {
     "data": {
      "text/html": [
       "<div>\n",
       "<style scoped>\n",
       "    .dataframe tbody tr th:only-of-type {\n",
       "        vertical-align: middle;\n",
       "    }\n",
       "\n",
       "    .dataframe tbody tr th {\n",
       "        vertical-align: top;\n",
       "    }\n",
       "\n",
       "    .dataframe thead th {\n",
       "        text-align: right;\n",
       "    }\n",
       "</style>\n",
       "<table border=\"1\" class=\"dataframe\">\n",
       "  <thead>\n",
       "    <tr style=\"text-align: right;\">\n",
       "      <th></th>\n",
       "      <th>id</th>\n",
       "      <th>release_date</th>\n",
       "      <th>movie</th>\n",
       "      <th>production_budget</th>\n",
       "      <th>domestic_gross</th>\n",
       "      <th>worldwide_gross</th>\n",
       "    </tr>\n",
       "  </thead>\n",
       "  <tbody>\n",
       "    <tr>\n",
       "      <td>0</td>\n",
       "      <td>1</td>\n",
       "      <td>Dec 18, 2009</td>\n",
       "      <td>Avatar</td>\n",
       "      <td>$425,000,000</td>\n",
       "      <td>$760,507,625</td>\n",
       "      <td>$2,776,345,279</td>\n",
       "    </tr>\n",
       "    <tr>\n",
       "      <td>1</td>\n",
       "      <td>2</td>\n",
       "      <td>May 20, 2011</td>\n",
       "      <td>Pirates of the Caribbean: On Stranger Tides</td>\n",
       "      <td>$410,600,000</td>\n",
       "      <td>$241,063,875</td>\n",
       "      <td>$1,045,663,875</td>\n",
       "    </tr>\n",
       "    <tr>\n",
       "      <td>2</td>\n",
       "      <td>3</td>\n",
       "      <td>Jun 7, 2019</td>\n",
       "      <td>Dark Phoenix</td>\n",
       "      <td>$350,000,000</td>\n",
       "      <td>$42,762,350</td>\n",
       "      <td>$149,762,350</td>\n",
       "    </tr>\n",
       "    <tr>\n",
       "      <td>3</td>\n",
       "      <td>4</td>\n",
       "      <td>May 1, 2015</td>\n",
       "      <td>Avengers: Age of Ultron</td>\n",
       "      <td>$330,600,000</td>\n",
       "      <td>$459,005,868</td>\n",
       "      <td>$1,403,013,963</td>\n",
       "    </tr>\n",
       "  </tbody>\n",
       "</table>\n",
       "</div>"
      ],
      "text/plain": [
       "   id  release_date                                        movie  \\\n",
       "0   1  Dec 18, 2009                                       Avatar   \n",
       "1   2  May 20, 2011  Pirates of the Caribbean: On Stranger Tides   \n",
       "2   3   Jun 7, 2019                                 Dark Phoenix   \n",
       "3   4   May 1, 2015                      Avengers: Age of Ultron   \n",
       "\n",
       "  production_budget domestic_gross worldwide_gross  \n",
       "0      $425,000,000   $760,507,625  $2,776,345,279  \n",
       "1      $410,600,000   $241,063,875  $1,045,663,875  \n",
       "2      $350,000,000    $42,762,350    $149,762,350  \n",
       "3      $330,600,000   $459,005,868  $1,403,013,963  "
      ]
     },
     "metadata": {},
     "output_type": "display_data"
    },
    {
     "data": {
      "text/plain": [
       "5782"
      ]
     },
     "metadata": {},
     "output_type": "display_data"
    }
   ],
   "source": [
    "\"\"\"\n",
    "original source: https://www.the-numbers.com/movie/budgets\n",
    "\"\"\"\n",
    "tn_budgets = pd.read_csv('Data/tn.movie_budgets.csv')\n",
    "display(tn_budgets.head(4), len(tn_budgets))"
   ]
  },
  {
   "cell_type": "code",
   "execution_count": 3,
   "metadata": {
    "scrolled": true
   },
   "outputs": [],
   "source": [
    "# id column useless\n",
    "tn_budgets = tn_budgets.drop('id', axis=1)\n",
    "# format date\n",
    "tn_budgets['release_date'] = pd.to_datetime(tn_budgets['release_date'])\n",
    "# clean movie column\n",
    "tn_budgets.movie = tn_budgets.movie.str.strip()\n",
    "# clean movie domestic_gross, production_budget and worldwide_gross\n",
    "tn_budgets['domestic_gross'] = tn_budgets['domestic_gross'].str.replace(\n",
    "    '$', '')\n",
    "tn_budgets['domestic_gross'] = tn_budgets['domestic_gross'].str.replace(\n",
    "    ',', '')\n",
    "tn_budgets['domestic_gross'] = tn_budgets['domestic_gross'].astype(float)\n",
    "tn_budgets['production_budget'] = tn_budgets['production_budget'].str.replace(\n",
    "    '$', '')\n",
    "tn_budgets['production_budget'] = tn_budgets['production_budget'].str.replace(\n",
    "    ',', '')\n",
    "tn_budgets['production_budget'] = tn_budgets['production_budget'].astype(float)\n",
    "tn_budgets['worldwide_gross'] = tn_budgets['worldwide_gross'].str.replace(\n",
    "    '$', '')\n",
    "tn_budgets['worldwide_gross'] = tn_budgets['worldwide_gross'].str.replace(\n",
    "    ',', '')\n",
    "tn_budgets['worldwide_gross'] = tn_budgets['worldwide_gross'].astype(float)\n",
    "# tn_budgets.isna().sum()  # checked it's clean"
   ]
  },
  {
   "cell_type": "markdown",
   "metadata": {},
   "source": [
    "## cleaning Box Office Mojo data file"
   ]
  },
  {
   "cell_type": "code",
   "execution_count": 4,
   "metadata": {},
   "outputs": [
    {
     "data": {
      "text/html": [
       "<div>\n",
       "<style scoped>\n",
       "    .dataframe tbody tr th:only-of-type {\n",
       "        vertical-align: middle;\n",
       "    }\n",
       "\n",
       "    .dataframe tbody tr th {\n",
       "        vertical-align: top;\n",
       "    }\n",
       "\n",
       "    .dataframe thead th {\n",
       "        text-align: right;\n",
       "    }\n",
       "</style>\n",
       "<table border=\"1\" class=\"dataframe\">\n",
       "  <thead>\n",
       "    <tr style=\"text-align: right;\">\n",
       "      <th></th>\n",
       "      <th>title</th>\n",
       "      <th>studio</th>\n",
       "      <th>domestic_gross</th>\n",
       "      <th>foreign_gross</th>\n",
       "      <th>year</th>\n",
       "    </tr>\n",
       "  </thead>\n",
       "  <tbody>\n",
       "    <tr>\n",
       "      <td>0</td>\n",
       "      <td>Toy Story 3</td>\n",
       "      <td>BV</td>\n",
       "      <td>415000000.0</td>\n",
       "      <td>652000000</td>\n",
       "      <td>2010</td>\n",
       "    </tr>\n",
       "    <tr>\n",
       "      <td>1</td>\n",
       "      <td>Alice in Wonderland (2010)</td>\n",
       "      <td>BV</td>\n",
       "      <td>334200000.0</td>\n",
       "      <td>691300000</td>\n",
       "      <td>2010</td>\n",
       "    </tr>\n",
       "  </tbody>\n",
       "</table>\n",
       "</div>"
      ],
      "text/plain": [
       "                        title studio  domestic_gross foreign_gross  year\n",
       "0                 Toy Story 3     BV     415000000.0     652000000  2010\n",
       "1  Alice in Wonderland (2010)     BV     334200000.0     691300000  2010"
      ]
     },
     "metadata": {},
     "output_type": "display_data"
    },
    {
     "data": {
      "text/plain": [
       "3387"
      ]
     },
     "metadata": {},
     "output_type": "display_data"
    }
   ],
   "source": [
    "# Box Office Mojo dataset\n",
    "bom = pd.read_csv('Data/bom.movie_gross.csv')\n",
    "display(bom.head(2), len(bom))"
   ]
  },
  {
   "cell_type": "code",
   "execution_count": 5,
   "metadata": {},
   "outputs": [],
   "source": [
    "\"\"\"\n",
    "The Null values in domestic_gross and foreign_gross are tragged \"-1.0 float64\"\n",
    "and studio with 'unknown'\n",
    "\"\"\"\n",
    "bom['studio'].fillna(value='unknow', inplace=True)\n",
    "bom['domestic_gross'] = pd.to_numeric(bom['domestic_gross'], errors='coerce')\n",
    "bom['domestic_gross'].fillna(value=-1.0, inplace=True)\n",
    "bom['foreign_gross'] = pd.to_numeric(bom['foreign_gross'], errors='coerce')\n",
    "bom['foreign_gross'].fillna(value=str(-1.0), inplace=True)\n",
    "bom = bom[bom.foreign_gross != -1.0]\n",
    "# bom.isna().sum() # it's clean now"
   ]
  },
  {
   "cell_type": "markdown",
   "metadata": {},
   "source": [
    "## cleaning Rotten Tomatoes data files"
   ]
  },
  {
   "cell_type": "code",
   "execution_count": 6,
   "metadata": {},
   "outputs": [
    {
     "data": {
      "text/html": [
       "<div>\n",
       "<style scoped>\n",
       "    .dataframe tbody tr th:only-of-type {\n",
       "        vertical-align: middle;\n",
       "    }\n",
       "\n",
       "    .dataframe tbody tr th {\n",
       "        vertical-align: top;\n",
       "    }\n",
       "\n",
       "    .dataframe thead th {\n",
       "        text-align: right;\n",
       "    }\n",
       "</style>\n",
       "<table border=\"1\" class=\"dataframe\">\n",
       "  <thead>\n",
       "    <tr style=\"text-align: right;\">\n",
       "      <th></th>\n",
       "      <th>id</th>\n",
       "      <th>synopsis</th>\n",
       "      <th>rating</th>\n",
       "      <th>genre</th>\n",
       "      <th>director</th>\n",
       "      <th>writer</th>\n",
       "      <th>theater_date</th>\n",
       "      <th>dvd_date</th>\n",
       "      <th>currency</th>\n",
       "      <th>box_office</th>\n",
       "      <th>runtime</th>\n",
       "      <th>studio</th>\n",
       "    </tr>\n",
       "  </thead>\n",
       "  <tbody>\n",
       "    <tr>\n",
       "      <td>0</td>\n",
       "      <td>1</td>\n",
       "      <td>This gritty, fast-paced, and innovative police...</td>\n",
       "      <td>R</td>\n",
       "      <td>Action and Adventure|Classics|Drama</td>\n",
       "      <td>William Friedkin</td>\n",
       "      <td>Ernest Tidyman</td>\n",
       "      <td>Oct 9, 1971</td>\n",
       "      <td>Sep 25, 2001</td>\n",
       "      <td>NaN</td>\n",
       "      <td>NaN</td>\n",
       "      <td>104 minutes</td>\n",
       "      <td>NaN</td>\n",
       "    </tr>\n",
       "    <tr>\n",
       "      <td>1</td>\n",
       "      <td>3</td>\n",
       "      <td>New York City, not-too-distant-future: Eric Pa...</td>\n",
       "      <td>R</td>\n",
       "      <td>Drama|Science Fiction and Fantasy</td>\n",
       "      <td>David Cronenberg</td>\n",
       "      <td>David Cronenberg|Don DeLillo</td>\n",
       "      <td>Aug 17, 2012</td>\n",
       "      <td>Jan 1, 2013</td>\n",
       "      <td>$</td>\n",
       "      <td>600,000</td>\n",
       "      <td>108 minutes</td>\n",
       "      <td>Entertainment One</td>\n",
       "    </tr>\n",
       "  </tbody>\n",
       "</table>\n",
       "</div>"
      ],
      "text/plain": [
       "   id                                           synopsis rating  \\\n",
       "0   1  This gritty, fast-paced, and innovative police...      R   \n",
       "1   3  New York City, not-too-distant-future: Eric Pa...      R   \n",
       "\n",
       "                                 genre          director  \\\n",
       "0  Action and Adventure|Classics|Drama  William Friedkin   \n",
       "1    Drama|Science Fiction and Fantasy  David Cronenberg   \n",
       "\n",
       "                         writer  theater_date      dvd_date currency  \\\n",
       "0                Ernest Tidyman   Oct 9, 1971  Sep 25, 2001      NaN   \n",
       "1  David Cronenberg|Don DeLillo  Aug 17, 2012   Jan 1, 2013        $   \n",
       "\n",
       "  box_office      runtime             studio  \n",
       "0        NaN  104 minutes                NaN  \n",
       "1    600,000  108 minutes  Entertainment One  "
      ]
     },
     "metadata": {},
     "output_type": "display_data"
    },
    {
     "data": {
      "text/plain": [
       "1560"
      ]
     },
     "metadata": {},
     "output_type": "display_data"
    }
   ],
   "source": [
    "# Rotten Tomatoes\n",
    "rt = pd.read_csv('Data/rt.movie_info.tsv', sep='\\t')\n",
    "display(rt.head(2), len(rt))"
   ]
  },
  {
   "cell_type": "code",
   "execution_count": 7,
   "metadata": {
    "scrolled": false
   },
   "outputs": [
    {
     "data": {
      "text/plain": [
       "Series([], Name: theater_date, dtype: object)"
      ]
     },
     "execution_count": 7,
     "metadata": {},
     "output_type": "execute_result"
    }
   ],
   "source": [
    "# we'll drop ['synopsis', 'genre', 'box_office']\n",
    "rt.drop(columns=['synopsis', 'genre', 'box_office',\n",
    "                 'director', 'writer', 'dvd_date', 'currency', 'box_office', 'studio'], inplace=True)  # has much more\n",
    "# comprihencive data in IMDB\n",
    "rt['rating'] = pd.to_numeric(rt['rating'], errors='coerce')\n",
    "rt['rating'].fillna(value=-1.0, inplace=True)\n",
    "rt = rt[rt.rating != -1.0]\n",
    "rt['runtime'] = rt.runtime.map(\n",
    "    lambda x: x.strip().replace(\"minutes\", \"\"), na_action='ignore')\n",
    "rt['runtime'] = pd.to_numeric(rt['runtime'], errors='coerce')\n",
    "rt['runtime'].fillna(value=-1.0, inplace=True)\n",
    "rt['theater_date'].fillna(value='unknown', inplace=True)\n",
    "# rt.isna().sum() # It's clean now"
   ]
  },
  {
   "cell_type": "code",
   "execution_count": 8,
   "metadata": {},
   "outputs": [
    {
     "data": {
      "text/html": [
       "<div>\n",
       "<style scoped>\n",
       "    .dataframe tbody tr th:only-of-type {\n",
       "        vertical-align: middle;\n",
       "    }\n",
       "\n",
       "    .dataframe tbody tr th {\n",
       "        vertical-align: top;\n",
       "    }\n",
       "\n",
       "    .dataframe thead th {\n",
       "        text-align: right;\n",
       "    }\n",
       "</style>\n",
       "<table border=\"1\" class=\"dataframe\">\n",
       "  <thead>\n",
       "    <tr style=\"text-align: right;\">\n",
       "      <th></th>\n",
       "      <th>id</th>\n",
       "      <th>review</th>\n",
       "      <th>rating</th>\n",
       "      <th>fresh</th>\n",
       "      <th>critic</th>\n",
       "      <th>top_critic</th>\n",
       "      <th>publisher</th>\n",
       "      <th>date</th>\n",
       "    </tr>\n",
       "  </thead>\n",
       "  <tbody>\n",
       "    <tr>\n",
       "      <td>0</td>\n",
       "      <td>3</td>\n",
       "      <td>A distinctly gallows take on contemporary fina...</td>\n",
       "      <td>3/5</td>\n",
       "      <td>fresh</td>\n",
       "      <td>PJ Nabarro</td>\n",
       "      <td>0</td>\n",
       "      <td>Patrick Nabarro</td>\n",
       "      <td>November 10, 2018</td>\n",
       "    </tr>\n",
       "    <tr>\n",
       "      <td>1</td>\n",
       "      <td>3</td>\n",
       "      <td>It's an allegory in search of a meaning that n...</td>\n",
       "      <td>NaN</td>\n",
       "      <td>rotten</td>\n",
       "      <td>Annalee Newitz</td>\n",
       "      <td>0</td>\n",
       "      <td>io9.com</td>\n",
       "      <td>May 23, 2018</td>\n",
       "    </tr>\n",
       "  </tbody>\n",
       "</table>\n",
       "</div>"
      ],
      "text/plain": [
       "   id                                             review rating   fresh  \\\n",
       "0   3  A distinctly gallows take on contemporary fina...    3/5   fresh   \n",
       "1   3  It's an allegory in search of a meaning that n...    NaN  rotten   \n",
       "\n",
       "           critic  top_critic        publisher               date  \n",
       "0      PJ Nabarro           0  Patrick Nabarro  November 10, 2018  \n",
       "1  Annalee Newitz           0          io9.com       May 23, 2018  "
      ]
     },
     "metadata": {},
     "output_type": "display_data"
    },
    {
     "data": {
      "text/plain": [
       "54432"
      ]
     },
     "metadata": {},
     "output_type": "display_data"
    }
   ],
   "source": [
    "\"\"\"\n",
    "review's file maybe useful for reviews and ratings. \n",
    "encoding worked!!! with correct delimiter\n",
    "\"\"\"\n",
    "rt_reviews = pd.read_csv('Data/rt.reviews.tsv',\n",
    "                         delimiter='\\t', encoding='latin-1')\n",
    "display(rt_reviews.head(2), len(rt_reviews))"
   ]
  },
  {
   "cell_type": "markdown",
   "metadata": {},
   "source": [
    "## cleaning IMDB data files"
   ]
  },
  {
   "cell_type": "code",
   "execution_count": 9,
   "metadata": {},
   "outputs": [
    {
     "data": {
      "text/html": [
       "<div>\n",
       "<style scoped>\n",
       "    .dataframe tbody tr th:only-of-type {\n",
       "        vertical-align: middle;\n",
       "    }\n",
       "\n",
       "    .dataframe tbody tr th {\n",
       "        vertical-align: top;\n",
       "    }\n",
       "\n",
       "    .dataframe thead th {\n",
       "        text-align: right;\n",
       "    }\n",
       "</style>\n",
       "<table border=\"1\" class=\"dataframe\">\n",
       "  <thead>\n",
       "    <tr style=\"text-align: right;\">\n",
       "      <th></th>\n",
       "      <th>nconst</th>\n",
       "      <th>primary_name</th>\n",
       "      <th>birth_year</th>\n",
       "      <th>death_year</th>\n",
       "      <th>primary_profession</th>\n",
       "      <th>known_for_titles</th>\n",
       "    </tr>\n",
       "  </thead>\n",
       "  <tbody>\n",
       "    <tr>\n",
       "      <td>0</td>\n",
       "      <td>nm0061671</td>\n",
       "      <td>Mary Ellen Bauder</td>\n",
       "      <td>NaN</td>\n",
       "      <td>NaN</td>\n",
       "      <td>miscellaneous,production_manager,producer</td>\n",
       "      <td>tt0837562,tt2398241,tt0844471,tt0118553</td>\n",
       "    </tr>\n",
       "    <tr>\n",
       "      <td>1</td>\n",
       "      <td>nm0061865</td>\n",
       "      <td>Joseph Bauer</td>\n",
       "      <td>NaN</td>\n",
       "      <td>NaN</td>\n",
       "      <td>composer,music_department,sound_department</td>\n",
       "      <td>tt0896534,tt6791238,tt0287072,tt1682940</td>\n",
       "    </tr>\n",
       "    <tr>\n",
       "      <td>2</td>\n",
       "      <td>nm0062070</td>\n",
       "      <td>Bruce Baum</td>\n",
       "      <td>NaN</td>\n",
       "      <td>NaN</td>\n",
       "      <td>miscellaneous,actor,writer</td>\n",
       "      <td>tt1470654,tt0363631,tt0104030,tt0102898</td>\n",
       "    </tr>\n",
       "  </tbody>\n",
       "</table>\n",
       "</div>"
      ],
      "text/plain": [
       "      nconst       primary_name  birth_year  death_year  \\\n",
       "0  nm0061671  Mary Ellen Bauder         NaN         NaN   \n",
       "1  nm0061865       Joseph Bauer         NaN         NaN   \n",
       "2  nm0062070         Bruce Baum         NaN         NaN   \n",
       "\n",
       "                           primary_profession  \\\n",
       "0   miscellaneous,production_manager,producer   \n",
       "1  composer,music_department,sound_department   \n",
       "2                  miscellaneous,actor,writer   \n",
       "\n",
       "                          known_for_titles  \n",
       "0  tt0837562,tt2398241,tt0844471,tt0118553  \n",
       "1  tt0896534,tt6791238,tt0287072,tt1682940  \n",
       "2  tt1470654,tt0363631,tt0104030,tt0102898  "
      ]
     },
     "metadata": {},
     "output_type": "display_data"
    },
    {
     "data": {
      "text/plain": [
       "606648"
      ]
     },
     "metadata": {},
     "output_type": "display_data"
    }
   ],
   "source": [
    "# IMDB informantion about movie personel\n",
    "name = pd.read_csv('Data/imdb.name.basics.csv')\n",
    "display(name.head(3), len(name))"
   ]
  },
  {
   "cell_type": "code",
   "execution_count": 10,
   "metadata": {
    "scrolled": true
   },
   "outputs": [],
   "source": [
    "\"\"\"\n",
    "print(name.isna().sum()) # birth_year(523912), death_year(599865) Null so dropping both,\n",
    "primary_profession(51340), known_for_titles(30204) will keep because maybe importat to \n",
    " always can scrape for it later \n",
    "\"\"\"\n",
    "name = name.drop(['birth_year', 'death_year'], axis=1)"
   ]
  },
  {
   "cell_type": "code",
   "execution_count": 11,
   "metadata": {},
   "outputs": [
    {
     "data": {
      "text/html": [
       "<div>\n",
       "<style scoped>\n",
       "    .dataframe tbody tr th:only-of-type {\n",
       "        vertical-align: middle;\n",
       "    }\n",
       "\n",
       "    .dataframe tbody tr th {\n",
       "        vertical-align: top;\n",
       "    }\n",
       "\n",
       "    .dataframe thead th {\n",
       "        text-align: right;\n",
       "    }\n",
       "</style>\n",
       "<table border=\"1\" class=\"dataframe\">\n",
       "  <thead>\n",
       "    <tr style=\"text-align: right;\">\n",
       "      <th></th>\n",
       "      <th>imdb_id</th>\n",
       "      <th>ordering</th>\n",
       "      <th>title</th>\n",
       "      <th>region</th>\n",
       "      <th>language</th>\n",
       "      <th>types</th>\n",
       "      <th>attributes</th>\n",
       "      <th>is_original_title</th>\n",
       "    </tr>\n",
       "  </thead>\n",
       "  <tbody>\n",
       "    <tr>\n",
       "      <td>0</td>\n",
       "      <td>tt0369610</td>\n",
       "      <td>10</td>\n",
       "      <td>Джурасик свят</td>\n",
       "      <td>BG</td>\n",
       "      <td>bg</td>\n",
       "      <td>NaN</td>\n",
       "      <td>NaN</td>\n",
       "      <td>0.0</td>\n",
       "    </tr>\n",
       "    <tr>\n",
       "      <td>1</td>\n",
       "      <td>tt0369610</td>\n",
       "      <td>11</td>\n",
       "      <td>Jurashikku warudo</td>\n",
       "      <td>JP</td>\n",
       "      <td>NaN</td>\n",
       "      <td>imdbDisplay</td>\n",
       "      <td>NaN</td>\n",
       "      <td>0.0</td>\n",
       "    </tr>\n",
       "    <tr>\n",
       "      <td>2</td>\n",
       "      <td>tt0369610</td>\n",
       "      <td>12</td>\n",
       "      <td>Jurassic World: O Mundo dos Dinossauros</td>\n",
       "      <td>BR</td>\n",
       "      <td>NaN</td>\n",
       "      <td>imdbDisplay</td>\n",
       "      <td>NaN</td>\n",
       "      <td>0.0</td>\n",
       "    </tr>\n",
       "  </tbody>\n",
       "</table>\n",
       "</div>"
      ],
      "text/plain": [
       "     imdb_id  ordering                                    title region  \\\n",
       "0  tt0369610        10                            Джурасик свят     BG   \n",
       "1  tt0369610        11                        Jurashikku warudo     JP   \n",
       "2  tt0369610        12  Jurassic World: O Mundo dos Dinossauros     BR   \n",
       "\n",
       "  language        types attributes  is_original_title  \n",
       "0       bg          NaN        NaN                0.0  \n",
       "1      NaN  imdbDisplay        NaN                0.0  \n",
       "2      NaN  imdbDisplay        NaN                0.0  "
      ]
     },
     "metadata": {},
     "output_type": "display_data"
    },
    {
     "data": {
      "text/plain": [
       "331703"
      ]
     },
     "metadata": {},
     "output_type": "display_data"
    }
   ],
   "source": [
    "# IMDB informantion about titles\n",
    "takas = pd.read_csv('Data/imdb.title.akas.csv')\n",
    "takas.rename(columns={'title_id': 'imdb_id'}, inplace=True)\n",
    "display(takas.head(3), len(takas))"
   ]
  },
  {
   "cell_type": "code",
   "execution_count": 12,
   "metadata": {
    "scrolled": false
   },
   "outputs": [
    {
     "data": {
      "text/html": [
       "<div>\n",
       "<style scoped>\n",
       "    .dataframe tbody tr th:only-of-type {\n",
       "        vertical-align: middle;\n",
       "    }\n",
       "\n",
       "    .dataframe tbody tr th {\n",
       "        vertical-align: top;\n",
       "    }\n",
       "\n",
       "    .dataframe thead th {\n",
       "        text-align: right;\n",
       "    }\n",
       "</style>\n",
       "<table border=\"1\" class=\"dataframe\">\n",
       "  <thead>\n",
       "    <tr style=\"text-align: right;\">\n",
       "      <th></th>\n",
       "      <th>imdb_id</th>\n",
       "      <th>ordering</th>\n",
       "      <th>title</th>\n",
       "      <th>region</th>\n",
       "      <th>language</th>\n",
       "      <th>types</th>\n",
       "      <th>attributes</th>\n",
       "      <th>is_original_title</th>\n",
       "    </tr>\n",
       "  </thead>\n",
       "  <tbody>\n",
       "    <tr>\n",
       "      <td>125696</td>\n",
       "      <td>tt2246376</td>\n",
       "      <td>1</td>\n",
       "      <td>Sleeper's Wake</td>\n",
       "      <td>NaN</td>\n",
       "      <td>NaN</td>\n",
       "      <td>original</td>\n",
       "      <td>NaN</td>\n",
       "      <td>1.0</td>\n",
       "    </tr>\n",
       "    <tr>\n",
       "      <td>125697</td>\n",
       "      <td>tt2246376</td>\n",
       "      <td>2</td>\n",
       "      <td>Sleeper's Wake</td>\n",
       "      <td>ZA</td>\n",
       "      <td>NaN</td>\n",
       "      <td>NaN</td>\n",
       "      <td>NaN</td>\n",
       "      <td>0.0</td>\n",
       "    </tr>\n",
       "    <tr>\n",
       "      <td>125698</td>\n",
       "      <td>tt2246376</td>\n",
       "      <td>3</td>\n",
       "      <td>Trezirea</td>\n",
       "      <td>RO</td>\n",
       "      <td>NaN</td>\n",
       "      <td>imdbDisplay</td>\n",
       "      <td>NaN</td>\n",
       "      <td>0.0</td>\n",
       "    </tr>\n",
       "    <tr>\n",
       "      <td>125699</td>\n",
       "      <td>tt2246376</td>\n",
       "      <td>4</td>\n",
       "      <td>Az alvó ébredése</td>\n",
       "      <td>HU</td>\n",
       "      <td>NaN</td>\n",
       "      <td>imdbDisplay</td>\n",
       "      <td>NaN</td>\n",
       "      <td>0.0</td>\n",
       "    </tr>\n",
       "    <tr>\n",
       "      <td>125700</td>\n",
       "      <td>tt2246376</td>\n",
       "      <td>5</td>\n",
       "      <td>Wyrwani ze snu</td>\n",
       "      <td>PL</td>\n",
       "      <td>NaN</td>\n",
       "      <td>imdbDisplay</td>\n",
       "      <td>NaN</td>\n",
       "      <td>0.0</td>\n",
       "    </tr>\n",
       "  </tbody>\n",
       "</table>\n",
       "</div>"
      ],
      "text/plain": [
       "          imdb_id  ordering             title region language        types  \\\n",
       "125696  tt2246376         1    Sleeper's Wake    NaN      NaN     original   \n",
       "125697  tt2246376         2    Sleeper's Wake     ZA      NaN          NaN   \n",
       "125698  tt2246376         3          Trezirea     RO      NaN  imdbDisplay   \n",
       "125699  tt2246376         4  Az alvó ébredése     HU      NaN  imdbDisplay   \n",
       "125700  tt2246376         5    Wyrwani ze snu     PL      NaN  imdbDisplay   \n",
       "\n",
       "       attributes  is_original_title  \n",
       "125696        NaN                1.0  \n",
       "125697        NaN                0.0  \n",
       "125698        NaN                0.0  \n",
       "125699        NaN                0.0  \n",
       "125700        NaN                0.0  "
      ]
     },
     "metadata": {},
     "output_type": "display_data"
    },
    {
     "data": {
      "text/plain": [
       "\"checked with several random imdb_id's but all had totally convoluted data. \\nThe titles for the same imdb_id is completely different in most cases. \\nThis imdb.title.akas.csv data file is unsalvageable. \\nfile should not be used for further analysis.\\n\""
      ]
     },
     "execution_count": 12,
     "metadata": {},
     "output_type": "execute_result"
    }
   ],
   "source": [
    "# checking data reducdencies\n",
    "rand_id = np.random.randint(0, len(takas))\n",
    "title = takas.loc[rand_id, 'imdb_id']\n",
    "display(takas.loc[(takas.imdb_id == title)])\n",
    "\"\"\"checked with several random imdb_id's but all had totally convoluted data. \n",
    "The titles for the same imdb_id is completely different in most cases. \n",
    "This imdb.title.akas.csv data file is unsalvageable. \n",
    "file should not be used for further analysis.\n",
    "\"\"\""
   ]
  },
  {
   "cell_type": "code",
   "execution_count": 13,
   "metadata": {
    "scrolled": true
   },
   "outputs": [
    {
     "data": {
      "text/html": [
       "<div>\n",
       "<style scoped>\n",
       "    .dataframe tbody tr th:only-of-type {\n",
       "        vertical-align: middle;\n",
       "    }\n",
       "\n",
       "    .dataframe tbody tr th {\n",
       "        vertical-align: top;\n",
       "    }\n",
       "\n",
       "    .dataframe thead th {\n",
       "        text-align: right;\n",
       "    }\n",
       "</style>\n",
       "<table border=\"1\" class=\"dataframe\">\n",
       "  <thead>\n",
       "    <tr style=\"text-align: right;\">\n",
       "      <th></th>\n",
       "      <th>imdb_id</th>\n",
       "      <th>primary_title</th>\n",
       "      <th>original_title</th>\n",
       "      <th>year</th>\n",
       "      <th>runtime_minutes</th>\n",
       "      <th>genres</th>\n",
       "    </tr>\n",
       "  </thead>\n",
       "  <tbody>\n",
       "    <tr>\n",
       "      <td>0</td>\n",
       "      <td>tt0063540</td>\n",
       "      <td>Sunghursh</td>\n",
       "      <td>Sunghursh</td>\n",
       "      <td>2013</td>\n",
       "      <td>175.0</td>\n",
       "      <td>Action,Crime,Drama</td>\n",
       "    </tr>\n",
       "    <tr>\n",
       "      <td>1</td>\n",
       "      <td>tt0066787</td>\n",
       "      <td>One Day Before the Rainy Season</td>\n",
       "      <td>Ashad Ka Ek Din</td>\n",
       "      <td>2019</td>\n",
       "      <td>114.0</td>\n",
       "      <td>Biography,Drama</td>\n",
       "    </tr>\n",
       "  </tbody>\n",
       "</table>\n",
       "</div>"
      ],
      "text/plain": [
       "     imdb_id                    primary_title   original_title  year  \\\n",
       "0  tt0063540                        Sunghursh        Sunghursh  2013   \n",
       "1  tt0066787  One Day Before the Rainy Season  Ashad Ka Ek Din  2019   \n",
       "\n",
       "   runtime_minutes              genres  \n",
       "0            175.0  Action,Crime,Drama  \n",
       "1            114.0     Biography,Drama  "
      ]
     },
     "metadata": {},
     "output_type": "display_data"
    },
    {
     "data": {
      "text/plain": [
       "146144"
      ]
     },
     "metadata": {},
     "output_type": "display_data"
    }
   ],
   "source": [
    "# IMDB datafile of title information could be important\n",
    "tbasics = pd.read_csv('Data/imdb.title.basics.csv')\n",
    "tbasics.rename(columns={'tconst': 'imdb_id'}, inplace=True)\n",
    "tbasics.rename(columns={'start_year': 'year'}, inplace=True)\n",
    "display(tbasics.head(2), len(tbasics))"
   ]
  },
  {
   "cell_type": "code",
   "execution_count": 14,
   "metadata": {
    "scrolled": true
   },
   "outputs": [
    {
     "data": {
      "text/html": [
       "<div>\n",
       "<style scoped>\n",
       "    .dataframe tbody tr th:only-of-type {\n",
       "        vertical-align: middle;\n",
       "    }\n",
       "\n",
       "    .dataframe tbody tr th {\n",
       "        vertical-align: top;\n",
       "    }\n",
       "\n",
       "    .dataframe thead th {\n",
       "        text-align: right;\n",
       "    }\n",
       "</style>\n",
       "<table border=\"1\" class=\"dataframe\">\n",
       "  <thead>\n",
       "    <tr style=\"text-align: right;\">\n",
       "      <th></th>\n",
       "      <th>imdb_id</th>\n",
       "      <th>primary_title</th>\n",
       "      <th>original_title</th>\n",
       "      <th>year</th>\n",
       "      <th>runtime_minutes</th>\n",
       "      <th>genres</th>\n",
       "    </tr>\n",
       "  </thead>\n",
       "  <tbody>\n",
       "    <tr>\n",
       "      <td>145551</td>\n",
       "      <td>tt9838346</td>\n",
       "      <td>Future of the Past</td>\n",
       "      <td>Katsute no mirai</td>\n",
       "      <td>2019</td>\n",
       "      <td>NaN</td>\n",
       "      <td>NaN</td>\n",
       "    </tr>\n",
       "  </tbody>\n",
       "</table>\n",
       "</div>"
      ],
      "text/plain": [
       "          imdb_id       primary_title    original_title  year  \\\n",
       "145551  tt9838346  Future of the Past  Katsute no mirai  2019   \n",
       "\n",
       "        runtime_minutes genres  \n",
       "145551              NaN    NaN  "
      ]
     },
     "execution_count": 14,
     "metadata": {},
     "output_type": "execute_result"
    }
   ],
   "source": [
    "# check if the imdb_id is consistant here\n",
    "# this is a really good way to randamly sample the file\n",
    "rand_id = np.random.randint(0, len(tbasics))\n",
    "# tbasics.sample(3)             # of course this is the standard way to do this. Wish I knew that before\n",
    "title = tbasics.loc[rand_id, 'imdb_id']\n",
    "tbasics.loc[(tbasics.imdb_id == title)]\n",
    "# checked many imdb_id's and data is good and consistant. need some cleaning"
   ]
  },
  {
   "cell_type": "code",
   "execution_count": 15,
   "metadata": {
    "scrolled": true
   },
   "outputs": [],
   "source": [
    "\"\"\"\n",
    "clean runtime_minutes(31739), genres(5408). I wouldn't drop any null lines \n",
    "as primary title is all non-null\n",
    "so no cleaning needed\n",
    "\"\"\"\n",
    "\n",
    "tbasics['primary_title'] = tbasics.primary_title.map(\n",
    "    lambda x: x.strip(), na_action='ignore')\n",
    "tbasics['original_title'] = tbasics.original_title.map(\n",
    "    lambda x: x.strip(), na_action='ignore')\n",
    "tbasics['original_title'].fillna(value='unknown', inplace=True)\n",
    "tbasics['year'] = pd.to_numeric(tbasics['year'], errors='coerce')\n",
    "tbasics['year'].fillna(value=3001, inplace=True)\n",
    "tbasics['runtime_minutes'] = pd.to_numeric(\n",
    "    tbasics['runtime_minutes'], errors='coerce')\n",
    "tbasics['runtime_minutes'].fillna(value=-1.0, inplace=True)\n",
    "tbasics['genres'] = tbasics.genres.map(lambda x: x.strip(), na_action='ignore')\n",
    "tbasics['genres'].fillna(value='unknown', inplace=True)\n",
    "# tbasics.isna().sum() # it's clean"
   ]
  },
  {
   "cell_type": "code",
   "execution_count": 16,
   "metadata": {
    "scrolled": true
   },
   "outputs": [
    {
     "data": {
      "text/html": [
       "<div>\n",
       "<style scoped>\n",
       "    .dataframe tbody tr th:only-of-type {\n",
       "        vertical-align: middle;\n",
       "    }\n",
       "\n",
       "    .dataframe tbody tr th {\n",
       "        vertical-align: top;\n",
       "    }\n",
       "\n",
       "    .dataframe thead th {\n",
       "        text-align: right;\n",
       "    }\n",
       "</style>\n",
       "<table border=\"1\" class=\"dataframe\">\n",
       "  <thead>\n",
       "    <tr style=\"text-align: right;\">\n",
       "      <th></th>\n",
       "      <th>imdb_id</th>\n",
       "      <th>directors</th>\n",
       "      <th>writers</th>\n",
       "    </tr>\n",
       "  </thead>\n",
       "  <tbody>\n",
       "    <tr>\n",
       "      <td>0</td>\n",
       "      <td>tt0285252</td>\n",
       "      <td>nm0899854</td>\n",
       "      <td>nm0899854</td>\n",
       "    </tr>\n",
       "    <tr>\n",
       "      <td>1</td>\n",
       "      <td>tt0438973</td>\n",
       "      <td>NaN</td>\n",
       "      <td>nm0175726,nm1802864</td>\n",
       "    </tr>\n",
       "  </tbody>\n",
       "</table>\n",
       "</div>"
      ],
      "text/plain": [
       "     imdb_id  directors              writers\n",
       "0  tt0285252  nm0899854            nm0899854\n",
       "1  tt0438973        NaN  nm0175726,nm1802864"
      ]
     },
     "metadata": {},
     "output_type": "display_data"
    },
    {
     "data": {
      "text/plain": [
       "146144"
      ]
     },
     "metadata": {},
     "output_type": "display_data"
    }
   ],
   "source": [
    "# IMDB all crew information per title needs imdb.name.basics.csv file\n",
    "crew = pd.read_csv('Data/imdb.title.crew.csv')\n",
    "crew.rename(columns={'tconst': 'imdb_id'}, inplace=True)\n",
    "display(crew.head(2), len(crew))"
   ]
  },
  {
   "cell_type": "code",
   "execution_count": 17,
   "metadata": {},
   "outputs": [
    {
     "data": {
      "text/html": [
       "<div>\n",
       "<style scoped>\n",
       "    .dataframe tbody tr th:only-of-type {\n",
       "        vertical-align: middle;\n",
       "    }\n",
       "\n",
       "    .dataframe tbody tr th {\n",
       "        vertical-align: top;\n",
       "    }\n",
       "\n",
       "    .dataframe thead th {\n",
       "        text-align: right;\n",
       "    }\n",
       "</style>\n",
       "<table border=\"1\" class=\"dataframe\">\n",
       "  <thead>\n",
       "    <tr style=\"text-align: right;\">\n",
       "      <th></th>\n",
       "      <th>imdb_id</th>\n",
       "      <th>directors</th>\n",
       "      <th>writers</th>\n",
       "    </tr>\n",
       "  </thead>\n",
       "  <tbody>\n",
       "    <tr>\n",
       "      <td>22032</td>\n",
       "      <td>tt1866094</td>\n",
       "      <td>nm0294274</td>\n",
       "      <td>nm0294274</td>\n",
       "    </tr>\n",
       "  </tbody>\n",
       "</table>\n",
       "</div>"
      ],
      "text/plain": [
       "         imdb_id  directors    writers\n",
       "22032  tt1866094  nm0294274  nm0294274"
      ]
     },
     "execution_count": 17,
     "metadata": {},
     "output_type": "execute_result"
    }
   ],
   "source": [
    "# check if the imdb_id is consistant here\n",
    "rand_id = np.random.randint(0, len(crew))\n",
    "title = crew.loc[rand_id, 'imdb_id']\n",
    "crew.loc[(crew.imdb_id == title)]"
   ]
  },
  {
   "cell_type": "code",
   "execution_count": 18,
   "metadata": {
    "scrolled": true
   },
   "outputs": [],
   "source": [
    "#print(\"before\\n\", crew.isna().sum())\n",
    "crew['directors'] = crew.directors.map(lambda x: x.strip(), na_action='ignore')\n",
    "crew['writers'] = crew.writers.map(lambda x: x.strip(), na_action='ignore')\n",
    "crew['writers'].fillna(value='unknown', inplace=True)\n",
    "crew = crew[crew.writers != 'unknown']\n",
    "crew['directors'].fillna(value='unknown', inplace=True)\n",
    "crew = crew[crew.directors != 'unknown']\n",
    "#print(\"after\\n\", crew.isna().sum())"
   ]
  },
  {
   "cell_type": "code",
   "execution_count": 19,
   "metadata": {
    "scrolled": true
   },
   "outputs": [
    {
     "data": {
      "text/html": [
       "<div>\n",
       "<style scoped>\n",
       "    .dataframe tbody tr th:only-of-type {\n",
       "        vertical-align: middle;\n",
       "    }\n",
       "\n",
       "    .dataframe tbody tr th {\n",
       "        vertical-align: top;\n",
       "    }\n",
       "\n",
       "    .dataframe thead th {\n",
       "        text-align: right;\n",
       "    }\n",
       "</style>\n",
       "<table border=\"1\" class=\"dataframe\">\n",
       "  <thead>\n",
       "    <tr style=\"text-align: right;\">\n",
       "      <th></th>\n",
       "      <th>imdb_id</th>\n",
       "      <th>averagerating</th>\n",
       "      <th>numvotes</th>\n",
       "    </tr>\n",
       "  </thead>\n",
       "  <tbody>\n",
       "    <tr>\n",
       "      <td>0</td>\n",
       "      <td>tt10356526</td>\n",
       "      <td>8.3</td>\n",
       "      <td>31</td>\n",
       "    </tr>\n",
       "    <tr>\n",
       "      <td>1</td>\n",
       "      <td>tt10384606</td>\n",
       "      <td>8.9</td>\n",
       "      <td>559</td>\n",
       "    </tr>\n",
       "    <tr>\n",
       "      <td>2</td>\n",
       "      <td>tt1042974</td>\n",
       "      <td>6.4</td>\n",
       "      <td>20</td>\n",
       "    </tr>\n",
       "    <tr>\n",
       "      <td>3</td>\n",
       "      <td>tt1043726</td>\n",
       "      <td>4.2</td>\n",
       "      <td>50352</td>\n",
       "    </tr>\n",
       "    <tr>\n",
       "      <td>4</td>\n",
       "      <td>tt1060240</td>\n",
       "      <td>6.5</td>\n",
       "      <td>21</td>\n",
       "    </tr>\n",
       "  </tbody>\n",
       "</table>\n",
       "</div>"
      ],
      "text/plain": [
       "      imdb_id  averagerating  numvotes\n",
       "0  tt10356526            8.3        31\n",
       "1  tt10384606            8.9       559\n",
       "2   tt1042974            6.4        20\n",
       "3   tt1043726            4.2     50352\n",
       "4   tt1060240            6.5        21"
      ]
     },
     "metadata": {},
     "output_type": "display_data"
    },
    {
     "data": {
      "text/plain": [
       "73856"
      ]
     },
     "metadata": {},
     "output_type": "display_data"
    }
   ],
   "source": [
    "# IMDB ratings\n",
    "ratings = pd.read_csv('Data/imdb.title.ratings.csv')\n",
    "ratings.rename(columns={'tconst': 'imdb_id'}, inplace=True)\n",
    "display(ratings.head(5), len(ratings))"
   ]
  },
  {
   "cell_type": "code",
   "execution_count": 20,
   "metadata": {
    "scrolled": true
   },
   "outputs": [
    {
     "data": {
      "text/html": [
       "<div>\n",
       "<style scoped>\n",
       "    .dataframe tbody tr th:only-of-type {\n",
       "        vertical-align: middle;\n",
       "    }\n",
       "\n",
       "    .dataframe tbody tr th {\n",
       "        vertical-align: top;\n",
       "    }\n",
       "\n",
       "    .dataframe thead th {\n",
       "        text-align: right;\n",
       "    }\n",
       "</style>\n",
       "<table border=\"1\" class=\"dataframe\">\n",
       "  <thead>\n",
       "    <tr style=\"text-align: right;\">\n",
       "      <th></th>\n",
       "      <th>imdb_id</th>\n",
       "      <th>primary_title</th>\n",
       "      <th>original_title</th>\n",
       "      <th>year</th>\n",
       "      <th>runtime_minutes</th>\n",
       "      <th>genres</th>\n",
       "    </tr>\n",
       "  </thead>\n",
       "  <tbody>\n",
       "    <tr>\n",
       "      <td>3667</td>\n",
       "      <td>tt10356526</td>\n",
       "      <td>Laiye Je Yaarian</td>\n",
       "      <td>Laiye Je Yaarian</td>\n",
       "      <td>2019</td>\n",
       "      <td>117.0</td>\n",
       "      <td>Romance</td>\n",
       "    </tr>\n",
       "  </tbody>\n",
       "</table>\n",
       "</div>"
      ],
      "text/plain": [
       "         imdb_id     primary_title    original_title  year  runtime_minutes  \\\n",
       "3667  tt10356526  Laiye Je Yaarian  Laiye Je Yaarian  2019            117.0   \n",
       "\n",
       "       genres  \n",
       "3667  Romance  "
      ]
     },
     "metadata": {},
     "output_type": "display_data"
    },
    {
     "data": {
      "text/html": [
       "<div>\n",
       "<style scoped>\n",
       "    .dataframe tbody tr th:only-of-type {\n",
       "        vertical-align: middle;\n",
       "    }\n",
       "\n",
       "    .dataframe tbody tr th {\n",
       "        vertical-align: top;\n",
       "    }\n",
       "\n",
       "    .dataframe thead th {\n",
       "        text-align: right;\n",
       "    }\n",
       "</style>\n",
       "<table border=\"1\" class=\"dataframe\">\n",
       "  <thead>\n",
       "    <tr style=\"text-align: right;\">\n",
       "      <th></th>\n",
       "      <th>imdb_id</th>\n",
       "      <th>primary_title</th>\n",
       "      <th>original_title</th>\n",
       "      <th>year</th>\n",
       "      <th>runtime_minutes</th>\n",
       "      <th>genres</th>\n",
       "    </tr>\n",
       "  </thead>\n",
       "  <tbody>\n",
       "    <tr>\n",
       "      <td>4103</td>\n",
       "      <td>tt10384606</td>\n",
       "      <td>Borderless</td>\n",
       "      <td>Borderless</td>\n",
       "      <td>2019</td>\n",
       "      <td>87.0</td>\n",
       "      <td>Documentary</td>\n",
       "    </tr>\n",
       "  </tbody>\n",
       "</table>\n",
       "</div>"
      ],
      "text/plain": [
       "         imdb_id primary_title original_title  year  runtime_minutes  \\\n",
       "4103  tt10384606    Borderless     Borderless  2019             87.0   \n",
       "\n",
       "           genres  \n",
       "4103  Documentary  "
      ]
     },
     "metadata": {},
     "output_type": "display_data"
    },
    {
     "data": {
      "text/html": [
       "<div>\n",
       "<style scoped>\n",
       "    .dataframe tbody tr th:only-of-type {\n",
       "        vertical-align: middle;\n",
       "    }\n",
       "\n",
       "    .dataframe tbody tr th {\n",
       "        vertical-align: top;\n",
       "    }\n",
       "\n",
       "    .dataframe thead th {\n",
       "        text-align: right;\n",
       "    }\n",
       "</style>\n",
       "<table border=\"1\" class=\"dataframe\">\n",
       "  <thead>\n",
       "    <tr style=\"text-align: right;\">\n",
       "      <th></th>\n",
       "      <th>imdb_id</th>\n",
       "      <th>primary_title</th>\n",
       "      <th>original_title</th>\n",
       "      <th>year</th>\n",
       "      <th>runtime_minutes</th>\n",
       "      <th>genres</th>\n",
       "    </tr>\n",
       "  </thead>\n",
       "  <tbody>\n",
       "    <tr>\n",
       "      <td>4721</td>\n",
       "      <td>tt1042974</td>\n",
       "      <td>Just Inès</td>\n",
       "      <td>Just Inès</td>\n",
       "      <td>2010</td>\n",
       "      <td>90.0</td>\n",
       "      <td>Drama</td>\n",
       "    </tr>\n",
       "  </tbody>\n",
       "</table>\n",
       "</div>"
      ],
      "text/plain": [
       "        imdb_id primary_title original_title  year  runtime_minutes genres\n",
       "4721  tt1042974     Just Inès      Just Inès  2010             90.0  Drama"
      ]
     },
     "metadata": {},
     "output_type": "display_data"
    },
    {
     "data": {
      "text/html": [
       "<div>\n",
       "<style scoped>\n",
       "    .dataframe tbody tr th:only-of-type {\n",
       "        vertical-align: middle;\n",
       "    }\n",
       "\n",
       "    .dataframe tbody tr th {\n",
       "        vertical-align: top;\n",
       "    }\n",
       "\n",
       "    .dataframe thead th {\n",
       "        text-align: right;\n",
       "    }\n",
       "</style>\n",
       "<table border=\"1\" class=\"dataframe\">\n",
       "  <thead>\n",
       "    <tr style=\"text-align: right;\">\n",
       "      <th></th>\n",
       "      <th>imdb_id</th>\n",
       "      <th>primary_title</th>\n",
       "      <th>original_title</th>\n",
       "      <th>year</th>\n",
       "      <th>runtime_minutes</th>\n",
       "      <th>genres</th>\n",
       "    </tr>\n",
       "  </thead>\n",
       "  <tbody>\n",
       "    <tr>\n",
       "      <td>4825</td>\n",
       "      <td>tt1043726</td>\n",
       "      <td>The Legend of Hercules</td>\n",
       "      <td>The Legend of Hercules</td>\n",
       "      <td>2014</td>\n",
       "      <td>99.0</td>\n",
       "      <td>Action,Adventure,Fantasy</td>\n",
       "    </tr>\n",
       "  </tbody>\n",
       "</table>\n",
       "</div>"
      ],
      "text/plain": [
       "        imdb_id           primary_title          original_title  year  \\\n",
       "4825  tt1043726  The Legend of Hercules  The Legend of Hercules  2014   \n",
       "\n",
       "      runtime_minutes                    genres  \n",
       "4825             99.0  Action,Adventure,Fantasy  "
      ]
     },
     "metadata": {},
     "output_type": "display_data"
    },
    {
     "data": {
      "text/html": [
       "<div>\n",
       "<style scoped>\n",
       "    .dataframe tbody tr th:only-of-type {\n",
       "        vertical-align: middle;\n",
       "    }\n",
       "\n",
       "    .dataframe tbody tr th {\n",
       "        vertical-align: top;\n",
       "    }\n",
       "\n",
       "    .dataframe thead th {\n",
       "        text-align: right;\n",
       "    }\n",
       "</style>\n",
       "<table border=\"1\" class=\"dataframe\">\n",
       "  <thead>\n",
       "    <tr style=\"text-align: right;\">\n",
       "      <th></th>\n",
       "      <th>imdb_id</th>\n",
       "      <th>primary_title</th>\n",
       "      <th>original_title</th>\n",
       "      <th>year</th>\n",
       "      <th>runtime_minutes</th>\n",
       "      <th>genres</th>\n",
       "    </tr>\n",
       "  </thead>\n",
       "  <tbody>\n",
       "    <tr>\n",
       "      <td>5471</td>\n",
       "      <td>tt1060240</td>\n",
       "      <td>Até Onde?</td>\n",
       "      <td>Até Onde?</td>\n",
       "      <td>2011</td>\n",
       "      <td>73.0</td>\n",
       "      <td>Mystery,Thriller</td>\n",
       "    </tr>\n",
       "  </tbody>\n",
       "</table>\n",
       "</div>"
      ],
      "text/plain": [
       "        imdb_id primary_title original_title  year  runtime_minutes  \\\n",
       "5471  tt1060240     Até Onde?      Até Onde?  2011             73.0   \n",
       "\n",
       "                genres  \n",
       "5471  Mystery,Thriller  "
      ]
     },
     "metadata": {},
     "output_type": "display_data"
    }
   ],
   "source": [
    "title = ['tt10356526', 'tt10384606', 'tt1042974', 'tt1043726', 'tt1060240']\n",
    "for t in title:\n",
    "    display(tbasics[tbasics.imdb_id == t])"
   ]
  },
  {
   "cell_type": "code",
   "execution_count": 21,
   "metadata": {},
   "outputs": [
    {
     "data": {
      "text/html": [
       "<div>\n",
       "<style scoped>\n",
       "    .dataframe tbody tr th:only-of-type {\n",
       "        vertical-align: middle;\n",
       "    }\n",
       "\n",
       "    .dataframe tbody tr th {\n",
       "        vertical-align: top;\n",
       "    }\n",
       "\n",
       "    .dataframe thead th {\n",
       "        text-align: right;\n",
       "    }\n",
       "</style>\n",
       "<table border=\"1\" class=\"dataframe\">\n",
       "  <thead>\n",
       "    <tr style=\"text-align: right;\">\n",
       "      <th></th>\n",
       "      <th>imdb_id</th>\n",
       "      <th>averagerating</th>\n",
       "      <th>numvotes</th>\n",
       "    </tr>\n",
       "  </thead>\n",
       "  <tbody>\n",
       "    <tr>\n",
       "      <td>23062</td>\n",
       "      <td>tt7263974</td>\n",
       "      <td>3.9</td>\n",
       "      <td>81</td>\n",
       "    </tr>\n",
       "  </tbody>\n",
       "</table>\n",
       "</div>"
      ],
      "text/plain": [
       "         imdb_id  averagerating  numvotes\n",
       "23062  tt7263974            3.9        81"
      ]
     },
     "execution_count": 21,
     "metadata": {},
     "output_type": "execute_result"
    }
   ],
   "source": [
    "# check if the imdb_id is consistant here\n",
    "rand_id = np.random.randint(0, len(ratings))\n",
    "title = ratings.loc[rand_id, 'imdb_id']\n",
    "ratings.loc[(ratings.imdb_id == title)]"
   ]
  },
  {
   "cell_type": "code",
   "execution_count": 22,
   "metadata": {
    "scrolled": true
   },
   "outputs": [],
   "source": [
    "#print(\"before:\\n\", ratings.isna().sum())\n",
    "ratings['averagerating'] = pd.to_numeric(\n",
    "    ratings['averagerating'], errors='coerce')\n",
    "ratings['numvotes'] = pd.to_numeric(ratings['numvotes'], errors='coerce')\n",
    "# print(\"after:\\n\", ratings.isna().sum()) # looks pretty clean\n",
    "ratings.to_csv('Data/imdb.title.ratings_clean.csv', index=False)"
   ]
  },
  {
   "cell_type": "code",
   "execution_count": 23,
   "metadata": {
    "scrolled": false
   },
   "outputs": [
    {
     "data": {
      "text/html": [
       "<div>\n",
       "<style scoped>\n",
       "    .dataframe tbody tr th:only-of-type {\n",
       "        vertical-align: middle;\n",
       "    }\n",
       "\n",
       "    .dataframe tbody tr th {\n",
       "        vertical-align: top;\n",
       "    }\n",
       "\n",
       "    .dataframe thead th {\n",
       "        text-align: right;\n",
       "    }\n",
       "</style>\n",
       "<table border=\"1\" class=\"dataframe\">\n",
       "  <thead>\n",
       "    <tr style=\"text-align: right;\">\n",
       "      <th></th>\n",
       "      <th>imdb_id</th>\n",
       "      <th>ordering</th>\n",
       "      <th>nconst</th>\n",
       "      <th>category</th>\n",
       "      <th>job</th>\n",
       "      <th>characters</th>\n",
       "    </tr>\n",
       "  </thead>\n",
       "  <tbody>\n",
       "    <tr>\n",
       "      <td>0</td>\n",
       "      <td>tt0111414</td>\n",
       "      <td>1</td>\n",
       "      <td>nm0246005</td>\n",
       "      <td>actor</td>\n",
       "      <td>NaN</td>\n",
       "      <td>[\"The Man\"]</td>\n",
       "    </tr>\n",
       "    <tr>\n",
       "      <td>1</td>\n",
       "      <td>tt0111414</td>\n",
       "      <td>2</td>\n",
       "      <td>nm0398271</td>\n",
       "      <td>director</td>\n",
       "      <td>NaN</td>\n",
       "      <td>NaN</td>\n",
       "    </tr>\n",
       "  </tbody>\n",
       "</table>\n",
       "</div>"
      ],
      "text/plain": [
       "     imdb_id  ordering     nconst  category  job   characters\n",
       "0  tt0111414         1  nm0246005     actor  NaN  [\"The Man\"]\n",
       "1  tt0111414         2  nm0398271  director  NaN          NaN"
      ]
     },
     "metadata": {},
     "output_type": "display_data"
    },
    {
     "data": {
      "text/plain": [
       "1028186"
      ]
     },
     "metadata": {},
     "output_type": "display_data"
    }
   ],
   "source": [
    "# this data maybe redundent\n",
    "principals = pd.read_csv('Data/imdb.title.principals.csv')\n",
    "principals.rename(columns={'tconst': 'imdb_id'}, inplace=True)\n",
    "display(principals.head(2), len(principals))"
   ]
  },
  {
   "cell_type": "code",
   "execution_count": 24,
   "metadata": {
    "scrolled": true
   },
   "outputs": [],
   "source": [
    "#print(\"before:\\n\", principals.isna().sum())\n",
    "principals.dropna(inplace=True)  # null after cleaning. data is useless\n",
    "# print(\"after:\\n\", principals.isna().sum()) # looks pretty clean\n",
    "# display(principals.head(2),len(principals))"
   ]
  },
  {
   "cell_type": "markdown",
   "metadata": {},
   "source": [
    "## TheMovieDB data file"
   ]
  },
  {
   "cell_type": "code",
   "execution_count": 25,
   "metadata": {
    "scrolled": false
   },
   "outputs": [
    {
     "data": {
      "text/html": [
       "<div>\n",
       "<style scoped>\n",
       "    .dataframe tbody tr th:only-of-type {\n",
       "        vertical-align: middle;\n",
       "    }\n",
       "\n",
       "    .dataframe tbody tr th {\n",
       "        vertical-align: top;\n",
       "    }\n",
       "\n",
       "    .dataframe thead th {\n",
       "        text-align: right;\n",
       "    }\n",
       "</style>\n",
       "<table border=\"1\" class=\"dataframe\">\n",
       "  <thead>\n",
       "    <tr style=\"text-align: right;\">\n",
       "      <th></th>\n",
       "      <th>id</th>\n",
       "      <th>original_language</th>\n",
       "      <th>original_title</th>\n",
       "      <th>release_date</th>\n",
       "      <th>title</th>\n",
       "      <th>vote_average</th>\n",
       "      <th>vote_count</th>\n",
       "    </tr>\n",
       "  </thead>\n",
       "  <tbody>\n",
       "    <tr>\n",
       "      <td>0</td>\n",
       "      <td>12444</td>\n",
       "      <td>en</td>\n",
       "      <td>Harry Potter and the Deathly Hallows: Part 1</td>\n",
       "      <td>2010-11-19</td>\n",
       "      <td>Harry Potter and the Deathly Hallows: Part 1</td>\n",
       "      <td>7.7</td>\n",
       "      <td>10788</td>\n",
       "    </tr>\n",
       "    <tr>\n",
       "      <td>1</td>\n",
       "      <td>10191</td>\n",
       "      <td>en</td>\n",
       "      <td>How to Train Your Dragon</td>\n",
       "      <td>2010-03-26</td>\n",
       "      <td>How to Train Your Dragon</td>\n",
       "      <td>7.7</td>\n",
       "      <td>7610</td>\n",
       "    </tr>\n",
       "    <tr>\n",
       "      <td>2</td>\n",
       "      <td>10138</td>\n",
       "      <td>en</td>\n",
       "      <td>Iron Man 2</td>\n",
       "      <td>2010-05-07</td>\n",
       "      <td>Iron Man 2</td>\n",
       "      <td>6.8</td>\n",
       "      <td>12368</td>\n",
       "    </tr>\n",
       "  </tbody>\n",
       "</table>\n",
       "</div>"
      ],
      "text/plain": [
       "      id original_language                                original_title  \\\n",
       "0  12444                en  Harry Potter and the Deathly Hallows: Part 1   \n",
       "1  10191                en                      How to Train Your Dragon   \n",
       "2  10138                en                                    Iron Man 2   \n",
       "\n",
       "  release_date                                         title  vote_average  \\\n",
       "0   2010-11-19  Harry Potter and the Deathly Hallows: Part 1           7.7   \n",
       "1   2010-03-26                      How to Train Your Dragon           7.7   \n",
       "2   2010-05-07                                    Iron Man 2           6.8   \n",
       "\n",
       "   vote_count  \n",
       "0       10788  \n",
       "1        7610  \n",
       "2       12368  "
      ]
     },
     "metadata": {},
     "output_type": "display_data"
    },
    {
     "data": {
      "text/plain": [
       "26517"
      ]
     },
     "metadata": {},
     "output_type": "display_data"
    }
   ],
   "source": [
    "# TheMovieDB.org\n",
    "tmdb = pd.read_csv('Data/tmdb.movies.csv')\n",
    "\n",
    "# we'll drop ['Unnamed: 0', 'genre_ids', 'popularity']\n",
    "tmdb.drop(columns=['Unnamed: 0', 'genre_ids', 'popularity'], inplace=True)\n",
    "display(tmdb.head(3), len(tmdb))"
   ]
  },
  {
   "cell_type": "code",
   "execution_count": 26,
   "metadata": {},
   "outputs": [],
   "source": [
    "# comprihencive data in TMDB except IMDB_id\n",
    "tmdb['original_language'] = tmdb.original_language.map(\n",
    "    lambda x: x.strip(), na_action='ignore')\n",
    "tmdb['original_title'] = tmdb.original_title.map(\n",
    "    lambda x: x.strip(), na_action='ignore')\n",
    "tmdb['release_date'] = tmdb.release_date.map(\n",
    "    lambda x: x.strip(), na_action='ignore')\n",
    "tmdb['title'] = tmdb.title.map(lambda x: x.strip(), na_action='ignore')\n",
    "\n",
    "#print(\"before:\\n\", tmdb.isna().sum())\n",
    "tmdb.dropna(inplace=True)  # null after cleaning. data is useless\n",
    "# print(\"after:\\n\", tmdb.isna().sum()) # looks pretty clean now"
   ]
  },
  {
   "cell_type": "markdown",
   "metadata": {},
   "source": [
    "# Alternative data from IMDBpro\n",
    "credit: Jesse Newman for web scraping"
   ]
  },
  {
   "cell_type": "code",
   "execution_count": 27,
   "metadata": {
    "scrolled": false
   },
   "outputs": [
    {
     "data": {
      "text/html": [
       "<div>\n",
       "<style scoped>\n",
       "    .dataframe tbody tr th:only-of-type {\n",
       "        vertical-align: middle;\n",
       "    }\n",
       "\n",
       "    .dataframe tbody tr th {\n",
       "        vertical-align: top;\n",
       "    }\n",
       "\n",
       "    .dataframe thead th {\n",
       "        text-align: right;\n",
       "    }\n",
       "</style>\n",
       "<table border=\"1\" class=\"dataframe\">\n",
       "  <thead>\n",
       "    <tr style=\"text-align: right;\">\n",
       "      <th></th>\n",
       "      <th>imdb_id</th>\n",
       "      <th>title</th>\n",
       "      <th>year</th>\n",
       "      <th>director</th>\n",
       "      <th>region_code</th>\n",
       "      <th>rank</th>\n",
       "      <th>budget_usd</th>\n",
       "      <th>us_gross</th>\n",
       "      <th>genres</th>\n",
       "    </tr>\n",
       "  </thead>\n",
       "  <tbody>\n",
       "    <tr>\n",
       "      <td>0</td>\n",
       "      <td>tt8228288</td>\n",
       "      <td>The Platform</td>\n",
       "      <td>2019</td>\n",
       "      <td>Galder Gaztelu-Urrutia</td>\n",
       "      <td>[ES]</td>\n",
       "      <td>1</td>\n",
       "      <td>-1.0</td>\n",
       "      <td>-1.0</td>\n",
       "      <td>Horror, Sci-Fi, Thriller</td>\n",
       "    </tr>\n",
       "    <tr>\n",
       "      <td>1</td>\n",
       "      <td>tt1598778</td>\n",
       "      <td>Contagion</td>\n",
       "      <td>2011</td>\n",
       "      <td>Steven Soderbergh</td>\n",
       "      <td>[US]</td>\n",
       "      <td>2</td>\n",
       "      <td>60000000.0</td>\n",
       "      <td>76000000.0</td>\n",
       "      <td>Action, Drama, Thriller</td>\n",
       "    </tr>\n",
       "  </tbody>\n",
       "</table>\n",
       "</div>"
      ],
      "text/plain": [
       "     imdb_id         title  year                director region_code  rank  \\\n",
       "0  tt8228288  The Platform  2019  Galder Gaztelu-Urrutia        [ES]     1   \n",
       "1  tt1598778     Contagion  2011       Steven Soderbergh        [US]     2   \n",
       "\n",
       "   budget_usd    us_gross                    genres  \n",
       "0        -1.0        -1.0  Horror, Sci-Fi, Thriller  \n",
       "1  60000000.0  76000000.0   Action, Drama, Thriller  "
      ]
     },
     "metadata": {},
     "output_type": "display_data"
    },
    {
     "data": {
      "text/plain": [
       "10001"
      ]
     },
     "metadata": {},
     "output_type": "display_data"
    },
    {
     "data": {
      "text/html": [
       "<div>\n",
       "<style scoped>\n",
       "    .dataframe tbody tr th:only-of-type {\n",
       "        vertical-align: middle;\n",
       "    }\n",
       "\n",
       "    .dataframe tbody tr th {\n",
       "        vertical-align: top;\n",
       "    }\n",
       "\n",
       "    .dataframe thead th {\n",
       "        text-align: right;\n",
       "    }\n",
       "</style>\n",
       "<table border=\"1\" class=\"dataframe\">\n",
       "  <thead>\n",
       "    <tr style=\"text-align: right;\">\n",
       "      <th></th>\n",
       "      <th>imdb_id</th>\n",
       "      <th>title</th>\n",
       "      <th>date</th>\n",
       "    </tr>\n",
       "  </thead>\n",
       "  <tbody>\n",
       "    <tr>\n",
       "      <td>0</td>\n",
       "      <td>tt0848228</td>\n",
       "      <td>The Avengers</td>\n",
       "      <td>2012-04-25</td>\n",
       "    </tr>\n",
       "    <tr>\n",
       "      <td>1</td>\n",
       "      <td>tt4154796</td>\n",
       "      <td>Avengers: Endgame</td>\n",
       "      <td>2019-04-24</td>\n",
       "    </tr>\n",
       "  </tbody>\n",
       "</table>\n",
       "</div>"
      ],
      "text/plain": [
       "     imdb_id              title        date\n",
       "0  tt0848228       The Avengers  2012-04-25\n",
       "1  tt4154796  Avengers: Endgame  2019-04-24"
      ]
     },
     "metadata": {},
     "output_type": "display_data"
    },
    {
     "data": {
      "text/plain": [
       "14466"
      ]
     },
     "metadata": {},
     "output_type": "display_data"
    }
   ],
   "source": [
    "revenue = pd.read_csv('Data/revenue.csv')\n",
    "# credit: Jesse Newman for web scraping\n",
    "# renamed file of given data\n",
    "date = pd.read_csv('Data/date.csv')\n",
    "display(revenue.head(2), len(revenue))\n",
    "display(date.head(2), len(date))"
   ]
  },
  {
   "cell_type": "code",
   "execution_count": 28,
   "metadata": {},
   "outputs": [],
   "source": [
    "# clean region_code\n",
    "revenue['region_code'] = revenue['region_code'].str.replace('\\[', '')\n",
    "revenue['region_code'] = revenue['region_code'].str.replace('\\]', '')\n",
    "revenue.drop('rank', axis=1, inplace=True)\n",
    "revenue['imdb_id'].fillna(value='unknown', inplace=True)\n",
    "revenue = revenue[revenue.imdb_id != 'unknown']\n",
    "revenue['genres'].fillna(value='unknown', inplace=True)\n",
    "revenue['director'].fillna(value='unknown', inplace=True)\n",
    "revenue['region_code'].fillna(value='unknown', inplace=True)\n",
    "# display(revenue.head(2))"
   ]
  },
  {
   "cell_type": "code",
   "execution_count": 29,
   "metadata": {},
   "outputs": [
    {
     "name": "stdout",
     "output_type": "stream",
     "text": [
      "<class 'pandas.core.frame.DataFrame'>\n",
      "Int64Index: 10000 entries, 0 to 9999\n",
      "Data columns (total 8 columns):\n",
      "imdb_id        10000 non-null object\n",
      "title          10000 non-null object\n",
      "year           10000 non-null int64\n",
      "director       10000 non-null object\n",
      "region_code    10000 non-null object\n",
      "budget_usd     10000 non-null float64\n",
      "us_gross       10000 non-null float64\n",
      "genres         10000 non-null object\n",
      "dtypes: float64(2), int64(1), object(5)\n",
      "memory usage: 703.1+ KB\n"
     ]
    },
    {
     "data": {
      "text/plain": [
       "None"
      ]
     },
     "metadata": {},
     "output_type": "display_data"
    },
    {
     "name": "stdout",
     "output_type": "stream",
     "text": [
      "<class 'pandas.core.frame.DataFrame'>\n",
      "RangeIndex: 14466 entries, 0 to 14465\n",
      "Data columns (total 3 columns):\n",
      "imdb_id    14466 non-null object\n",
      "title      14466 non-null object\n",
      "date       14466 non-null object\n",
      "dtypes: object(3)\n",
      "memory usage: 339.2+ KB\n"
     ]
    },
    {
     "data": {
      "text/plain": [
       "None"
      ]
     },
     "metadata": {},
     "output_type": "display_data"
    }
   ],
   "source": [
    "display(revenue.info())\n",
    "display(date.info())"
   ]
  },
  {
   "cell_type": "markdown",
   "metadata": {},
   "source": [
    "## Movie budget and gross revenue "
   ]
  },
  {
   "cell_type": "code",
   "execution_count": 30,
   "metadata": {
    "scrolled": true
   },
   "outputs": [
    {
     "data": {
      "text/html": [
       "<div>\n",
       "<style scoped>\n",
       "    .dataframe tbody tr th:only-of-type {\n",
       "        vertical-align: middle;\n",
       "    }\n",
       "\n",
       "    .dataframe tbody tr th {\n",
       "        vertical-align: top;\n",
       "    }\n",
       "\n",
       "    .dataframe thead th {\n",
       "        text-align: right;\n",
       "    }\n",
       "</style>\n",
       "<table border=\"1\" class=\"dataframe\">\n",
       "  <thead>\n",
       "    <tr style=\"text-align: right;\">\n",
       "      <th></th>\n",
       "      <th>imdb_id</th>\n",
       "      <th>title</th>\n",
       "      <th>year</th>\n",
       "      <th>director</th>\n",
       "      <th>region_code</th>\n",
       "      <th>budget_usd</th>\n",
       "      <th>us_gross</th>\n",
       "      <th>genres</th>\n",
       "    </tr>\n",
       "  </thead>\n",
       "  <tbody>\n",
       "    <tr>\n",
       "      <td>1107</td>\n",
       "      <td>tt0091326</td>\n",
       "      <td>The Karate Kid Part II</td>\n",
       "      <td>1986</td>\n",
       "      <td>John G. Avildsen</td>\n",
       "      <td>US</td>\n",
       "      <td>-1.0</td>\n",
       "      <td>115000000.0</td>\n",
       "      <td>Action, Family, Romance</td>\n",
       "    </tr>\n",
       "    <tr>\n",
       "      <td>3733</td>\n",
       "      <td>tt0034492</td>\n",
       "      <td>Bambi</td>\n",
       "      <td>1942</td>\n",
       "      <td>James Algar</td>\n",
       "      <td>US</td>\n",
       "      <td>-1.0</td>\n",
       "      <td>102000000.0</td>\n",
       "      <td>Animation, Drama, Family</td>\n",
       "    </tr>\n",
       "    <tr>\n",
       "      <td>4356</td>\n",
       "      <td>tt0082846</td>\n",
       "      <td>On Golden Pond</td>\n",
       "      <td>1981</td>\n",
       "      <td>Mark Rydell</td>\n",
       "      <td>unknown</td>\n",
       "      <td>-1.0</td>\n",
       "      <td>119000000.0</td>\n",
       "      <td>Drama</td>\n",
       "    </tr>\n",
       "    <tr>\n",
       "      <td>4682</td>\n",
       "      <td>tt0486946</td>\n",
       "      <td>Wild Hogs</td>\n",
       "      <td>2007</td>\n",
       "      <td>Walt Becker</td>\n",
       "      <td>US</td>\n",
       "      <td>-1.0</td>\n",
       "      <td>168000000.0</td>\n",
       "      <td>Action, Adventure, Comedy</td>\n",
       "    </tr>\n",
       "    <tr>\n",
       "      <td>5995</td>\n",
       "      <td>tt0081562</td>\n",
       "      <td>Stir Crazy</td>\n",
       "      <td>1980</td>\n",
       "      <td>Sidney Poitier</td>\n",
       "      <td>US</td>\n",
       "      <td>-1.0</td>\n",
       "      <td>101000000.0</td>\n",
       "      <td>Comedy, Crime</td>\n",
       "    </tr>\n",
       "  </tbody>\n",
       "</table>\n",
       "</div>"
      ],
      "text/plain": [
       "        imdb_id                   title  year          director region_code  \\\n",
       "1107  tt0091326  The Karate Kid Part II  1986  John G. Avildsen          US   \n",
       "3733  tt0034492                   Bambi  1942       James Algar          US   \n",
       "4356  tt0082846          On Golden Pond  1981       Mark Rydell     unknown   \n",
       "4682  tt0486946               Wild Hogs  2007       Walt Becker          US   \n",
       "5995  tt0081562              Stir Crazy  1980    Sidney Poitier          US   \n",
       "\n",
       "      budget_usd     us_gross                     genres  \n",
       "1107        -1.0  115000000.0    Action, Family, Romance  \n",
       "3733        -1.0  102000000.0   Animation, Drama, Family  \n",
       "4356        -1.0  119000000.0                      Drama  \n",
       "4682        -1.0  168000000.0  Action, Adventure, Comedy  \n",
       "5995        -1.0  101000000.0              Comedy, Crime  "
      ]
     },
     "metadata": {},
     "output_type": "display_data"
    },
    {
     "data": {
      "text/plain": [
       "count    1.000000e+04\n",
       "mean     2.119376e+07\n",
       "std      1.539497e+08\n",
       "min     -1.000000e+00\n",
       "25%     -1.000000e+00\n",
       "50%      4.500000e+06\n",
       "75%      2.500000e+07\n",
       "max      1.500000e+10\n",
       "Name: budget_usd, dtype: float64"
      ]
     },
     "metadata": {},
     "output_type": "display_data"
    },
    {
     "data": {
      "text/plain": [
       "3233"
      ]
     },
     "metadata": {},
     "output_type": "display_data"
    },
    {
     "data": {
      "text/plain": [
       "count    1.000000e+04\n",
       "mean     2.767767e+07\n",
       "std      5.780555e+07\n",
       "min     -1.000000e+00\n",
       "25%     -1.000000e+00\n",
       "50%      2.800000e+06\n",
       "75%      3.200000e+07\n",
       "max      9.370000e+08\n",
       "Name: us_gross, dtype: float64"
      ]
     },
     "metadata": {},
     "output_type": "display_data"
    }
   ],
   "source": [
    "# budget_usd   us_gross\n",
    "#display(revenue.loc[revenue.budget_usd == -1]['budget_usd'].count())\n",
    "display(revenue.loc[(revenue.budget_usd == -1)\n",
    "                    & (revenue.us_gross > 100000000)])\n",
    "display(revenue.budget_usd.describe())\n",
    "display(revenue.loc[revenue.us_gross < 0]['us_gross'].count())\n",
    "display(revenue.us_gross.describe())"
   ]
  },
  {
   "cell_type": "markdown",
   "metadata": {},
   "source": [
    "To understand the profitability of the movie both gross revenue and budget is needed. In this dataset with 14,431 entries, 6,534 entries do not have budget information. However, movies like <b>Wild Hogs</b> (\\$ 168 million) and <b>Bambi</b> (\\$ 102 million) clearly had boxoffice success. Thus, eliminating those data at this stage might not be predent. "
   ]
  },
  {
   "cell_type": "markdown",
   "metadata": {},
   "source": [
    "## Join date, runtime and rating to  revenue DataFrame"
   ]
  },
  {
   "cell_type": "code",
   "execution_count": 31,
   "metadata": {},
   "outputs": [
    {
     "data": {
      "text/html": [
       "<div>\n",
       "<style scoped>\n",
       "    .dataframe tbody tr th:only-of-type {\n",
       "        vertical-align: middle;\n",
       "    }\n",
       "\n",
       "    .dataframe tbody tr th {\n",
       "        vertical-align: top;\n",
       "    }\n",
       "\n",
       "    .dataframe thead th {\n",
       "        text-align: right;\n",
       "    }\n",
       "</style>\n",
       "<table border=\"1\" class=\"dataframe\">\n",
       "  <thead>\n",
       "    <tr style=\"text-align: right;\">\n",
       "      <th></th>\n",
       "      <th>imdb_id</th>\n",
       "      <th>title</th>\n",
       "      <th>year</th>\n",
       "      <th>director</th>\n",
       "      <th>region_code</th>\n",
       "      <th>budget_usd</th>\n",
       "      <th>us_gross</th>\n",
       "      <th>genres</th>\n",
       "      <th>date</th>\n",
       "    </tr>\n",
       "  </thead>\n",
       "  <tbody>\n",
       "    <tr>\n",
       "      <td>0</td>\n",
       "      <td>tt0004972</td>\n",
       "      <td>The Birth of a Nation</td>\n",
       "      <td>1915</td>\n",
       "      <td>D.W. Griffith</td>\n",
       "      <td>US</td>\n",
       "      <td>100000.0</td>\n",
       "      <td>-1.0</td>\n",
       "      <td>Drama, History, War</td>\n",
       "      <td>NaN</td>\n",
       "    </tr>\n",
       "    <tr>\n",
       "      <td>1</td>\n",
       "      <td>tt0010323</td>\n",
       "      <td>The Cabinet of Dr. Caligari</td>\n",
       "      <td>1920</td>\n",
       "      <td>Robert Wiene</td>\n",
       "      <td>DE</td>\n",
       "      <td>18000.0</td>\n",
       "      <td>9000.0</td>\n",
       "      <td>Fantasy, Horror, Mystery</td>\n",
       "      <td>NaN</td>\n",
       "    </tr>\n",
       "    <tr>\n",
       "      <td>2</td>\n",
       "      <td>tt0012349</td>\n",
       "      <td>The Kid</td>\n",
       "      <td>1921</td>\n",
       "      <td>Charles Chaplin</td>\n",
       "      <td>US</td>\n",
       "      <td>250000.0</td>\n",
       "      <td>-1.0</td>\n",
       "      <td>Comedy, Drama, Family</td>\n",
       "      <td>NaN</td>\n",
       "    </tr>\n",
       "  </tbody>\n",
       "</table>\n",
       "</div>"
      ],
      "text/plain": [
       "     imdb_id                        title  year         director region_code  \\\n",
       "0  tt0004972        The Birth of a Nation  1915    D.W. Griffith          US   \n",
       "1  tt0010323  The Cabinet of Dr. Caligari  1920     Robert Wiene          DE   \n",
       "2  tt0012349                      The Kid  1921  Charles Chaplin          US   \n",
       "\n",
       "   budget_usd  us_gross                    genres date  \n",
       "0    100000.0      -1.0       Drama, History, War  NaN  \n",
       "1     18000.0    9000.0  Fantasy, Horror, Mystery  NaN  \n",
       "2    250000.0      -1.0     Comedy, Drama, Family  NaN  "
      ]
     },
     "metadata": {},
     "output_type": "display_data"
    }
   ],
   "source": [
    "# joining date to the revenue table\n",
    "date.drop(['title'], axis=1, inplace=True)\n",
    "date.sort_values(by=['imdb_id'], inplace=False)\n",
    "revenue.sort_values(by=['imdb_id'], inplace=False)\n",
    "date.set_index('imdb_id', inplace=True)\n",
    "revenue.set_index('imdb_id', inplace=True)\n",
    "revenue = revenue.join(date, how='left', lsuffix='1', rsuffix='1',  sort=True)\n",
    "date.reset_index('imdb_id', inplace=True)\n",
    "revenue.reset_index('imdb_id', inplace=True)\n",
    "# clean date\n",
    "#revenue['date'] = revenue['date'].astype('datetime64[ns]')\n",
    "display(revenue.head(3))"
   ]
  },
  {
   "cell_type": "code",
   "execution_count": 32,
   "metadata": {},
   "outputs": [
    {
     "data": {
      "text/html": [
       "<div>\n",
       "<style scoped>\n",
       "    .dataframe tbody tr th:only-of-type {\n",
       "        vertical-align: middle;\n",
       "    }\n",
       "\n",
       "    .dataframe tbody tr th {\n",
       "        vertical-align: top;\n",
       "    }\n",
       "\n",
       "    .dataframe thead th {\n",
       "        text-align: right;\n",
       "    }\n",
       "</style>\n",
       "<table border=\"1\" class=\"dataframe\">\n",
       "  <thead>\n",
       "    <tr style=\"text-align: right;\">\n",
       "      <th></th>\n",
       "      <th>imdb_id</th>\n",
       "      <th>title</th>\n",
       "      <th>year</th>\n",
       "      <th>director</th>\n",
       "      <th>region_code</th>\n",
       "      <th>budget_usd</th>\n",
       "      <th>us_gross</th>\n",
       "      <th>genres</th>\n",
       "      <th>date</th>\n",
       "      <th>runtime_minutes</th>\n",
       "    </tr>\n",
       "  </thead>\n",
       "  <tbody>\n",
       "    <tr>\n",
       "      <td>0</td>\n",
       "      <td>tt0004972</td>\n",
       "      <td>The Birth of a Nation</td>\n",
       "      <td>1915</td>\n",
       "      <td>D.W. Griffith</td>\n",
       "      <td>US</td>\n",
       "      <td>100000.0</td>\n",
       "      <td>-1.0</td>\n",
       "      <td>Drama, History, War</td>\n",
       "      <td>NaN</td>\n",
       "      <td>NaN</td>\n",
       "    </tr>\n",
       "    <tr>\n",
       "      <td>1</td>\n",
       "      <td>tt0010323</td>\n",
       "      <td>The Cabinet of Dr. Caligari</td>\n",
       "      <td>1920</td>\n",
       "      <td>Robert Wiene</td>\n",
       "      <td>DE</td>\n",
       "      <td>18000.0</td>\n",
       "      <td>9000.0</td>\n",
       "      <td>Fantasy, Horror, Mystery</td>\n",
       "      <td>NaN</td>\n",
       "      <td>NaN</td>\n",
       "    </tr>\n",
       "    <tr>\n",
       "      <td>2</td>\n",
       "      <td>tt0012349</td>\n",
       "      <td>The Kid</td>\n",
       "      <td>1921</td>\n",
       "      <td>Charles Chaplin</td>\n",
       "      <td>US</td>\n",
       "      <td>250000.0</td>\n",
       "      <td>-1.0</td>\n",
       "      <td>Comedy, Drama, Family</td>\n",
       "      <td>NaN</td>\n",
       "      <td>NaN</td>\n",
       "    </tr>\n",
       "  </tbody>\n",
       "</table>\n",
       "</div>"
      ],
      "text/plain": [
       "     imdb_id                        title  year         director region_code  \\\n",
       "0  tt0004972        The Birth of a Nation  1915    D.W. Griffith          US   \n",
       "1  tt0010323  The Cabinet of Dr. Caligari  1920     Robert Wiene          DE   \n",
       "2  tt0012349                      The Kid  1921  Charles Chaplin          US   \n",
       "\n",
       "   budget_usd  us_gross                    genres date  runtime_minutes  \n",
       "0    100000.0      -1.0       Drama, History, War  NaN              NaN  \n",
       "1     18000.0    9000.0  Fantasy, Horror, Mystery  NaN              NaN  \n",
       "2    250000.0      -1.0     Comedy, Drama, Family  NaN              NaN  "
      ]
     },
     "metadata": {},
     "output_type": "display_data"
    }
   ],
   "source": [
    "# joining runtime to the revenue table\n",
    "tbasics.drop(['primary_title', 'original_title',\n",
    "              'year', 'genres'], axis=1, inplace=True)\n",
    "tbasics.sort_values(by=['imdb_id'], inplace=False)\n",
    "revenue.sort_values(by=['imdb_id'], inplace=False)\n",
    "tbasics.set_index('imdb_id', inplace=True)\n",
    "revenue.set_index('imdb_id', inplace=True)\n",
    "revenue = revenue.join(tbasics, how='left', lsuffix='1',\n",
    "                       rsuffix='1',  sort=True)\n",
    "tbasics.reset_index('imdb_id', inplace=True)\n",
    "revenue.reset_index('imdb_id', inplace=True)\n",
    "display(revenue.head(3))"
   ]
  },
  {
   "cell_type": "code",
   "execution_count": 33,
   "metadata": {},
   "outputs": [
    {
     "data": {
      "text/html": [
       "<div>\n",
       "<style scoped>\n",
       "    .dataframe tbody tr th:only-of-type {\n",
       "        vertical-align: middle;\n",
       "    }\n",
       "\n",
       "    .dataframe tbody tr th {\n",
       "        vertical-align: top;\n",
       "    }\n",
       "\n",
       "    .dataframe thead th {\n",
       "        text-align: right;\n",
       "    }\n",
       "</style>\n",
       "<table border=\"1\" class=\"dataframe\">\n",
       "  <thead>\n",
       "    <tr style=\"text-align: right;\">\n",
       "      <th></th>\n",
       "      <th>imdb_id</th>\n",
       "      <th>title</th>\n",
       "      <th>year</th>\n",
       "      <th>director</th>\n",
       "      <th>region_code</th>\n",
       "      <th>budget_usd</th>\n",
       "      <th>us_gross</th>\n",
       "      <th>genres</th>\n",
       "      <th>date</th>\n",
       "      <th>runtime_minutes</th>\n",
       "      <th>averagerating</th>\n",
       "    </tr>\n",
       "  </thead>\n",
       "  <tbody>\n",
       "    <tr>\n",
       "      <td>0</td>\n",
       "      <td>tt0004972</td>\n",
       "      <td>The Birth of a Nation</td>\n",
       "      <td>1915</td>\n",
       "      <td>D.W. Griffith</td>\n",
       "      <td>US</td>\n",
       "      <td>100000.0</td>\n",
       "      <td>-1.0</td>\n",
       "      <td>Drama, History, War</td>\n",
       "      <td>NaN</td>\n",
       "      <td>NaN</td>\n",
       "      <td>NaN</td>\n",
       "    </tr>\n",
       "    <tr>\n",
       "      <td>1</td>\n",
       "      <td>tt0010323</td>\n",
       "      <td>The Cabinet of Dr. Caligari</td>\n",
       "      <td>1920</td>\n",
       "      <td>Robert Wiene</td>\n",
       "      <td>DE</td>\n",
       "      <td>18000.0</td>\n",
       "      <td>9000.0</td>\n",
       "      <td>Fantasy, Horror, Mystery</td>\n",
       "      <td>NaN</td>\n",
       "      <td>NaN</td>\n",
       "      <td>NaN</td>\n",
       "    </tr>\n",
       "    <tr>\n",
       "      <td>2</td>\n",
       "      <td>tt0012349</td>\n",
       "      <td>The Kid</td>\n",
       "      <td>1921</td>\n",
       "      <td>Charles Chaplin</td>\n",
       "      <td>US</td>\n",
       "      <td>250000.0</td>\n",
       "      <td>-1.0</td>\n",
       "      <td>Comedy, Drama, Family</td>\n",
       "      <td>NaN</td>\n",
       "      <td>NaN</td>\n",
       "      <td>NaN</td>\n",
       "    </tr>\n",
       "  </tbody>\n",
       "</table>\n",
       "</div>"
      ],
      "text/plain": [
       "     imdb_id                        title  year         director region_code  \\\n",
       "0  tt0004972        The Birth of a Nation  1915    D.W. Griffith          US   \n",
       "1  tt0010323  The Cabinet of Dr. Caligari  1920     Robert Wiene          DE   \n",
       "2  tt0012349                      The Kid  1921  Charles Chaplin          US   \n",
       "\n",
       "   budget_usd  us_gross                    genres date  runtime_minutes  \\\n",
       "0    100000.0      -1.0       Drama, History, War  NaN              NaN   \n",
       "1     18000.0    9000.0  Fantasy, Horror, Mystery  NaN              NaN   \n",
       "2    250000.0      -1.0     Comedy, Drama, Family  NaN              NaN   \n",
       "\n",
       "   averagerating  \n",
       "0            NaN  \n",
       "1            NaN  \n",
       "2            NaN  "
      ]
     },
     "metadata": {},
     "output_type": "display_data"
    }
   ],
   "source": [
    "# joining ratings to the revenue table\n",
    "ratings.drop(['numvotes'], axis=1, inplace=True)\n",
    "ratings.sort_values(by=['imdb_id'], inplace=False)\n",
    "revenue.sort_values(by=['imdb_id'], inplace=False)\n",
    "ratings.set_index('imdb_id', inplace=True)\n",
    "revenue.set_index('imdb_id', inplace=True)\n",
    "revenue = revenue.join(ratings, how='left', lsuffix='1',\n",
    "                       rsuffix='1',  sort=True)\n",
    "ratings.reset_index('imdb_id', inplace=True)\n",
    "revenue.reset_index('imdb_id', inplace=True)\n",
    "display(revenue.head(3))"
   ]
  },
  {
   "cell_type": "code",
   "execution_count": 34,
   "metadata": {},
   "outputs": [],
   "source": [
    "revenue.to_csv('Data/movie_main.csv', index=False)"
   ]
  },
  {
   "cell_type": "code",
   "execution_count": 35,
   "metadata": {},
   "outputs": [
    {
     "data": {
      "text/html": [
       "<div>\n",
       "<style scoped>\n",
       "    .dataframe tbody tr th:only-of-type {\n",
       "        vertical-align: middle;\n",
       "    }\n",
       "\n",
       "    .dataframe tbody tr th {\n",
       "        vertical-align: top;\n",
       "    }\n",
       "\n",
       "    .dataframe thead th {\n",
       "        text-align: right;\n",
       "    }\n",
       "</style>\n",
       "<table border=\"1\" class=\"dataframe\">\n",
       "  <thead>\n",
       "    <tr style=\"text-align: right;\">\n",
       "      <th></th>\n",
       "      <th>imdb_id</th>\n",
       "      <th>title</th>\n",
       "      <th>year</th>\n",
       "      <th>director</th>\n",
       "      <th>region_code</th>\n",
       "      <th>budget_usd</th>\n",
       "      <th>us_gross</th>\n",
       "      <th>genres</th>\n",
       "      <th>date</th>\n",
       "      <th>runtime_minutes</th>\n",
       "      <th>averagerating</th>\n",
       "    </tr>\n",
       "  </thead>\n",
       "  <tbody>\n",
       "    <tr>\n",
       "      <td>0</td>\n",
       "      <td>tt0004972</td>\n",
       "      <td>The Birth of a Nation</td>\n",
       "      <td>1915</td>\n",
       "      <td>D.W. Griffith</td>\n",
       "      <td>US</td>\n",
       "      <td>100000.0</td>\n",
       "      <td>-1.0</td>\n",
       "      <td>Drama, History, War</td>\n",
       "      <td>NaN</td>\n",
       "      <td>NaN</td>\n",
       "      <td>NaN</td>\n",
       "    </tr>\n",
       "    <tr>\n",
       "      <td>1</td>\n",
       "      <td>tt0010323</td>\n",
       "      <td>The Cabinet of Dr. Caligari</td>\n",
       "      <td>1920</td>\n",
       "      <td>Robert Wiene</td>\n",
       "      <td>DE</td>\n",
       "      <td>18000.0</td>\n",
       "      <td>9000.0</td>\n",
       "      <td>Fantasy, Horror, Mystery</td>\n",
       "      <td>NaN</td>\n",
       "      <td>NaN</td>\n",
       "      <td>NaN</td>\n",
       "    </tr>\n",
       "    <tr>\n",
       "      <td>2</td>\n",
       "      <td>tt0012349</td>\n",
       "      <td>The Kid</td>\n",
       "      <td>1921</td>\n",
       "      <td>Charles Chaplin</td>\n",
       "      <td>US</td>\n",
       "      <td>250000.0</td>\n",
       "      <td>-1.0</td>\n",
       "      <td>Comedy, Drama, Family</td>\n",
       "      <td>NaN</td>\n",
       "      <td>NaN</td>\n",
       "      <td>NaN</td>\n",
       "    </tr>\n",
       "    <tr>\n",
       "      <td>3</td>\n",
       "      <td>tt0013257</td>\n",
       "      <td>Häxan</td>\n",
       "      <td>1922</td>\n",
       "      <td>Benjamin Christensen</td>\n",
       "      <td>unknown</td>\n",
       "      <td>2000000.0</td>\n",
       "      <td>-1.0</td>\n",
       "      <td>Fantasy, History, Horror</td>\n",
       "      <td>NaN</td>\n",
       "      <td>NaN</td>\n",
       "      <td>NaN</td>\n",
       "    </tr>\n",
       "    <tr>\n",
       "      <td>4</td>\n",
       "      <td>tt0013442</td>\n",
       "      <td>Nosferatu</td>\n",
       "      <td>1922</td>\n",
       "      <td>F.W. Murnau</td>\n",
       "      <td>DE</td>\n",
       "      <td>-1.0</td>\n",
       "      <td>-1.0</td>\n",
       "      <td>Fantasy, Horror</td>\n",
       "      <td>NaN</td>\n",
       "      <td>NaN</td>\n",
       "      <td>NaN</td>\n",
       "    </tr>\n",
       "    <tr>\n",
       "      <td>5</td>\n",
       "      <td>tt0015324</td>\n",
       "      <td>Sherlock Jr.</td>\n",
       "      <td>1924</td>\n",
       "      <td>Buster Keaton</td>\n",
       "      <td>US</td>\n",
       "      <td>-1.0</td>\n",
       "      <td>-1.0</td>\n",
       "      <td>Action, Comedy, Romance</td>\n",
       "      <td>NaN</td>\n",
       "      <td>NaN</td>\n",
       "      <td>NaN</td>\n",
       "    </tr>\n",
       "    <tr>\n",
       "      <td>6</td>\n",
       "      <td>tt0015648</td>\n",
       "      <td>Battleship Potemkin</td>\n",
       "      <td>1925</td>\n",
       "      <td>Sergei M. Eisenstein</td>\n",
       "      <td>SUHH</td>\n",
       "      <td>-1.0</td>\n",
       "      <td>51000.0</td>\n",
       "      <td>Drama, History, Thriller</td>\n",
       "      <td>1925-12-24</td>\n",
       "      <td>NaN</td>\n",
       "      <td>NaN</td>\n",
       "    </tr>\n",
       "    <tr>\n",
       "      <td>7</td>\n",
       "      <td>tt0015864</td>\n",
       "      <td>The Gold Rush</td>\n",
       "      <td>1925</td>\n",
       "      <td>Charles Chaplin</td>\n",
       "      <td>US</td>\n",
       "      <td>923000.0</td>\n",
       "      <td>-1.0</td>\n",
       "      <td>Adventure, Comedy, Drama</td>\n",
       "      <td>NaN</td>\n",
       "      <td>NaN</td>\n",
       "      <td>NaN</td>\n",
       "    </tr>\n",
       "    <tr>\n",
       "      <td>8</td>\n",
       "      <td>tt0016220</td>\n",
       "      <td>The Phantom of the Opera</td>\n",
       "      <td>1925</td>\n",
       "      <td>Rupert Julian</td>\n",
       "      <td>US</td>\n",
       "      <td>-1.0</td>\n",
       "      <td>-1.0</td>\n",
       "      <td>Horror</td>\n",
       "      <td>NaN</td>\n",
       "      <td>NaN</td>\n",
       "      <td>NaN</td>\n",
       "    </tr>\n",
       "    <tr>\n",
       "      <td>9</td>\n",
       "      <td>tt0016630</td>\n",
       "      <td>Battling Butler</td>\n",
       "      <td>1926</td>\n",
       "      <td>Buster Keaton</td>\n",
       "      <td>US</td>\n",
       "      <td>-1.0</td>\n",
       "      <td>-1.0</td>\n",
       "      <td>Action, Comedy, Romance</td>\n",
       "      <td>NaN</td>\n",
       "      <td>NaN</td>\n",
       "      <td>NaN</td>\n",
       "    </tr>\n",
       "  </tbody>\n",
       "</table>\n",
       "</div>"
      ],
      "text/plain": [
       "     imdb_id                        title  year              director  \\\n",
       "0  tt0004972        The Birth of a Nation  1915         D.W. Griffith   \n",
       "1  tt0010323  The Cabinet of Dr. Caligari  1920          Robert Wiene   \n",
       "2  tt0012349                      The Kid  1921       Charles Chaplin   \n",
       "3  tt0013257                        Häxan  1922  Benjamin Christensen   \n",
       "4  tt0013442                    Nosferatu  1922           F.W. Murnau   \n",
       "5  tt0015324                 Sherlock Jr.  1924         Buster Keaton   \n",
       "6  tt0015648          Battleship Potemkin  1925  Sergei M. Eisenstein   \n",
       "7  tt0015864                The Gold Rush  1925       Charles Chaplin   \n",
       "8  tt0016220     The Phantom of the Opera  1925         Rupert Julian   \n",
       "9  tt0016630              Battling Butler  1926         Buster Keaton   \n",
       "\n",
       "  region_code  budget_usd  us_gross                    genres        date  \\\n",
       "0          US    100000.0      -1.0       Drama, History, War         NaN   \n",
       "1          DE     18000.0    9000.0  Fantasy, Horror, Mystery         NaN   \n",
       "2          US    250000.0      -1.0     Comedy, Drama, Family         NaN   \n",
       "3     unknown   2000000.0      -1.0  Fantasy, History, Horror         NaN   \n",
       "4          DE        -1.0      -1.0           Fantasy, Horror         NaN   \n",
       "5          US        -1.0      -1.0   Action, Comedy, Romance         NaN   \n",
       "6        SUHH        -1.0   51000.0  Drama, History, Thriller  1925-12-24   \n",
       "7          US    923000.0      -1.0  Adventure, Comedy, Drama         NaN   \n",
       "8          US        -1.0      -1.0                    Horror         NaN   \n",
       "9          US        -1.0      -1.0   Action, Comedy, Romance         NaN   \n",
       "\n",
       "   runtime_minutes  averagerating  \n",
       "0              NaN            NaN  \n",
       "1              NaN            NaN  \n",
       "2              NaN            NaN  \n",
       "3              NaN            NaN  \n",
       "4              NaN            NaN  \n",
       "5              NaN            NaN  \n",
       "6              NaN            NaN  \n",
       "7              NaN            NaN  \n",
       "8              NaN            NaN  \n",
       "9              NaN            NaN  "
      ]
     },
     "execution_count": 35,
     "metadata": {},
     "output_type": "execute_result"
    }
   ],
   "source": [
    "revenue.head(10)"
   ]
  },
  {
   "cell_type": "code",
   "execution_count": null,
   "metadata": {},
   "outputs": [],
   "source": []
  }
 ],
 "metadata": {
  "kernelspec": {
   "display_name": "Python [conda env:learn-env] *",
   "language": "python",
   "name": "conda-env-learn-env-py"
  },
  "language_info": {
   "codemirror_mode": {
    "name": "ipython",
    "version": 3
   },
   "file_extension": ".py",
   "mimetype": "text/x-python",
   "name": "python",
   "nbconvert_exporter": "python",
   "pygments_lexer": "ipython3",
   "version": "3.6.9"
  },
  "toc": {
   "base_numbering": 1,
   "nav_menu": {},
   "number_sections": true,
   "sideBar": true,
   "skip_h1_title": true,
   "title_cell": "Table of Contents",
   "title_sidebar": "Contents",
   "toc_cell": false,
   "toc_position": {},
   "toc_section_display": true,
   "toc_window_display": false
  }
 },
 "nbformat": 4,
 "nbformat_minor": 2
}
