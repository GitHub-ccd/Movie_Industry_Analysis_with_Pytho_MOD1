{
 "cells": [
  {
   "cell_type": "markdown",
   "metadata": {},
   "source": [
    "# MOD_1 movie databases and other links\n",
    "\n",
    "followin are the links to important websites. "
   ]
  },
  {
   "cell_type": "markdown",
   "metadata": {},
   "source": [
    "## Movie datsets and databases\n",
    "\n",
    "[The-numbers](https://www.the-numbers.com/movie/budgets/all)\n",
    "\n",
    "[IMDB](https://www.imdb.com/interfaces/)\n",
    "[IMDB dataset](https://datasets.imdbws.com/)\n",
    "\n",
    "[Wikipedia_netflix](https://en.wikipedia.org/wiki/Netflix)\n",
    "\n",
    "[IMDB API framework](https://github.com/alberanid/imdbpy)\n",
    "\n",
    "[TBDM profile](https://www.themoviedb.org/settings/api)\n",
    "[TBDM API documentation](https://developers.themoviedb.org/3/find/find-by-id)\n",
    "[tmdbsimple API framework](https://github.com/celiao/tmdbsimple/)\n",
    "\n"
   ]
  },
  {
   "cell_type": "markdown",
   "metadata": {},
   "source": [
    "## 2. APIs and frameworks\n",
    "\n",
    "[DB diagrem](https://app.sqldbm.com/MySQL/Edit/p102789/#)\n",
    "[Genre Measure Metric](https://cultureplot.com/film-genres/#methodology)\n",
    "[Genre Measure Metric github](https://github.com/GitHub-ccd/Measuring-Film-Genres)"
   ]
  },
  {
   "cell_type": "markdown",
   "metadata": {},
   "source": [
    "## 3. projects\n",
    "\n",
    "[IMDB-data mining algorithms-kaggle](https://www.kaggle.com/carolzhangdc/predict-imdb-score-with-data-mining-algorithms)\n",
    "[Jesse Numan](https://github.com/Jesse989/movie-analysis)\n"
   ]
  },
  {
   "cell_type": "code",
   "execution_count": null,
   "metadata": {},
   "outputs": [],
   "source": []
  }
 ],
 "metadata": {
  "kernelspec": {
   "display_name": "Python 3",
   "language": "python",
   "name": "python3"
  },
  "language_info": {
   "codemirror_mode": {
    "name": "ipython",
    "version": 3
   },
   "file_extension": ".py",
   "mimetype": "text/x-python",
   "name": "python",
   "nbconvert_exporter": "python",
   "pygments_lexer": "ipython3",
   "version": "3.6.9"
  },
  "toc": {
   "base_numbering": 1,
   "nav_menu": {},
   "number_sections": true,
   "sideBar": true,
   "skip_h1_title": true,
   "title_cell": "Table of Contents",
   "title_sidebar": "Contents",
   "toc_cell": false,
   "toc_position": {},
   "toc_section_display": true,
   "toc_window_display": false
  }
 },
 "nbformat": 4,
 "nbformat_minor": 2
}
